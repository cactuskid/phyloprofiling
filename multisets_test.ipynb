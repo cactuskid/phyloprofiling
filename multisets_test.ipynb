{
 "cells": [
  {
   "cell_type": "code",
   "execution_count": 1,
   "metadata": {},
   "outputs": [],
   "source": [
    "import datasketch \n",
    "import numpy as np\n",
    "import time\n"
   ]
  },
  {
   "cell_type": "code",
   "execution_count": 26,
   "metadata": {},
   "outputs": [
    {
     "name": "stdout",
     "output_type": "stream",
     "text": [
      "Estimated Jaccard is 0.51171875\n"
     ]
    }
   ],
   "source": [
    "from datasketch import WeightedMinHashGenerator\n",
    "\n",
    "v1 = 1000 *[.5]\n",
    "v2 = 1000 * [1]\n",
    "\n",
    "# WeightedMinHashGenerator requires dimension as the first argument\n",
    "wmg = WeightedMinHashGenerator(1000, sample_size=512, seed=12)\n",
    "\n",
    "wm1 = wmg.minhash(v1) # wm1 is of the type WeightedMinHash\n",
    "wm2 = wmg.minhash(v2)\n",
    "print(\"Estimated Jaccard is\", wm1.jaccard(wm2))\n",
    "\n"
   ]
  },
  {
   "cell_type": "code",
   "execution_count": 8,
   "metadata": {},
   "outputs": [],
   "source": [
    "#each hog has 4000 taxonomic elements\n",
    "#total weigh is 1 \n",
    "\n",
    "#spread out the hog over its taxonomic range \n",
    "#give more weight to certain events/levels\n",
    "\n",
    "#score over the HOG -> normalize\n",
    "\n",
    "from ete3 import NCBITaxa\n",
    "ncbi = NCBITaxa()\n",
    "\n",
    "descendants = ncbi.get_descendant_taxa('Mammalia',collapse_subspecies=True, return_tree=True)\n"
   ]
  },
  {
   "cell_type": "code",
   "execution_count": 10,
   "metadata": {},
   "outputs": [
    {
     "name": "stdout",
     "output_type": "stream",
     "text": [
      "7150\n"
     ]
    }
   ],
   "source": [
    "print(len(descendants))"
   ]
  },
  {
   "cell_type": "code",
   "execution_count": null,
   "metadata": {},
   "outputs": [],
   "source": [
    "#assign a weight to each taxonomic level. decrese exponentially or linearly?\n",
    "#exp should be tuned for each event type\n",
    "\n",
    "exp = .9\n",
    "descendants.score = 1\n",
    "taxweight = {}\n",
    "\n",
    "for node in descendants.traverse():\n",
    "    node.score =1\n",
    "  \n",
    "for node in descendants.iter_descendants():\n",
    "    for d in node.iter_descendants():\n",
    "        d.score *= .1\n",
    "\n",
    "total = sum([node.score for node in descendants.traverse() ])\n",
    "print(total)\n",
    "\n",
    "\n",
    "#add an exponential bleed function for events gain, dup, loss\n",
    "#bleedup, bleeddown should be diff for each event type\n",
    "\n",
    "bleedup = .1\n",
    "bleeddown = .1\n",
    "#assign score to nodes\n",
    "\n",
    "for n in e.iter_ancestors()\n",
    "    if n.score:\n",
    "        n.score *= bleedup\n",
    "    else:\n",
    "        n.score = bleedup\n",
    "        \n",
    "for n in e.iter_descendants():\n",
    "    for \n",
    "\n",
    "\n",
    "#after a treeprofile is distributed to it taxonomic nodes, normalize\n",
    "vector = [ n.score for n in ]\n",
    "\n",
    "        \n",
    "        "
   ]
  }
 ],
 "metadata": {
  "kernelspec": {
   "display_name": "Python 3",
   "language": "python",
   "name": "python3"
  },
  "language_info": {
   "codemirror_mode": {
    "name": "ipython",
    "version": 2
   },
   "file_extension": ".py",
   "mimetype": "text/x-python",
   "name": "python",
   "nbconvert_exporter": "python",
   "pygments_lexer": "ipython2",
   "version": "2.7.12"
  }
 },
 "nbformat": 4,
 "nbformat_minor": 2
}
