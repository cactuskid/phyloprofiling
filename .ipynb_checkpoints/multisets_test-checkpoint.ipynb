{
 "cells": [
  {
   "cell_type": "code",
   "execution_count": 1,
   "metadata": {},
   "outputs": [],
   "source": [
    "import datasketch \n",
    "import numpy as np\n",
    "import time\n"
   ]
  },
  {
   "cell_type": "code",
   "execution_count": 18,
   "metadata": {},
   "outputs": [
    {
     "name": "stdout",
     "output_type": "stream",
     "text": [
      "[b'a' b'a' b'a' b'a' b'a' b'a' b'a' b'a' b'a' b'a' b'a' b'a' b'a' b'a'\n",
      " b'a' b'a' b'a' b'a' b'a' b'a' b'a' b'a' b'a' b'a' b'a' b'a' b'a' b'a'\n",
      " b'a' b'a' b'a' b'a' b'a' b'a' b'a' b'a' b'a' b'a' b'a' b'a' b'a' b'a'\n",
      " b'a' b'a' b'a' b'a' b'a' b'a' b'a' b'a' b'a' b'a' b'a' b'a' b'a' b'a'\n",
      " b'a' b'a' b'a' b'a' b'a' b'a' b'a' b'a' b'a' b'a' b'a' b'a' b'a' b'a'\n",
      " b'a' b'a' b'a' b'a' b'a' b'a' b'a' b'a' b'a' b'a' b'a' b'a' b'a' b'a'\n",
      " b'a' b'a' b'a' b'a' b'a' b'a' b'a' b'a' b'a' b'a' b'a' b'a' b'a' b'a'\n",
      " b'a' b'a' b'a' b'a' b'a' b'a' b'a' b'a' b'a' b'a' b'a' b'a' b'a' b'a'\n",
      " b'a' b'a' b'a' b'a' b'a' b'a' b'a' b'a' b'a' b'a' b'a' b'a' b'a' b'a'\n",
      " b'a' b'a' b'a' b'a' b'a' b'a' b'a' b'a' b'a' b'a' b'a' b'a' b'a' b'a'\n",
      " b'a' b'a' b'a' b'a' b'a' b'a' b'a' b'a' b'a' b'a' b'a' b'a' b'a' b'a'\n",
      " b'a' b'a' b'a' b'a' b'a' b'a' b'a' b'a' b'a' b'a' b'a' b'a' b'a' b'a'\n",
      " b'a' b'a' b'a' b'a' b'a' b'a' b'a' b'a' b'a' b'a' b'a' b'a' b'a' b'a'\n",
      " b'a' b'a' b'a' b'a' b'a' b'a' b'a' b'a' b'a' b'a' b'a' b'a' b'a' b'a'\n",
      " b'a' b'a' b'a' b'a' b'a' b'a' b'a' b'a' b'a' b'a' b'a' b'a' b'a' b'a'\n",
      " b'a' b'a' b'a' b'a' b'a' b'a' b'a' b'a' b'a' b'a' b'a' b'a' b'a' b'a'\n",
      " b'a' b'a' b'a' b'a' b'a' b'a' b'a' b'a' b'a' b'a' b'a' b'a' b'a' b'a'\n",
      " b'a' b'a' b'a' b'a' b'a' b'a' b'a' b'a' b'a' b'a' b'a' b'a' b'a' b'a'\n",
      " b'a' b'a' b'a' b'a' b'a' b'a' b'a' b'a' b'a' b'a' b'a' b'a' b'a' b'a'\n",
      " b'a' b'a' b'a' b'a' b'a' b'a' b'a' b'a' b'a' b'a' b'a' b'a' b'a' b'a'\n",
      " b'a' b'a' b'a' b'a' b'a' b'a' b'a' b'a' b'a' b'a' b'a' b'a' b'a' b'a'\n",
      " b'a' b'a' b'a' b'a' b'a' b'a' b'a' b'a' b'a' b'a' b'a' b'a' b'a' b'a'\n",
      " b'a' b'a' b'a' b'a' b'a' b'a' b'a' b'a' b'a' b'a' b'a' b'a' b'a' b'a'\n",
      " b'a' b'a' b'a' b'a' b'a' b'a' b'a' b'a' b'a' b'a' b'a' b'a' b'a' b'a'\n",
      " b'a' b'a' b'a' b'a' b'a' b'a' b'a' b'a' b'a' b'a' b'a' b'a' b'a' b'a'\n",
      " b'a' b'a' b'a' b'a' b'a' b'a' b'a' b'a' b'a' b'a' b'a' b'a' b'a' b'a'\n",
      " b'a' b'a' b'a' b'a' b'a' b'a' b'a' b'a' b'a' b'a' b'a' b'a' b'a' b'a'\n",
      " b'a' b'a' b'a' b'a' b'a' b'a' b'a' b'a' b'a' b'a' b'a' b'a' b'a' b'a'\n",
      " b'a' b'a' b'a' b'a' b'a' b'a' b'a' b'a' b'a' b'a' b'a' b'a' b'a' b'a'\n",
      " b'a' b'a' b'a' b'a' b'a' b'a' b'a' b'a' b'a' b'a' b'a' b'a' b'a' b'a'\n",
      " b'a' b'a' b'a' b'a' b'a' b'a' b'a' b'a' b'a' b'a' b'a' b'a' b'a' b'a'\n",
      " b'a' b'a' b'a' b'a' b'a' b'a' b'a' b'a' b'a' b'a' b'a' b'a' b'a' b'a'\n",
      " b'a' b'a' b'a' b'a' b'a' b'a' b'a' b'a' b'a' b'a' b'a' b'a' b'a' b'a'\n",
      " b'a' b'a' b'a' b'a' b'a' b'a' b'a' b'a' b'a' b'a' b'a' b'a' b'a' b'a'\n",
      " b'a' b'a' b'a' b'a' b'a' b'a' b'a' b'a' b'a' b'a' b'a' b'a' b'a' b'a'\n",
      " b'a' b'a' b'a' b'a' b'a' b'a' b'a' b'a' b'a' b'a' b'b' b'b' b'b' b'b'\n",
      " b'b' b'b' b'b' b'b' b'b' b'b' b'b' b'b' b'b' b'b' b'b' b'b' b'b' b'b'\n",
      " b'b' b'b' b'b' b'b' b'b' b'b' b'b' b'b' b'b' b'b' b'b' b'b' b'b' b'b'\n",
      " b'b' b'b' b'b' b'b' b'b' b'b' b'b' b'b' b'b' b'b' b'b' b'b' b'b' b'b'\n",
      " b'b' b'b' b'b' b'b' b'b' b'b' b'b' b'b' b'b' b'b' b'b' b'b' b'b' b'b'\n",
      " b'b' b'b' b'b' b'b' b'b' b'b' b'b' b'b' b'b' b'b' b'b' b'b' b'b' b'b'\n",
      " b'b' b'b' b'b' b'b' b'b' b'b' b'b' b'b' b'b' b'b' b'b' b'b' b'b' b'b'\n",
      " b'b' b'b' b'b' b'b' b'b' b'b' b'b' b'b' b'b' b'b' b'b' b'b' b'b' b'b'\n",
      " b'b' b'b' b'b' b'b' b'b' b'b' b'b' b'b' b'b' b'b' b'b' b'b' b'b' b'b'\n",
      " b'b' b'b' b'b' b'b' b'b' b'b' b'b' b'b' b'b' b'b' b'b' b'b' b'b' b'b'\n",
      " b'b' b'b' b'b' b'b' b'b' b'b' b'b' b'b' b'b' b'b' b'b' b'b' b'b' b'b'\n",
      " b'b' b'b' b'b' b'b' b'b' b'b' b'b' b'b' b'b' b'b' b'b' b'b' b'b' b'b'\n",
      " b'b' b'b' b'b' b'b' b'b' b'b' b'b' b'b' b'b' b'b' b'b' b'b' b'b' b'b'\n",
      " b'b' b'b' b'b' b'b' b'b' b'b' b'b' b'b' b'b' b'b' b'b' b'b' b'b' b'b'\n",
      " b'b' b'b' b'b' b'b' b'b' b'b' b'b' b'b' b'b' b'b' b'b' b'b' b'b' b'b'\n",
      " b'b' b'b' b'b' b'b' b'b' b'b' b'b' b'b' b'b' b'b' b'b' b'b' b'b' b'b'\n",
      " b'b' b'b' b'b' b'b' b'b' b'b' b'b' b'b' b'b' b'b' b'b' b'b' b'b' b'b'\n",
      " b'b' b'b' b'b' b'b' b'b' b'b' b'b' b'b' b'b' b'b' b'b' b'b' b'b' b'b'\n",
      " b'b' b'b' b'b' b'b' b'b' b'b' b'b' b'b' b'b' b'b' b'b' b'b' b'b' b'b'\n",
      " b'b' b'b' b'b' b'b' b'b' b'b' b'b' b'b' b'b' b'b' b'b' b'b' b'b' b'b'\n",
      " b'b' b'b' b'b' b'b' b'b' b'b' b'b' b'b' b'b' b'b' b'b' b'b' b'b' b'b'\n",
      " b'b' b'b' b'b' b'b' b'b' b'b' b'b' b'b' b'b' b'b' b'b' b'b' b'b' b'b'\n",
      " b'b' b'b' b'b' b'b' b'b' b'b' b'b' b'b' b'b' b'b' b'b' b'b' b'b' b'b'\n",
      " b'b' b'b' b'b' b'b' b'b' b'b' b'b' b'b' b'b' b'b' b'b' b'b' b'b' b'b'\n",
      " b'b' b'b' b'b' b'b' b'b' b'b' b'b' b'b' b'b' b'b' b'b' b'b' b'b' b'b'\n",
      " b'b' b'b' b'b' b'b' b'b' b'b' b'b' b'b' b'b' b'b' b'b' b'b' b'b' b'b'\n",
      " b'b' b'b' b'b' b'b' b'b' b'b' b'b' b'b' b'b' b'b' b'b' b'b' b'b' b'b'\n",
      " b'b' b'b' b'b' b'b' b'b' b'b' b'b' b'b' b'b' b'b' b'b' b'b' b'b' b'b'\n",
      " b'b' b'b' b'b' b'b' b'b' b'b' b'b' b'b' b'b' b'b' b'b' b'b' b'b' b'b'\n",
      " b'b' b'b' b'b' b'b' b'b' b'b' b'b' b'b' b'b' b'b' b'b' b'b' b'b' b'b'\n",
      " b'b' b'b' b'b' b'b' b'b' b'b' b'b' b'b' b'b' b'b' b'b' b'b' b'b' b'b'\n",
      " b'b' b'b' b'b' b'b' b'b' b'b' b'b' b'b' b'b' b'b' b'b' b'b' b'b' b'b'\n",
      " b'b' b'b' b'b' b'b' b'b' b'b' b'b' b'b' b'b' b'b' b'b' b'b' b'b' b'b'\n",
      " b'b' b'b' b'b' b'b' b'b' b'b' b'b' b'b' b'b' b'b' b'b' b'b' b'b' b'b'\n",
      " b'b' b'b' b'b' b'b' b'b' b'b' b'b' b'b' b'b' b'b' b'b' b'b' b'b' b'b'\n",
      " b'b' b'b' b'b' b'b' b'b' b'b' b'b' b'b' b'b' b'b' b'b' b'b' b'b' b'b'\n",
      " b'b' b'b' b'b' b'b' b'b' b'b']\n"
     ]
    },
    {
     "ename": "ValueError",
     "evalue": "could not convert string to float: 'a'",
     "output_type": "error",
     "traceback": [
      "\u001b[0;31m---------------------------------------------------------------------------\u001b[0m",
      "\u001b[0;31mValueError\u001b[0m                                Traceback (most recent call last)",
      "\u001b[0;32m<ipython-input-18-90467a21f9a7>\u001b[0m in \u001b[0;36m<module>\u001b[0;34m()\u001b[0m\n\u001b[1;32m      7\u001b[0m \u001b[0mwmg\u001b[0m \u001b[0;34m=\u001b[0m \u001b[0mWeightedMinHashGenerator\u001b[0m\u001b[0;34m(\u001b[0m\u001b[0;36m1000\u001b[0m\u001b[0;34m,\u001b[0m \u001b[0msample_size\u001b[0m\u001b[0;34m=\u001b[0m\u001b[0;36m512\u001b[0m\u001b[0;34m,\u001b[0m \u001b[0mseed\u001b[0m\u001b[0;34m=\u001b[0m\u001b[0;36m12\u001b[0m\u001b[0;34m)\u001b[0m\u001b[0;34m\u001b[0m\u001b[0m\n\u001b[1;32m      8\u001b[0m \u001b[0;34m\u001b[0m\u001b[0m\n\u001b[0;32m----> 9\u001b[0;31m \u001b[0mwm1\u001b[0m \u001b[0;34m=\u001b[0m \u001b[0mwmg\u001b[0m\u001b[0;34m.\u001b[0m\u001b[0mminhash\u001b[0m\u001b[0;34m(\u001b[0m\u001b[0mv1\u001b[0m\u001b[0;34m)\u001b[0m \u001b[0;31m# wm1 is of the type WeightedMinHash\u001b[0m\u001b[0;34m\u001b[0m\u001b[0m\n\u001b[0m\u001b[1;32m     10\u001b[0m \u001b[0mwm2\u001b[0m \u001b[0;34m=\u001b[0m \u001b[0mwmg\u001b[0m\u001b[0;34m.\u001b[0m\u001b[0mminhash\u001b[0m\u001b[0;34m(\u001b[0m\u001b[0mv2\u001b[0m\u001b[0;34m)\u001b[0m\u001b[0;34m\u001b[0m\u001b[0m\n\u001b[1;32m     11\u001b[0m \u001b[0mprint\u001b[0m\u001b[0;34m(\u001b[0m\u001b[0;34m\"Estimated Jaccard is\"\u001b[0m\u001b[0;34m,\u001b[0m \u001b[0mwm1\u001b[0m\u001b[0;34m.\u001b[0m\u001b[0mjaccard\u001b[0m\u001b[0;34m(\u001b[0m\u001b[0mwm2\u001b[0m\u001b[0;34m)\u001b[0m\u001b[0;34m)\u001b[0m\u001b[0;34m\u001b[0m\u001b[0m\n",
      "\u001b[0;32m/usr/local/lib/python3.5/dist-packages/datasketch/weighted_minhash.py\u001b[0m in \u001b[0;36mminhash\u001b[0;34m(self, v)\u001b[0m\n\u001b[1;32m    120\u001b[0m             \u001b[0mv\u001b[0m \u001b[0;34m=\u001b[0m \u001b[0mnp\u001b[0m\u001b[0;34m.\u001b[0m\u001b[0marray\u001b[0m\u001b[0;34m(\u001b[0m\u001b[0mv\u001b[0m\u001b[0;34m,\u001b[0m \u001b[0mdtype\u001b[0m\u001b[0;34m=\u001b[0m\u001b[0mnp\u001b[0m\u001b[0;34m.\u001b[0m\u001b[0mfloat32\u001b[0m\u001b[0;34m)\u001b[0m\u001b[0;34m\u001b[0m\u001b[0m\n\u001b[1;32m    121\u001b[0m         \u001b[0;32melif\u001b[0m \u001b[0mv\u001b[0m\u001b[0;34m.\u001b[0m\u001b[0mdtype\u001b[0m \u001b[0;34m!=\u001b[0m \u001b[0mnp\u001b[0m\u001b[0;34m.\u001b[0m\u001b[0mfloat32\u001b[0m\u001b[0;34m:\u001b[0m\u001b[0;34m\u001b[0m\u001b[0m\n\u001b[0;32m--> 122\u001b[0;31m             \u001b[0mv\u001b[0m \u001b[0;34m=\u001b[0m \u001b[0mv\u001b[0m\u001b[0;34m.\u001b[0m\u001b[0mastype\u001b[0m\u001b[0;34m(\u001b[0m\u001b[0mnp\u001b[0m\u001b[0;34m.\u001b[0m\u001b[0mfloat32\u001b[0m\u001b[0;34m)\u001b[0m\u001b[0;34m\u001b[0m\u001b[0m\n\u001b[0m\u001b[1;32m    123\u001b[0m         \u001b[0mhashvalues\u001b[0m \u001b[0;34m=\u001b[0m \u001b[0mnp\u001b[0m\u001b[0;34m.\u001b[0m\u001b[0mzeros\u001b[0m\u001b[0;34m(\u001b[0m\u001b[0;34m(\u001b[0m\u001b[0mself\u001b[0m\u001b[0;34m.\u001b[0m\u001b[0msample_size\u001b[0m\u001b[0;34m,\u001b[0m \u001b[0;36m2\u001b[0m\u001b[0;34m)\u001b[0m\u001b[0;34m,\u001b[0m \u001b[0mdtype\u001b[0m\u001b[0;34m=\u001b[0m\u001b[0mnp\u001b[0m\u001b[0;34m.\u001b[0m\u001b[0mint\u001b[0m\u001b[0;34m)\u001b[0m\u001b[0;34m\u001b[0m\u001b[0m\n\u001b[1;32m    124\u001b[0m         \u001b[0mvzeros\u001b[0m \u001b[0;34m=\u001b[0m \u001b[0;34m(\u001b[0m\u001b[0mv\u001b[0m \u001b[0;34m==\u001b[0m \u001b[0;36m0\u001b[0m\u001b[0;34m)\u001b[0m\u001b[0;34m\u001b[0m\u001b[0m\n",
      "\u001b[0;31mValueError\u001b[0m: could not convert string to float: 'a'"
     ]
    }
   ],
   "source": [
    "from datasketch import WeightedMinHashGenerator\n",
    "\n",
    "v1 = np.asarray(500 *['a'.encode()]+ 500*['b'.encode()])\n",
    "print(v1)\n",
    "\n",
    "v2 = 1000 * ['a'.encode()]\n",
    "# WeightedMinHashGenerator requires dimension as the first argument\n",
    "wmg = WeightedMinHashGenerator(1000, sample_size=512, seed=12)\n",
    "\n",
    "wm1 = wmg.minhash(v1) # wm1 is of the type WeightedMinHash\n",
    "wm2 = wmg.minhash(v2)\n",
    "print(\"Estimated Jaccard is\", wm1.jaccard(wm2))\n",
    "\n",
    "#modify the composition of the final vector to reflect the scoring of each branch\n",
    "\n"
   ]
  },
  {
   "cell_type": "code",
   "execution_count": null,
   "metadata": {},
   "outputs": [],
   "source": []
  }
 ],
 "metadata": {
  "kernelspec": {
   "display_name": "Python 3",
   "language": "python",
   "name": "python3"
  },
  "language_info": {
   "codemirror_mode": {
    "name": "ipython",
    "version": 3
   },
   "file_extension": ".py",
   "mimetype": "text/x-python",
   "name": "python",
   "nbconvert_exporter": "python",
   "pygments_lexer": "ipython3",
   "version": "3.5.2"
  }
 },
 "nbformat": 4,
 "nbformat_minor": 2
}
