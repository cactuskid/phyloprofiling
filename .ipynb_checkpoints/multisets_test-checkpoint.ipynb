{
 "cells": [
  {
   "cell_type": "code",
   "execution_count": 1,
   "metadata": {},
   "outputs": [],
   "source": [
    "import datasketch \n",
    "import numpy as np\n",
    "import time\n"
   ]
  },
  {
   "cell_type": "code",
   "execution_count": 26,
   "metadata": {},
   "outputs": [
    {
     "name": "stdout",
     "output_type": "stream",
     "text": [
      "Estimated Jaccard is 0.51171875\n"
     ]
    }
   ],
   "source": [
    "from datasketch import WeightedMinHashGenerator\n",
    "\n",
    "v1 = 1000 *[.5]\n",
    "v2 = 1000 * [1]\n",
    "\n",
    "# WeightedMinHashGenerator requires dimension as the first argument\n",
    "wmg = WeightedMinHashGenerator(1000, sample_size=512, seed=12)\n",
    "\n",
    "wm1 = wmg.minhash(v1) # wm1 is of the type WeightedMinHash\n",
    "wm2 = wmg.minhash(v2)\n",
    "print(\"Estimated Jaccard is\", wm1.jaccard(wm2))\n",
    "\n"
   ]
  },
  {
   "cell_type": "code",
   "execution_count": 15,
   "metadata": {},
   "outputs": [],
   "source": [
    "#each hog has 4000 taxonomic elements\n",
    "#total weigh is 1 \n",
    "\n",
    "#spread out the hog over its taxonomic range \n",
    "#give more weight to certain events/levels\n",
    "\n",
    "#score over the HOG -> normalize\n",
    "\n",
    "from ete3 import NCBITaxa, PhyloTree , Tree\n",
    "import numpy as np\n",
    "\n",
    "ncbi = NCBITaxa()\n",
    "\n",
    "descendants = ncbi.get_descendant_taxa('Mammalia',collapse_subspecies=True, return_tree=True)\n"
   ]
  },
  {
   "cell_type": "code",
   "execution_count": 16,
   "metadata": {},
   "outputs": [
    {
     "name": "stdout",
     "output_type": "stream",
     "text": [
      "2103\n",
      "2997\n"
     ]
    }
   ],
   "source": [
    "mastertree = Tree( 'mastertree.nwk' , format = 1 )  \n",
    "print(len(mastertree))\n",
    "treeindex = { n.name : i for i,n in enumerate(mastertree.traverse())}\n",
    "print(len(treeindex))\n",
    "\n",
    "\n"
   ]
  },
  {
   "cell_type": "code",
   "execution_count": 17,
   "metadata": {},
   "outputs": [
    {
     "name": "stdout",
     "output_type": "stream",
     "text": [
      "7150\n"
     ]
    }
   ],
   "source": [
    "print(len(descendants))"
   ]
  },
  {
   "cell_type": "code",
   "execution_count": 24,
   "metadata": {},
   "outputs": [
    {
     "name": "stdout",
     "output_type": "stream",
     "text": [
      "[ 1  1  1 ... 25 25 25]\n",
      "(2997,)\n"
     ]
    }
   ],
   "source": [
    "#assign a weight to each taxonomic level. decrese exponentially or linearly?\n",
    "#exp should be tuned for each event type\n",
    "\n",
    "#todo sep functions for 3 kingdoms... \n",
    "exp = .9\n",
    "for node in mastertree.traverse():\n",
    "    node.add_feature('degree', 1 )\n",
    "for node in mastertree.iter_descendants():\n",
    "    for d in node.iter_descendants():\n",
    "        d.degree+=1\n",
    "       \n",
    "degreevec = np.asarray([ n.degree for n in mastertree.traverse()])\n",
    "\n",
    "\n",
    "        "
   ]
  },
  {
   "cell_type": "code",
   "execution_count": null,
   "metadata": {},
   "outputs": [],
   "source": [
    "\n",
    "#add an exponential bleed function for events gain, dup, loss\n",
    "#bleedup, bleeddown should be diff for each event type\n",
    "\n",
    "bleedup = .1\n",
    "bleeddown = .1\n",
    "#assign score to nodes\n",
    "\n",
    "for n in e.iter_ancestors()\n",
    "    if n.score:\n",
    "        n.score *= bleedup\n",
    "    else:\n",
    "        n.score = bleedup\n",
    "        \n",
    "for n in e.iter_descendants():\n",
    "    for \n",
    "\n",
    "\n",
    "#after a treeprofile is distributed to it taxonomic nodes, normalize\n",
    "vector = [ n.score for n in ]\n",
    "\n",
    "        "
   ]
  },
  {
   "cell_type": "code",
   "execution_count": null,
   "metadata": {},
   "outputs": [],
   "source": []
  }
 ],
 "metadata": {
  "kernelspec": {
   "display_name": "Python 3",
   "language": "python",
   "name": "python3"
  },
  "language_info": {
   "codemirror_mode": {
    "name": "ipython",
    "version": 2
   },
   "file_extension": ".py",
   "mimetype": "text/x-python",
   "name": "python",
   "nbconvert_exporter": "python",
   "pygments_lexer": "ipython2",
   "version": "2.7.12"
  }
 },
 "nbformat": 4,
 "nbformat_minor": 2
}
