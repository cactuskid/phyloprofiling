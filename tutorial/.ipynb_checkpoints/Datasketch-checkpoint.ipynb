{
 "cells": [
  {
   "cell_type": "markdown",
   "metadata": {},
   "source": [
    "<h1>Datasketch</h1>"
   ]
  },
  {
   "cell_type": "markdown",
   "metadata": {},
   "source": [
    "Implementation of probabilistic data structures that can process and search very large amount of data super fast, with little loss of accuracy.\n",
    "\n",
    "This package contains different data sketches: <b>MinHash</b>, Weighted MinHash, HyperLogLog, HyperLogLog++.\n",
    "It also provides different indexes such as <b>MinHash LSH</b>, MinHash LSH Forest and MinHash LSH Ensemble."
   ]
  },
  {
   "cell_type": "markdown",
   "metadata": {},
   "source": [
    "<h2>Install</h2>"
   ]
  },
  {
   "cell_type": "markdown",
   "metadata": {},
   "source": [
    "To install datasketch using <b>pip</b>:"
   ]
  },
  {
   "cell_type": "code",
   "execution_count": null,
   "metadata": {},
   "outputs": [],
   "source": [
    "pip install datasketch -U"
   ]
  },
  {
   "cell_type": "markdown",
   "metadata": {},
   "source": [
    "<h2>MinHash</h2>\n",
    "\n",
    "MinHash is a probabilistic data structure for estimating Jaccard similarity (Intersection over Union) between sets in linear time using a small and fixed memory space.\n",
    "\n",
    "---\n",
    "First, create the MinHash objects for a list or set of items:"
   ]
  },
  {
   "cell_type": "code",
   "execution_count": 49,
   "metadata": {},
   "outputs": [],
   "source": [
    "from datasketch import MinHash\n",
    "\n",
    "UNIL = ['UNIL','is','the','best','university','in','Switzerland']\n",
    "EPFL = ['EPFL','is','the','best','university','in','Switzerland']\n",
    "MIT = ['MIT','is','an','average','school','in','usa']\n",
    "\n",
    "minUNIL, minEPFL, minMIT = MinHash(), MinHash(), MinHash()\n",
    "\n",
    "for d in UNIL:\n",
    "    minUNIL.update(d.encode('utf8'))\n",
    "for d in EPFL:\n",
    "    minEPFL.update(d.encode('utf8'))\n",
    "for d in MIT:\n",
    "    minMIT.update(d.encode('utf8'))"
   ]
  },
  {
   "cell_type": "markdown",
   "metadata": {},
   "source": [
    "---\n",
    "Then, compare the minHashes with the jaccard method:"
   ]
  },
  {
   "cell_type": "code",
   "execution_count": 50,
   "metadata": {},
   "outputs": [
    {
     "name": "stdout",
     "output_type": "stream",
     "text": [
      "Estimated Jaccard for UNIL and EPFL is 0.7421875\n",
      "Actual Jaccard for UNIL and EPFL is 0.75\n"
     ]
    }
   ],
   "source": [
    "print(\"Estimated Jaccard for UNIL and EPFL is\", minUNIL.jaccard(minEPFL))\n",
    "\n",
    "s1 = set(UNIL)\n",
    "s2 = set(EPFL)\n",
    "actual_jaccard = float(len(s1.intersection(s2)))/float(len(s1.union(s2)))\n",
    "print(\"Actual Jaccard for UNIL and EPFL is\", actual_jaccard)"
   ]
  },
  {
   "cell_type": "code",
   "execution_count": 52,
   "metadata": {},
   "outputs": [
    {
     "name": "stdout",
     "output_type": "stream",
     "text": [
      "Estimated Jaccard for UNIL and MIT is 0.1796875\n",
      "Actual Jaccard for UNIL and MIT is 0.16666666666666666\n"
     ]
    }
   ],
   "source": [
    "print(\"Estimated Jaccard for UNIL and MIT is\", minUNIL.jaccard(minMIT))\n",
    "\n",
    "s1 = set(UNIL)\n",
    "s3 = set(MIT)\n",
    "actual_jaccard = float(len(s1.intersection(s3)))/float(len(s1.union(s3)))\n",
    "print(\"Actual Jaccard for UNIL and MIT is\", actual_jaccard)"
   ]
  },
  {
   "cell_type": "markdown",
   "metadata": {},
   "source": [
    "---\n",
    "You can adjust the accuracy by customizing the number of permutation functions used in MinHash:"
   ]
  },
  {
   "cell_type": "code",
   "execution_count": 59,
   "metadata": {},
   "outputs": [
    {
     "name": "stdout",
     "output_type": "stream",
     "text": [
      "Estimated Jaccard for UNIL and EPFL is 0.76171875\n",
      "Actual Jaccard for UNIL and EPFL is 0.75\n",
      "Estimated Jaccard for UNIL and MIT is 0.1640625\n",
      "Actual Jaccard for UNIL and MIT is 0.16666666666666666\n"
     ]
    }
   ],
   "source": [
    "# This will give better accuracy than the default setting (128).\n",
    "m = MinHash(num_perm=256)\n",
    "\n",
    "minUNIL, minEPFL, minMIT = MinHash(num_perm=256), MinHash(num_perm=256), MinHash(num_perm=256)\n",
    "\n",
    "for d in UNIL:\n",
    "    minUNIL.update(d.encode('utf8'))\n",
    "for d in EPFL:\n",
    "    minEPFL.update(d.encode('utf8'))\n",
    "for d in MIT:\n",
    "    minMIT.update(d.encode('utf8'))"
   ]
  },
  {
   "cell_type": "code",
   "execution_count": 60,
   "metadata": {},
   "outputs": [
    {
     "name": "stdout",
     "output_type": "stream",
     "text": [
      "Estimated Jaccard for UNIL and EPFL is 0.76171875\n",
      "Actual Jaccard for UNIL and EPFL is 0.75\n"
     ]
    }
   ],
   "source": [
    "print(\"Estimated Jaccard for UNIL and EPFL is\", minUNIL.jaccard(minEPFL))\n",
    "\n",
    "s1 = set(UNIL)\n",
    "s2 = set(EPFL)\n",
    "actual_jaccard = float(len(s1.intersection(s2)))/float(len(s1.union(s2)))\n",
    "print(\"Actual Jaccard for UNIL and EPFL is\", actual_jaccard)"
   ]
  },
  {
   "cell_type": "code",
   "execution_count": 61,
   "metadata": {},
   "outputs": [
    {
     "name": "stdout",
     "output_type": "stream",
     "text": [
      "Estimated Jaccard for UNIL and MIT is 0.1640625\n",
      "Actual Jaccard for UNIL and MIT is 0.16666666666666666\n"
     ]
    }
   ],
   "source": [
    "print(\"Estimated Jaccard for UNIL and MIT is\", minUNIL.jaccard(minMIT))\n",
    "\n",
    "s1 = set(UNIL)\n",
    "s3 = set(MIT)\n",
    "actual_jaccard = float(len(s1.intersection(s3)))/float(len(s1.union(s3)))\n",
    "print(\"Actual Jaccard for UNIL and MIT is\", actual_jaccard)"
   ]
  },
  {
   "cell_type": "markdown",
   "metadata": {},
   "source": [
    "---\n",
    "The trade-off for better accuracy is slower speed and higher memory usage. Indeed, using more permutation functions means more CPU instructions for every data value hashed and more hash values to be stored.\n",
    "\n",
    "---\n",
    "You can union two MinHash objects using the <b>merge</b> function."
   ]
  },
  {
   "cell_type": "code",
   "execution_count": 35,
   "metadata": {},
   "outputs": [],
   "source": [
    "# The makes m1 the union of m2 and the original m1.\n",
    "m1.merge(m2)"
   ]
  },
  {
   "cell_type": "markdown",
   "metadata": {},
   "source": [
    "---\n",
    "If you are handling a lot of MinHash objects, you can use <b>datasketch.LeanMinHash</b> to reduce your memory footprint.\n",
    "\n",
    "Lean MinHash is MinHash with a smaller memory footprint and faster deserialization, but with its internal state frozen, meaning that it cannot be updated.\n",
    "\n",
    "Lean MinHash inherits all methods from the standard MinHash object. It does not store the permutations and the hashobj needed for updating. If a MinHash does not need further updates, convert it into a lean MinHash to save memory."
   ]
  },
  {
   "cell_type": "code",
   "execution_count": 63,
   "metadata": {},
   "outputs": [
    {
     "data": {
      "text/plain": [
       "0.76171875"
      ]
     },
     "execution_count": 63,
     "metadata": {},
     "output_type": "execute_result"
    }
   ],
   "source": [
    "from datasketch import LeanMinHash\n",
    "\n",
    "lean_minEPFL = LeanMinHash(minEPFL)\n",
    "lean_minUNIL = LeanMinHash(minUNIL)\n",
    "\n",
    "# You can compute the Jaccard similarity between two lean MinHash\n",
    "lean_minEPFL.jaccard(lean_minUNIL)"
   ]
  },
  {
   "cell_type": "code",
   "execution_count": 64,
   "metadata": {},
   "outputs": [
    {
     "data": {
      "text/plain": [
       "0.76171875"
      ]
     },
     "execution_count": 64,
     "metadata": {},
     "output_type": "execute_result"
    }
   ],
   "source": [
    "# Or between a lean MinHash and a MinHash\n",
    "lean_minEPFL.jaccard(minUNIL)"
   ]
  },
  {
   "cell_type": "markdown",
   "metadata": {},
   "source": [
    "---\n",
    "To create a MinHash from a MinHash"
   ]
  },
  {
   "cell_type": "code",
   "execution_count": 65,
   "metadata": {},
   "outputs": [],
   "source": [
    "minUNIL_from_leanMinHash = MinHash(seed=lean_minUNIL.seed, hashvalues=lean_minUNIL.hashvalues)\n",
    "\n",
    "# Or if you want to prevent further updates on minhash\n",
    "# from affecting the state of lean_minhash\n",
    "minUNIL_from_leanMinHash = MinHash(seed=lean_minUNIL.seed, hashvalues=lean_minUNIL.digest())"
   ]
  },
  {
   "cell_type": "markdown",
   "metadata": {},
   "source": [
    "<h2>MinHash LSH</h2>"
   ]
  },
  {
   "cell_type": "markdown",
   "metadata": {},
   "source": [
    "Suppose you have a very large collection of sets. Giving a query, which is also a set, you want to find sets in your collection that have Jaccard similarities above certain threshold, and you want to do it with many other queries. To do this efficiently, you can create a MinHash for every set, and when a query comes, you compute the Jaccard similarities between the query MinHash and all the MinHash of your collection, and return the sets that satisfy your threshold.\n",
    "\n",
    "This approach is an O(n) algorithm, meaning the query cost increases linearly with respect to the number of sets. A popular alternative is to use Locality Sensitive Hashing (LSH) index. LSH can be used with MinHash to achieve sub-linear query cost - that is a huge improvement. \n",
    "\n",
    "Datasketch includes the classic version of MinHash LSH.\n",
    "\n",
    "---\n",
    "\n",
    "First, insert the minHashes into the LSH:"
   ]
  },
  {
   "cell_type": "code",
   "execution_count": 68,
   "metadata": {},
   "outputs": [],
   "source": [
    "from datasketch import MinHashLSH\n",
    "\n",
    "# Create LSH index\n",
    "lsh = MinHashLSH(threshold=0.5, num_perm=256)\n",
    "lsh.insert(\"minUNIL\", minUNIL)\n",
    "lsh.insert(\"minEPFL\", minEPFL)\n",
    "lsh.insert(\"minMIT\", minMIT)"
   ]
  },
  {
   "cell_type": "markdown",
   "metadata": {},
   "source": [
    "Then, the LSH can be queried using the <b>query</b> method:"
   ]
  },
  {
   "cell_type": "code",
   "execution_count": 69,
   "metadata": {},
   "outputs": [
    {
     "name": "stdout",
     "output_type": "stream",
     "text": [
      "Approximate neighbours of UNIL with Jaccard similarity > 0.5 ['minEPFL', 'minUNIL']\n"
     ]
    }
   ],
   "source": [
    "result = lsh.query(minUNIL)\n",
    "print(\"Approximate neighbours of UNIL with Jaccard similarity > 0.5\", result)"
   ]
  },
  {
   "cell_type": "code",
   "execution_count": 70,
   "metadata": {},
   "outputs": [
    {
     "name": "stdout",
     "output_type": "stream",
     "text": [
      "Approximate neighbours of MIT with Jaccard similarity > 0.5 ['minMIT']\n"
     ]
    }
   ],
   "source": [
    "result = lsh.query(minMIT)\n",
    "print(\"Approximate neighbours of MIT with Jaccard similarity > 0.5\", result)"
   ]
  },
  {
   "cell_type": "markdown",
   "metadata": {},
   "source": [
    "<h2>Other data structures implemented in Datasketch</h2>"
   ]
  },
  {
   "cell_type": "markdown",
   "metadata": {},
   "source": [
    "<h3>Weighted MinHash</h3>\n",
    "\n",
    "Implementation of a weighted sampling method, where the probability of drawing identical samples for a pair of inputs is equal to their Jaccard similarity."
   ]
  },
  {
   "cell_type": "markdown",
   "metadata": {},
   "source": [
    "<h3>HyperLogLog and HyperLogLog++</h3>\n",
    "HyperLogLog is capable of estimating the cardinality (the number of distinct values) of dataset in a single pass, using a small and fixed memory space.\n",
    "\n",
    "HyperLogLog++ is an enhanced version of HyperLogLog by Google. It uses 64-bit hash values instead of the 32-bit used by HyperLogLog and it has a more stable bias correction scheme based on experiments on many datasets."
   ]
  },
  {
   "cell_type": "markdown",
   "metadata": {},
   "source": [
    "<h3>MinHash LSH Ensemble</h3>\n",
    "Jaccard similarity is great for measuring resemblance between two sets, however, it can be a biased measure for set intersection, as large sets are penalized. We can use a better measure for intersection, called containment. It is computed as the intersection size divided by the size of one of the set.\n",
    "\n",
    "Similar to MinHash LSH, there is an LSH index implemented in Datasketch for containment search – given a query set, find sets with containment above a certain threshold."
   ]
  },
  {
   "cell_type": "markdown",
   "metadata": {},
   "source": [
    "<h3>MinHash LSH Forest</h3>\n",
    "MinHash LSH is useful for threshold queries. However, top-k queries are often more useful in some cases. LSH Forest is a general LSH data structure that makes top-k query possible for many different types of LSH indexes, which include MinHash LSH. I implemented the MinHash LSH Forest, which takes a MinHash data sketch of the query set, and returns the top-k matching sets that have the highest Jaccard similarities with the query set.\n",
    "\n",
    "The interface of datasketch.MinHashLSHForest is similar to datasketch.MinHashLSH, however, it is very important to call index method after adding the keys. Without calling the index method, the keys won’t be searchable."
   ]
  },
  {
   "cell_type": "code",
   "execution_count": null,
   "metadata": {},
   "outputs": [],
   "source": []
  }
 ],
 "metadata": {
  "kernelspec": {
   "display_name": "Python 3",
   "language": "python",
   "name": "python3"
  },
  "language_info": {
   "codemirror_mode": {
    "name": "ipython",
    "version": 3
   },
   "file_extension": ".py",
   "mimetype": "text/x-python",
   "name": "python",
   "nbconvert_exporter": "python",
   "pygments_lexer": "ipython3",
   "version": "3.6.0"
  }
 },
 "nbformat": 4,
 "nbformat_minor": 2
}
