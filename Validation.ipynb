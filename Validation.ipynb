{
 "cells": [
  {
   "cell_type": "code",
   "execution_count": 2,
   "metadata": {},
   "outputs": [],
   "source": [
    "import pandas as pd\n",
    "import numpy as np"
   ]
  },
  {
   "cell_type": "code",
   "execution_count": null,
   "metadata": {},
   "outputs": [],
   "source": []
  },
  {
   "cell_type": "code",
   "execution_count": 12,
   "metadata": {},
   "outputs": [],
   "source": [
    "data = pd.read_csv('validationJune_11_2018_18_54.txt', sep='\\t')"
   ]
  },
  {
   "cell_type": "code",
   "execution_count": 13,
   "metadata": {},
   "outputs": [
    {
     "data": {
      "text/html": [
       "<div>\n",
       "<style scoped>\n",
       "    .dataframe tbody tr th:only-of-type {\n",
       "        vertical-align: middle;\n",
       "    }\n",
       "\n",
       "    .dataframe tbody tr th {\n",
       "        vertical-align: top;\n",
       "    }\n",
       "\n",
       "    .dataframe thead th {\n",
       "        text-align: right;\n",
       "    }\n",
       "</style>\n",
       "<table border=\"1\" class=\"dataframe\">\n",
       "  <thead>\n",
       "    <tr style=\"text-align: right;\">\n",
       "      <th></th>\n",
       "      <th>Unnamed: 0</th>\n",
       "      <th>Unnamed: 1</th>\n",
       "      <th>Jaccard</th>\n",
       "      <th>Semantic</th>\n",
       "      <th>event</th>\n",
       "    </tr>\n",
       "  </thead>\n",
       "  <tbody>\n",
       "    <tr>\n",
       "      <th>0</th>\n",
       "      <td>HOG:0138587</td>\n",
       "      <td>HOG:0138587</td>\n",
       "      <td>1.000000</td>\n",
       "      <td>279.132028</td>\n",
       "      <td>138587-loss-presence</td>\n",
       "    </tr>\n",
       "    <tr>\n",
       "      <th>1</th>\n",
       "      <td>HOG:0138587</td>\n",
       "      <td>HOG:0140969</td>\n",
       "      <td>0.617188</td>\n",
       "      <td>74.848689</td>\n",
       "      <td>138587-loss-presence</td>\n",
       "    </tr>\n",
       "    <tr>\n",
       "      <th>2</th>\n",
       "      <td>HOG:0138587</td>\n",
       "      <td>HOG:0142653</td>\n",
       "      <td>0.554688</td>\n",
       "      <td>212.798993</td>\n",
       "      <td>138587-loss-presence</td>\n",
       "    </tr>\n",
       "    <tr>\n",
       "      <th>3</th>\n",
       "      <td>HOG:0138587</td>\n",
       "      <td>HOG:0143421</td>\n",
       "      <td>0.476562</td>\n",
       "      <td>199.994667</td>\n",
       "      <td>138587-loss-presence</td>\n",
       "    </tr>\n",
       "    <tr>\n",
       "      <th>4</th>\n",
       "      <td>HOG:0138587</td>\n",
       "      <td>HOG:0143480</td>\n",
       "      <td>0.554688</td>\n",
       "      <td>326.134007</td>\n",
       "      <td>138587-loss-presence</td>\n",
       "    </tr>\n",
       "    <tr>\n",
       "      <th>5</th>\n",
       "      <td>HOG:0138587</td>\n",
       "      <td>HOG:0144265</td>\n",
       "      <td>0.656250</td>\n",
       "      <td>17.490290</td>\n",
       "      <td>138587-loss-presence</td>\n",
       "    </tr>\n",
       "    <tr>\n",
       "      <th>6</th>\n",
       "      <td>HOG:0138587</td>\n",
       "      <td>HOG:0145548</td>\n",
       "      <td>0.625000</td>\n",
       "      <td>46.479883</td>\n",
       "      <td>138587-loss-presence</td>\n",
       "    </tr>\n",
       "    <tr>\n",
       "      <th>7</th>\n",
       "      <td>HOG:0138587</td>\n",
       "      <td>HOG:0154038</td>\n",
       "      <td>0.476562</td>\n",
       "      <td>36.254876</td>\n",
       "      <td>138587-loss-presence</td>\n",
       "    </tr>\n",
       "    <tr>\n",
       "      <th>8</th>\n",
       "      <td>HOG:0140969</td>\n",
       "      <td>HOG:0138587</td>\n",
       "      <td>0.617188</td>\n",
       "      <td>147.184892</td>\n",
       "      <td>138587-loss-presence</td>\n",
       "    </tr>\n",
       "    <tr>\n",
       "      <th>9</th>\n",
       "      <td>HOG:0140969</td>\n",
       "      <td>HOG:0140969</td>\n",
       "      <td>1.000000</td>\n",
       "      <td>248.496379</td>\n",
       "      <td>138587-loss-presence</td>\n",
       "    </tr>\n",
       "    <tr>\n",
       "      <th>10</th>\n",
       "      <td>HOG:0140969</td>\n",
       "      <td>HOG:0142653</td>\n",
       "      <td>0.546875</td>\n",
       "      <td>115.656441</td>\n",
       "      <td>138587-loss-presence</td>\n",
       "    </tr>\n",
       "    <tr>\n",
       "      <th>11</th>\n",
       "      <td>HOG:0140969</td>\n",
       "      <td>HOG:0143421</td>\n",
       "      <td>0.609375</td>\n",
       "      <td>152.587831</td>\n",
       "      <td>138587-loss-presence</td>\n",
       "    </tr>\n",
       "    <tr>\n",
       "      <th>12</th>\n",
       "      <td>HOG:0140969</td>\n",
       "      <td>HOG:0143480</td>\n",
       "      <td>0.500000</td>\n",
       "      <td>287.018574</td>\n",
       "      <td>138587-loss-presence</td>\n",
       "    </tr>\n",
       "    <tr>\n",
       "      <th>13</th>\n",
       "      <td>HOG:0140969</td>\n",
       "      <td>HOG:0144265</td>\n",
       "      <td>0.500000</td>\n",
       "      <td>13.497305</td>\n",
       "      <td>138587-loss-presence</td>\n",
       "    </tr>\n",
       "    <tr>\n",
       "      <th>14</th>\n",
       "      <td>HOG:0140969</td>\n",
       "      <td>HOG:0145548</td>\n",
       "      <td>0.500000</td>\n",
       "      <td>50.437868</td>\n",
       "      <td>138587-loss-presence</td>\n",
       "    </tr>\n",
       "    <tr>\n",
       "      <th>15</th>\n",
       "      <td>HOG:0140969</td>\n",
       "      <td>HOG:0154038</td>\n",
       "      <td>0.531250</td>\n",
       "      <td>28.119384</td>\n",
       "      <td>138587-loss-presence</td>\n",
       "    </tr>\n",
       "    <tr>\n",
       "      <th>16</th>\n",
       "      <td>HOG:0142653</td>\n",
       "      <td>HOG:0138587</td>\n",
       "      <td>0.554688</td>\n",
       "      <td>279.130109</td>\n",
       "      <td>138587-loss-presence</td>\n",
       "    </tr>\n",
       "    <tr>\n",
       "      <th>17</th>\n",
       "      <td>HOG:0142653</td>\n",
       "      <td>HOG:0140969</td>\n",
       "      <td>0.546875</td>\n",
       "      <td>96.490029</td>\n",
       "      <td>138587-loss-presence</td>\n",
       "    </tr>\n",
       "    <tr>\n",
       "      <th>18</th>\n",
       "      <td>HOG:0142653</td>\n",
       "      <td>HOG:0142653</td>\n",
       "      <td>1.000000</td>\n",
       "      <td>217.021140</td>\n",
       "      <td>138587-loss-presence</td>\n",
       "    </tr>\n",
       "    <tr>\n",
       "      <th>19</th>\n",
       "      <td>HOG:0142653</td>\n",
       "      <td>HOG:0143421</td>\n",
       "      <td>0.703125</td>\n",
       "      <td>199.993578</td>\n",
       "      <td>138587-loss-presence</td>\n",
       "    </tr>\n",
       "    <tr>\n",
       "      <th>20</th>\n",
       "      <td>HOG:0142653</td>\n",
       "      <td>HOG:0143480</td>\n",
       "      <td>0.523438</td>\n",
       "      <td>326.133836</td>\n",
       "      <td>138587-loss-presence</td>\n",
       "    </tr>\n",
       "    <tr>\n",
       "      <th>21</th>\n",
       "      <td>HOG:0142653</td>\n",
       "      <td>HOG:0144265</td>\n",
       "      <td>0.398438</td>\n",
       "      <td>17.473381</td>\n",
       "      <td>138587-loss-presence</td>\n",
       "    </tr>\n",
       "    <tr>\n",
       "      <th>22</th>\n",
       "      <td>HOG:0142653</td>\n",
       "      <td>HOG:0145548</td>\n",
       "      <td>0.460938</td>\n",
       "      <td>56.283550</td>\n",
       "      <td>138587-loss-presence</td>\n",
       "    </tr>\n",
       "    <tr>\n",
       "      <th>23</th>\n",
       "      <td>HOG:0142653</td>\n",
       "      <td>HOG:0154038</td>\n",
       "      <td>0.523438</td>\n",
       "      <td>36.252058</td>\n",
       "      <td>138587-loss-presence</td>\n",
       "    </tr>\n",
       "    <tr>\n",
       "      <th>24</th>\n",
       "      <td>HOG:0143421</td>\n",
       "      <td>HOG:0138587</td>\n",
       "      <td>0.476562</td>\n",
       "      <td>221.962935</td>\n",
       "      <td>138587-loss-presence</td>\n",
       "    </tr>\n",
       "    <tr>\n",
       "      <th>25</th>\n",
       "      <td>HOG:0143421</td>\n",
       "      <td>HOG:0140969</td>\n",
       "      <td>0.609375</td>\n",
       "      <td>74.848689</td>\n",
       "      <td>138587-loss-presence</td>\n",
       "    </tr>\n",
       "    <tr>\n",
       "      <th>26</th>\n",
       "      <td>HOG:0143421</td>\n",
       "      <td>HOG:0142653</td>\n",
       "      <td>0.703125</td>\n",
       "      <td>170.015511</td>\n",
       "      <td>138587-loss-presence</td>\n",
       "    </tr>\n",
       "    <tr>\n",
       "      <th>27</th>\n",
       "      <td>HOG:0143421</td>\n",
       "      <td>HOG:0143421</td>\n",
       "      <td>1.000000</td>\n",
       "      <td>399.629435</td>\n",
       "      <td>138587-loss-presence</td>\n",
       "    </tr>\n",
       "    <tr>\n",
       "      <th>28</th>\n",
       "      <td>HOG:0143421</td>\n",
       "      <td>HOG:0143480</td>\n",
       "      <td>0.515625</td>\n",
       "      <td>417.894131</td>\n",
       "      <td>138587-loss-presence</td>\n",
       "    </tr>\n",
       "    <tr>\n",
       "      <th>29</th>\n",
       "      <td>HOG:0143421</td>\n",
       "      <td>HOG:0144265</td>\n",
       "      <td>0.468750</td>\n",
       "      <td>15.800425</td>\n",
       "      <td>138587-loss-presence</td>\n",
       "    </tr>\n",
       "    <tr>\n",
       "      <th>...</th>\n",
       "      <td>...</td>\n",
       "      <td>...</td>\n",
       "      <td>...</td>\n",
       "      <td>...</td>\n",
       "      <td>...</td>\n",
       "    </tr>\n",
       "    <tr>\n",
       "      <th>770</th>\n",
       "      <td>HOG:0139114</td>\n",
       "      <td>HOG:0138587</td>\n",
       "      <td>0.648438</td>\n",
       "      <td>147.184892</td>\n",
       "      <td>138587-duplication-loss-presence</td>\n",
       "    </tr>\n",
       "    <tr>\n",
       "      <th>771</th>\n",
       "      <td>HOG:0139114</td>\n",
       "      <td>HOG:0139114</td>\n",
       "      <td>1.000000</td>\n",
       "      <td>26.831127</td>\n",
       "      <td>138587-duplication-loss-presence</td>\n",
       "    </tr>\n",
       "    <tr>\n",
       "      <th>772</th>\n",
       "      <td>HOG:0139114</td>\n",
       "      <td>HOG:0139973</td>\n",
       "      <td>0.664062</td>\n",
       "      <td>35.092992</td>\n",
       "      <td>138587-duplication-loss-presence</td>\n",
       "    </tr>\n",
       "    <tr>\n",
       "      <th>773</th>\n",
       "      <td>HOG:0139114</td>\n",
       "      <td>HOG:0140386</td>\n",
       "      <td>0.468750</td>\n",
       "      <td>81.597602</td>\n",
       "      <td>138587-duplication-loss-presence</td>\n",
       "    </tr>\n",
       "    <tr>\n",
       "      <th>774</th>\n",
       "      <td>HOG:0139114</td>\n",
       "      <td>HOG:0140706</td>\n",
       "      <td>0.562500</td>\n",
       "      <td>20.804388</td>\n",
       "      <td>138587-duplication-loss-presence</td>\n",
       "    </tr>\n",
       "    <tr>\n",
       "      <th>775</th>\n",
       "      <td>HOG:0139114</td>\n",
       "      <td>HOG:0144265</td>\n",
       "      <td>0.648438</td>\n",
       "      <td>13.497305</td>\n",
       "      <td>138587-duplication-loss-presence</td>\n",
       "    </tr>\n",
       "    <tr>\n",
       "      <th>776</th>\n",
       "      <td>HOG:0139973</td>\n",
       "      <td>HOG:0138587</td>\n",
       "      <td>0.609375</td>\n",
       "      <td>167.243527</td>\n",
       "      <td>138587-duplication-loss-presence</td>\n",
       "    </tr>\n",
       "    <tr>\n",
       "      <th>777</th>\n",
       "      <td>HOG:0139973</td>\n",
       "      <td>HOG:0139114</td>\n",
       "      <td>0.664062</td>\n",
       "      <td>16.871631</td>\n",
       "      <td>138587-duplication-loss-presence</td>\n",
       "    </tr>\n",
       "    <tr>\n",
       "      <th>778</th>\n",
       "      <td>HOG:0139973</td>\n",
       "      <td>HOG:0139973</td>\n",
       "      <td>1.000000</td>\n",
       "      <td>61.450305</td>\n",
       "      <td>138587-duplication-loss-presence</td>\n",
       "    </tr>\n",
       "    <tr>\n",
       "      <th>779</th>\n",
       "      <td>HOG:0139973</td>\n",
       "      <td>HOG:0140386</td>\n",
       "      <td>0.414062</td>\n",
       "      <td>65.182890</td>\n",
       "      <td>138587-duplication-loss-presence</td>\n",
       "    </tr>\n",
       "    <tr>\n",
       "      <th>780</th>\n",
       "      <td>HOG:0139973</td>\n",
       "      <td>HOG:0140706</td>\n",
       "      <td>0.445312</td>\n",
       "      <td>16.871631</td>\n",
       "      <td>138587-duplication-loss-presence</td>\n",
       "    </tr>\n",
       "    <tr>\n",
       "      <th>781</th>\n",
       "      <td>HOG:0139973</td>\n",
       "      <td>HOG:0144265</td>\n",
       "      <td>0.648438</td>\n",
       "      <td>15.336743</td>\n",
       "      <td>138587-duplication-loss-presence</td>\n",
       "    </tr>\n",
       "    <tr>\n",
       "      <th>782</th>\n",
       "      <td>HOG:0140386</td>\n",
       "      <td>HOG:0138587</td>\n",
       "      <td>0.492188</td>\n",
       "      <td>180.130955</td>\n",
       "      <td>138587-duplication-loss-presence</td>\n",
       "    </tr>\n",
       "    <tr>\n",
       "      <th>783</th>\n",
       "      <td>HOG:0140386</td>\n",
       "      <td>HOG:0139114</td>\n",
       "      <td>0.468750</td>\n",
       "      <td>24.341253</td>\n",
       "      <td>138587-duplication-loss-presence</td>\n",
       "    </tr>\n",
       "    <tr>\n",
       "      <th>784</th>\n",
       "      <td>HOG:0140386</td>\n",
       "      <td>HOG:0139973</td>\n",
       "      <td>0.414062</td>\n",
       "      <td>38.679896</td>\n",
       "      <td>138587-duplication-loss-presence</td>\n",
       "    </tr>\n",
       "    <tr>\n",
       "      <th>785</th>\n",
       "      <td>HOG:0140386</td>\n",
       "      <td>HOG:0140386</td>\n",
       "      <td>1.000000</td>\n",
       "      <td>98.556864</td>\n",
       "      <td>138587-duplication-loss-presence</td>\n",
       "    </tr>\n",
       "    <tr>\n",
       "      <th>786</th>\n",
       "      <td>HOG:0140386</td>\n",
       "      <td>HOG:0140706</td>\n",
       "      <td>0.695312</td>\n",
       "      <td>20.330823</td>\n",
       "      <td>138587-duplication-loss-presence</td>\n",
       "    </tr>\n",
       "    <tr>\n",
       "      <th>787</th>\n",
       "      <td>HOG:0140386</td>\n",
       "      <td>HOG:0144265</td>\n",
       "      <td>0.414062</td>\n",
       "      <td>18.775183</td>\n",
       "      <td>138587-duplication-loss-presence</td>\n",
       "    </tr>\n",
       "    <tr>\n",
       "      <th>788</th>\n",
       "      <td>HOG:0140706</td>\n",
       "      <td>HOG:0138587</td>\n",
       "      <td>0.609375</td>\n",
       "      <td>159.501707</td>\n",
       "      <td>138587-duplication-loss-presence</td>\n",
       "    </tr>\n",
       "    <tr>\n",
       "      <th>789</th>\n",
       "      <td>HOG:0140706</td>\n",
       "      <td>HOG:0139114</td>\n",
       "      <td>0.562500</td>\n",
       "      <td>21.787578</td>\n",
       "      <td>138587-duplication-loss-presence</td>\n",
       "    </tr>\n",
       "    <tr>\n",
       "      <th>790</th>\n",
       "      <td>HOG:0140706</td>\n",
       "      <td>HOG:0139973</td>\n",
       "      <td>0.445312</td>\n",
       "      <td>35.092992</td>\n",
       "      <td>138587-duplication-loss-presence</td>\n",
       "    </tr>\n",
       "    <tr>\n",
       "      <th>791</th>\n",
       "      <td>HOG:0140706</td>\n",
       "      <td>HOG:0140386</td>\n",
       "      <td>0.695312</td>\n",
       "      <td>74.558944</td>\n",
       "      <td>138587-duplication-loss-presence</td>\n",
       "    </tr>\n",
       "    <tr>\n",
       "      <th>792</th>\n",
       "      <td>HOG:0140706</td>\n",
       "      <td>HOG:0140706</td>\n",
       "      <td>1.000000</td>\n",
       "      <td>28.828683</td>\n",
       "      <td>138587-duplication-loss-presence</td>\n",
       "    </tr>\n",
       "    <tr>\n",
       "      <th>793</th>\n",
       "      <td>HOG:0140706</td>\n",
       "      <td>HOG:0144265</td>\n",
       "      <td>0.554688</td>\n",
       "      <td>14.588668</td>\n",
       "      <td>138587-duplication-loss-presence</td>\n",
       "    </tr>\n",
       "    <tr>\n",
       "      <th>794</th>\n",
       "      <td>HOG:0144265</td>\n",
       "      <td>HOG:0138587</td>\n",
       "      <td>0.656250</td>\n",
       "      <td>189.936512</td>\n",
       "      <td>138587-duplication-loss-presence</td>\n",
       "    </tr>\n",
       "    <tr>\n",
       "      <th>795</th>\n",
       "      <td>HOG:0144265</td>\n",
       "      <td>HOG:0139114</td>\n",
       "      <td>0.648438</td>\n",
       "      <td>16.871631</td>\n",
       "      <td>138587-duplication-loss-presence</td>\n",
       "    </tr>\n",
       "    <tr>\n",
       "      <th>796</th>\n",
       "      <td>HOG:0144265</td>\n",
       "      <td>HOG:0139973</td>\n",
       "      <td>0.648438</td>\n",
       "      <td>39.875531</td>\n",
       "      <td>138587-duplication-loss-presence</td>\n",
       "    </tr>\n",
       "    <tr>\n",
       "      <th>797</th>\n",
       "      <td>HOG:0144265</td>\n",
       "      <td>HOG:0140386</td>\n",
       "      <td>0.414062</td>\n",
       "      <td>79.105389</td>\n",
       "      <td>138587-duplication-loss-presence</td>\n",
       "    </tr>\n",
       "    <tr>\n",
       "      <th>798</th>\n",
       "      <td>HOG:0144265</td>\n",
       "      <td>HOG:0140706</td>\n",
       "      <td>0.554688</td>\n",
       "      <td>17.962994</td>\n",
       "      <td>138587-duplication-loss-presence</td>\n",
       "    </tr>\n",
       "    <tr>\n",
       "      <th>799</th>\n",
       "      <td>HOG:0144265</td>\n",
       "      <td>HOG:0144265</td>\n",
       "      <td>1.000000</td>\n",
       "      <td>48.200014</td>\n",
       "      <td>138587-duplication-loss-presence</td>\n",
       "    </tr>\n",
       "  </tbody>\n",
       "</table>\n",
       "<p>800 rows × 5 columns</p>\n",
       "</div>"
      ],
      "text/plain": [
       "      Unnamed: 0   Unnamed: 1   Jaccard    Semantic  \\\n",
       "0    HOG:0138587  HOG:0138587  1.000000  279.132028   \n",
       "1    HOG:0138587  HOG:0140969  0.617188   74.848689   \n",
       "2    HOG:0138587  HOG:0142653  0.554688  212.798993   \n",
       "3    HOG:0138587  HOG:0143421  0.476562  199.994667   \n",
       "4    HOG:0138587  HOG:0143480  0.554688  326.134007   \n",
       "5    HOG:0138587  HOG:0144265  0.656250   17.490290   \n",
       "6    HOG:0138587  HOG:0145548  0.625000   46.479883   \n",
       "7    HOG:0138587  HOG:0154038  0.476562   36.254876   \n",
       "8    HOG:0140969  HOG:0138587  0.617188  147.184892   \n",
       "9    HOG:0140969  HOG:0140969  1.000000  248.496379   \n",
       "10   HOG:0140969  HOG:0142653  0.546875  115.656441   \n",
       "11   HOG:0140969  HOG:0143421  0.609375  152.587831   \n",
       "12   HOG:0140969  HOG:0143480  0.500000  287.018574   \n",
       "13   HOG:0140969  HOG:0144265  0.500000   13.497305   \n",
       "14   HOG:0140969  HOG:0145548  0.500000   50.437868   \n",
       "15   HOG:0140969  HOG:0154038  0.531250   28.119384   \n",
       "16   HOG:0142653  HOG:0138587  0.554688  279.130109   \n",
       "17   HOG:0142653  HOG:0140969  0.546875   96.490029   \n",
       "18   HOG:0142653  HOG:0142653  1.000000  217.021140   \n",
       "19   HOG:0142653  HOG:0143421  0.703125  199.993578   \n",
       "20   HOG:0142653  HOG:0143480  0.523438  326.133836   \n",
       "21   HOG:0142653  HOG:0144265  0.398438   17.473381   \n",
       "22   HOG:0142653  HOG:0145548  0.460938   56.283550   \n",
       "23   HOG:0142653  HOG:0154038  0.523438   36.252058   \n",
       "24   HOG:0143421  HOG:0138587  0.476562  221.962935   \n",
       "25   HOG:0143421  HOG:0140969  0.609375   74.848689   \n",
       "26   HOG:0143421  HOG:0142653  0.703125  170.015511   \n",
       "27   HOG:0143421  HOG:0143421  1.000000  399.629435   \n",
       "28   HOG:0143421  HOG:0143480  0.515625  417.894131   \n",
       "29   HOG:0143421  HOG:0144265  0.468750   15.800425   \n",
       "..           ...          ...       ...         ...   \n",
       "770  HOG:0139114  HOG:0138587  0.648438  147.184892   \n",
       "771  HOG:0139114  HOG:0139114  1.000000   26.831127   \n",
       "772  HOG:0139114  HOG:0139973  0.664062   35.092992   \n",
       "773  HOG:0139114  HOG:0140386  0.468750   81.597602   \n",
       "774  HOG:0139114  HOG:0140706  0.562500   20.804388   \n",
       "775  HOG:0139114  HOG:0144265  0.648438   13.497305   \n",
       "776  HOG:0139973  HOG:0138587  0.609375  167.243527   \n",
       "777  HOG:0139973  HOG:0139114  0.664062   16.871631   \n",
       "778  HOG:0139973  HOG:0139973  1.000000   61.450305   \n",
       "779  HOG:0139973  HOG:0140386  0.414062   65.182890   \n",
       "780  HOG:0139973  HOG:0140706  0.445312   16.871631   \n",
       "781  HOG:0139973  HOG:0144265  0.648438   15.336743   \n",
       "782  HOG:0140386  HOG:0138587  0.492188  180.130955   \n",
       "783  HOG:0140386  HOG:0139114  0.468750   24.341253   \n",
       "784  HOG:0140386  HOG:0139973  0.414062   38.679896   \n",
       "785  HOG:0140386  HOG:0140386  1.000000   98.556864   \n",
       "786  HOG:0140386  HOG:0140706  0.695312   20.330823   \n",
       "787  HOG:0140386  HOG:0144265  0.414062   18.775183   \n",
       "788  HOG:0140706  HOG:0138587  0.609375  159.501707   \n",
       "789  HOG:0140706  HOG:0139114  0.562500   21.787578   \n",
       "790  HOG:0140706  HOG:0139973  0.445312   35.092992   \n",
       "791  HOG:0140706  HOG:0140386  0.695312   74.558944   \n",
       "792  HOG:0140706  HOG:0140706  1.000000   28.828683   \n",
       "793  HOG:0140706  HOG:0144265  0.554688   14.588668   \n",
       "794  HOG:0144265  HOG:0138587  0.656250  189.936512   \n",
       "795  HOG:0144265  HOG:0139114  0.648438   16.871631   \n",
       "796  HOG:0144265  HOG:0139973  0.648438   39.875531   \n",
       "797  HOG:0144265  HOG:0140386  0.414062   79.105389   \n",
       "798  HOG:0144265  HOG:0140706  0.554688   17.962994   \n",
       "799  HOG:0144265  HOG:0144265  1.000000   48.200014   \n",
       "\n",
       "                                event  \n",
       "0                138587-loss-presence  \n",
       "1                138587-loss-presence  \n",
       "2                138587-loss-presence  \n",
       "3                138587-loss-presence  \n",
       "4                138587-loss-presence  \n",
       "5                138587-loss-presence  \n",
       "6                138587-loss-presence  \n",
       "7                138587-loss-presence  \n",
       "8                138587-loss-presence  \n",
       "9                138587-loss-presence  \n",
       "10               138587-loss-presence  \n",
       "11               138587-loss-presence  \n",
       "12               138587-loss-presence  \n",
       "13               138587-loss-presence  \n",
       "14               138587-loss-presence  \n",
       "15               138587-loss-presence  \n",
       "16               138587-loss-presence  \n",
       "17               138587-loss-presence  \n",
       "18               138587-loss-presence  \n",
       "19               138587-loss-presence  \n",
       "20               138587-loss-presence  \n",
       "21               138587-loss-presence  \n",
       "22               138587-loss-presence  \n",
       "23               138587-loss-presence  \n",
       "24               138587-loss-presence  \n",
       "25               138587-loss-presence  \n",
       "26               138587-loss-presence  \n",
       "27               138587-loss-presence  \n",
       "28               138587-loss-presence  \n",
       "29               138587-loss-presence  \n",
       "..                                ...  \n",
       "770  138587-duplication-loss-presence  \n",
       "771  138587-duplication-loss-presence  \n",
       "772  138587-duplication-loss-presence  \n",
       "773  138587-duplication-loss-presence  \n",
       "774  138587-duplication-loss-presence  \n",
       "775  138587-duplication-loss-presence  \n",
       "776  138587-duplication-loss-presence  \n",
       "777  138587-duplication-loss-presence  \n",
       "778  138587-duplication-loss-presence  \n",
       "779  138587-duplication-loss-presence  \n",
       "780  138587-duplication-loss-presence  \n",
       "781  138587-duplication-loss-presence  \n",
       "782  138587-duplication-loss-presence  \n",
       "783  138587-duplication-loss-presence  \n",
       "784  138587-duplication-loss-presence  \n",
       "785  138587-duplication-loss-presence  \n",
       "786  138587-duplication-loss-presence  \n",
       "787  138587-duplication-loss-presence  \n",
       "788  138587-duplication-loss-presence  \n",
       "789  138587-duplication-loss-presence  \n",
       "790  138587-duplication-loss-presence  \n",
       "791  138587-duplication-loss-presence  \n",
       "792  138587-duplication-loss-presence  \n",
       "793  138587-duplication-loss-presence  \n",
       "794  138587-duplication-loss-presence  \n",
       "795  138587-duplication-loss-presence  \n",
       "796  138587-duplication-loss-presence  \n",
       "797  138587-duplication-loss-presence  \n",
       "798  138587-duplication-loss-presence  \n",
       "799  138587-duplication-loss-presence  \n",
       "\n",
       "[800 rows x 5 columns]"
      ]
     },
     "execution_count": 13,
     "metadata": {},
     "output_type": "execute_result"
    }
   ],
   "source": [
    "data"
   ]
  },
  {
   "cell_type": "code",
   "execution_count": 16,
   "metadata": {},
   "outputs": [],
   "source": [
    "jaccardScore = data['Jaccard']\n",
    "semanticScore = data['Semantic']"
   ]
  },
  {
   "cell_type": "code",
   "execution_count": 17,
   "metadata": {},
   "outputs": [
    {
     "data": {
      "image/png": "[encoded data removed]",
      "text/plain": [
       "<Figure size 432x288 with 1 Axes>"
      ]
     },
     "metadata": {},
     "output_type": "display_data"
    }
   ],
   "source": [
    "%matplotlib inline\n",
    "import matplotlib.pyplot as plt\n",
    "plt.plot(semanticScore, jaccardScore,'ro')\n",
    "plt.ylabel('jaccard')\n",
    "plt.xlabel('semantic')\n",
    "plt.show()"
   ]
  },
  {
   "cell_type": "code",
   "execution_count": 18,
   "metadata": {},
   "outputs": [],
   "source": [
    "events_list = data.event.unique()"
   ]
  },
  {
   "cell_type": "code",
   "execution_count": 26,
   "metadata": {},
   "outputs": [
    {
     "name": "stdout",
     "output_type": "stream",
     "text": [
      "*****\n"
     ]
    },
    {
     "name": "stderr",
     "output_type": "stream",
     "text": [
      "/home/laurent/.pyenv/versions/3.6.0/envs/myenv/lib/python3.6/site-packages/ipykernel_launcher.py:4: SettingWithCopyWarning: \n",
      "A value is trying to be set on a copy of a slice from a DataFrame.\n",
      "Try using .loc[row_indexer,col_indexer] = value instead\n",
      "\n",
      "See the caveats in the documentation: http://pandas.pydata.org/pandas-docs/stable/indexing.html#indexing-view-versus-copy\n",
      "  after removing the cwd from sys.path.\n"
     ]
    },
    {
     "data": {
      "image/png": "[encoded data removed]",
      "text/plain": [
       "<Figure size 432x288 with 1 Axes>"
      ]
     },
     "metadata": {},
     "output_type": "display_data"
    },
    {
     "name": "stdout",
     "output_type": "stream",
     "text": [
      "*****\n"
     ]
    },
    {
     "data": {
      "image/png": "[encoded data removed]",
      "text/plain": [
       "<Figure size 432x288 with 1 Axes>"
      ]
     },
     "metadata": {},
     "output_type": "display_data"
    },
    {
     "name": "stdout",
     "output_type": "stream",
     "text": [
      "*****\n"
     ]
    },
    {
     "data": {
      "image/png": "[encoded data removed]",
      "text/plain": [
       "<Figure size 432x288 with 1 Axes>"
      ]
     },
     "metadata": {},
     "output_type": "display_data"
    },
    {
     "name": "stdout",
     "output_type": "stream",
     "text": [
      "*****\n"
     ]
    },
    {
     "data": {
      "image/png": "[encoded data removed]",
      "text/plain": [
       "<Figure size 432x288 with 1 Axes>"
      ]
     },
     "metadata": {},
     "output_type": "display_data"
    },
    {
     "name": "stdout",
     "output_type": "stream",
     "text": [
      "*****\n"
     ]
    },
    {
     "data": {
      "image/png": "[encoded data removed]",
      "text/plain": [
       "<Figure size 432x288 with 1 Axes>"
      ]
     },
     "metadata": {},
     "output_type": "display_data"
    },
    {
     "name": "stdout",
     "output_type": "stream",
     "text": [
      "*****\n"
     ]
    },
    {
     "data": {
      "image/png": "[encoded data removed]",
      "text/plain": [
       "<Figure size 432x288 with 1 Axes>"
      ]
     },
     "metadata": {},
     "output_type": "display_data"
    },
    {
     "name": "stdout",
     "output_type": "stream",
     "text": [
      "*****\n"
     ]
    },
    {
     "data": {
      "image/png": "[encoded data removed]",
      "text/plain": [
       "<Figure size 432x288 with 1 Axes>"
      ]
     },
     "metadata": {},
     "output_type": "display_data"
    },
    {
     "name": "stdout",
     "output_type": "stream",
     "text": [
      "*****\n"
     ]
    },
    {
     "data": {
      "image/png": "[encoded data removed]",
      "text/plain": [
       "<Figure size 432x288 with 1 Axes>"
      ]
     },
     "metadata": {},
     "output_type": "display_data"
    },
    {
     "name": "stdout",
     "output_type": "stream",
     "text": [
      "*****\n"
     ]
    },
    {
     "data": {
      "image/png": "[encoded data removed]",
      "text/plain": [
       "<Figure size 432x288 with 1 Axes>"
      ]
     },
     "metadata": {},
     "output_type": "display_data"
    },
    {
     "name": "stdout",
     "output_type": "stream",
     "text": [
      "*****\n"
     ]
    },
    {
     "data": {
      "image/png": "[encoded data removed]",
      "text/plain": [
       "<Figure size 432x288 with 1 Axes>"
      ]
     },
     "metadata": {},
     "output_type": "display_data"
    },
    {
     "name": "stdout",
     "output_type": "stream",
     "text": [
      "*****\n"
     ]
    },
    {
     "data": {
      "image/png": "[encoded data removed]",
      "text/plain": [
       "<Figure size 432x288 with 1 Axes>"
      ]
     },
     "metadata": {},
     "output_type": "display_data"
    },
    {
     "name": "stdout",
     "output_type": "stream",
     "text": [
      "*****\n"
     ]
    },
    {
     "data": {
      "image/png": "[encoded data removed]",
      "text/plain": [
       "<Figure size 432x288 with 1 Axes>"
      ]
     },
     "metadata": {},
     "output_type": "display_data"
    },
    {
     "name": "stdout",
     "output_type": "stream",
     "text": [
      "*****\n"
     ]
    },
    {
     "data": {
      "image/png": "[encoded data removed]",
      "text/plain": [
       "<Figure size 432x288 with 1 Axes>"
      ]
     },
     "metadata": {},
     "output_type": "display_data"
    },
    {
     "name": "stdout",
     "output_type": "stream",
     "text": [
      "*****\n"
     ]
    },
    {
     "data": {
      "image/png": "[encoded data removed]",
      "text/plain": [
       "<Figure size 432x288 with 1 Axes>"
      ]
     },
     "metadata": {},
     "output_type": "display_data"
    },
    {
     "name": "stdout",
     "output_type": "stream",
     "text": [
      "*****\n"
     ]
    },
    {
     "data": {
      "image/png": "[encoded data removed]",
      "text/plain": [
       "<Figure size 432x288 with 1 Axes>"
      ]
     },
     "metadata": {},
     "output_type": "display_data"
    }
   ],
   "source": [
    "for event in events_list:\n",
    "    event_data = data.loc[data['event'] == event]\n",
    "    semantic_value = event_data.iloc[0]['Semantic']\n",
    "    event_data['Semantic'] = event_data['Semantic'] / semantic_value\n",
    "\n",
    "    print('*****')\n",
    "    jaccardScore = event_data['Jaccard']\n",
    "    semanticScore = event_data['Semantic']\n",
    "    \n",
    "    plt.plot(semanticScore, jaccardScore,'ro')\n",
    "    plt.hold\n",
    "    plt.ylabel('jaccard')\n",
    "    plt.xlabel('semantic')\n",
    "plt.show()"
   ]
  },
  {
   "cell_type": "code",
   "execution_count": null,
   "metadata": {},
   "outputs": [],
   "source": []
  },
  {
   "cell_type": "code",
   "execution_count": null,
   "metadata": {},
   "outputs": [],
   "source": []
  },
  {
   "cell_type": "code",
   "execution_count": null,
   "metadata": {},
   "outputs": [],
   "source": []
  },
  {
   "cell_type": "code",
   "execution_count": null,
   "metadata": {},
   "outputs": [],
   "source": []
  },
  {
   "cell_type": "code",
   "execution_count": 24,
   "metadata": {},
   "outputs": [],
   "source": [
    "# load data\n",
    "hogs = pd.read_csv('results/hogvshog110620181221.csv', sep='\\t')\n",
    "# rename columns\n",
    "hogs = hogs.rename(index=str, columns={\"Unnamed: 0\": \"Hog id\", \"0\": \"Semantic score\"})\n",
    "# computes number of hog ids to keep\n",
    "number_hog_to_keep = int(hogs.shape[0]/20)\n",
    "# sort and keep n best hogs\n",
    "dt = hogs.sort_values(by=['Semantic score']).tail(number_hog_to_keep)\n",
    "# extracts index\n",
    "hog_ids = dt[\"Hog id\"].tolist()"
   ]
  },
  {
   "cell_type": "code",
   "execution_count": 25,
   "metadata": {},
   "outputs": [
    {
     "data": {
      "text/plain": [
       "40"
      ]
     },
     "execution_count": 25,
     "metadata": {},
     "output_type": "execute_result"
    }
   ],
   "source": [
    "number_hog_to_keep"
   ]
  },
  {
   "cell_type": "code",
   "execution_count": 33,
   "metadata": {},
   "outputs": [
    {
     "data": {
      "text/plain": [
       "25"
      ]
     },
     "execution_count": 33,
     "metadata": {},
     "output_type": "execute_result"
    }
   ],
   "source": [
    "number_hog_to_keep"
   ]
  },
  {
   "cell_type": "code",
   "execution_count": 34,
   "metadata": {},
   "outputs": [
    {
     "data": {
      "text/plain": [
       "<matplotlib.axes._subplots.AxesSubplot at 0x7f2d0f933b38>"
      ]
     },
     "execution_count": 34,
     "metadata": {},
     "output_type": "execute_result"
    },
    {
     "data": {
      "image/png": "[encoded data removed]",
      "text/plain": [
       "<Figure size 432x288 with 1 Axes>"
      ]
     },
     "metadata": {},
     "output_type": "display_data"
    }
   ],
   "source": [
    "%matplotlib inline\n",
    "import matplotlib.pyplot as plt\n",
    "hogs['Semantic score'].hist()"
   ]
  },
  {
   "cell_type": "code",
   "execution_count": 26,
   "metadata": {},
   "outputs": [
    {
     "data": {
      "text/plain": [
       "<matplotlib.axes._subplots.AxesSubplot at 0x7f2d0f9c9dd8>"
      ]
     },
     "execution_count": 26,
     "metadata": {},
     "output_type": "execute_result"
    },
    {
     "data": {
      "image/png": "[encoded data removed]",
      "text/plain": [
       "<Figure size 432x288 with 1 Axes>"
      ]
     },
     "metadata": {},
     "output_type": "display_data"
    }
   ],
   "source": [
    "dt['Semantic score'].hist()"
   ]
  },
  {
   "cell_type": "code",
   "execution_count": 27,
   "metadata": {},
   "outputs": [
    {
     "data": {
      "text/html": [
       "<div>\n",
       "<style scoped>\n",
       "    .dataframe tbody tr th:only-of-type {\n",
       "        vertical-align: middle;\n",
       "    }\n",
       "\n",
       "    .dataframe tbody tr th {\n",
       "        vertical-align: top;\n",
       "    }\n",
       "\n",
       "    .dataframe thead th {\n",
       "        text-align: right;\n",
       "    }\n",
       "</style>\n",
       "<table border=\"1\" class=\"dataframe\">\n",
       "  <thead>\n",
       "    <tr style=\"text-align: right;\">\n",
       "      <th></th>\n",
       "      <th>Hog id</th>\n",
       "      <th>Semantic score</th>\n",
       "    </tr>\n",
       "  </thead>\n",
       "  <tbody>\n",
       "    <tr>\n",
       "      <th>469</th>\n",
       "      <td>48061</td>\n",
       "      <td>0.000000</td>\n",
       "    </tr>\n",
       "    <tr>\n",
       "      <th>315</th>\n",
       "      <td>98959</td>\n",
       "      <td>13.497305</td>\n",
       "    </tr>\n",
       "    <tr>\n",
       "      <th>324</th>\n",
       "      <td>96928</td>\n",
       "      <td>13.497305</td>\n",
       "    </tr>\n",
       "    <tr>\n",
       "      <th>136</th>\n",
       "      <td>95533</td>\n",
       "      <td>13.497305</td>\n",
       "    </tr>\n",
       "    <tr>\n",
       "      <th>63</th>\n",
       "      <td>95371</td>\n",
       "      <td>13.497305</td>\n",
       "    </tr>\n",
       "    <tr>\n",
       "      <th>327</th>\n",
       "      <td>94150</td>\n",
       "      <td>13.497305</td>\n",
       "    </tr>\n",
       "    <tr>\n",
       "      <th>265</th>\n",
       "      <td>81330</td>\n",
       "      <td>13.497305</td>\n",
       "    </tr>\n",
       "    <tr>\n",
       "      <th>329</th>\n",
       "      <td>81579</td>\n",
       "      <td>13.497305</td>\n",
       "    </tr>\n",
       "    <tr>\n",
       "      <th>109</th>\n",
       "      <td>93435</td>\n",
       "      <td>13.497305</td>\n",
       "    </tr>\n",
       "    <tr>\n",
       "      <th>471</th>\n",
       "      <td>29637</td>\n",
       "      <td>13.497305</td>\n",
       "    </tr>\n",
       "    <tr>\n",
       "      <th>351</th>\n",
       "      <td>99046</td>\n",
       "      <td>13.497305</td>\n",
       "    </tr>\n",
       "    <tr>\n",
       "      <th>222</th>\n",
       "      <td>102870</td>\n",
       "      <td>13.497305</td>\n",
       "    </tr>\n",
       "    <tr>\n",
       "      <th>94</th>\n",
       "      <td>99549</td>\n",
       "      <td>13.497305</td>\n",
       "    </tr>\n",
       "    <tr>\n",
       "      <th>447</th>\n",
       "      <td>29593</td>\n",
       "      <td>13.497305</td>\n",
       "    </tr>\n",
       "    <tr>\n",
       "      <th>74</th>\n",
       "      <td>93348</td>\n",
       "      <td>13.497305</td>\n",
       "    </tr>\n",
       "    <tr>\n",
       "      <th>210</th>\n",
       "      <td>32982</td>\n",
       "      <td>13.497305</td>\n",
       "    </tr>\n",
       "    <tr>\n",
       "      <th>494</th>\n",
       "      <td>100342</td>\n",
       "      <td>13.497305</td>\n",
       "    </tr>\n",
       "    <tr>\n",
       "      <th>201</th>\n",
       "      <td>31152</td>\n",
       "      <td>13.497305</td>\n",
       "    </tr>\n",
       "    <tr>\n",
       "      <th>180</th>\n",
       "      <td>93578</td>\n",
       "      <td>13.497305</td>\n",
       "    </tr>\n",
       "    <tr>\n",
       "      <th>312</th>\n",
       "      <td>30348</td>\n",
       "      <td>13.497305</td>\n",
       "    </tr>\n",
       "    <tr>\n",
       "      <th>388</th>\n",
       "      <td>111069</td>\n",
       "      <td>15.336743</td>\n",
       "    </tr>\n",
       "    <tr>\n",
       "      <th>423</th>\n",
       "      <td>71536</td>\n",
       "      <td>15.336743</td>\n",
       "    </tr>\n",
       "    <tr>\n",
       "      <th>365</th>\n",
       "      <td>93951</td>\n",
       "      <td>16.871631</td>\n",
       "    </tr>\n",
       "    <tr>\n",
       "      <th>241</th>\n",
       "      <td>93922</td>\n",
       "      <td>16.871631</td>\n",
       "    </tr>\n",
       "    <tr>\n",
       "      <th>463</th>\n",
       "      <td>94132</td>\n",
       "      <td>18.506536</td>\n",
       "    </tr>\n",
       "  </tbody>\n",
       "</table>\n",
       "</div>"
      ],
      "text/plain": [
       "     Hog id  Semantic score\n",
       "469   48061        0.000000\n",
       "315   98959       13.497305\n",
       "324   96928       13.497305\n",
       "136   95533       13.497305\n",
       "63    95371       13.497305\n",
       "327   94150       13.497305\n",
       "265   81330       13.497305\n",
       "329   81579       13.497305\n",
       "109   93435       13.497305\n",
       "471   29637       13.497305\n",
       "351   99046       13.497305\n",
       "222  102870       13.497305\n",
       "94    99549       13.497305\n",
       "447   29593       13.497305\n",
       "74    93348       13.497305\n",
       "210   32982       13.497305\n",
       "494  100342       13.497305\n",
       "201   31152       13.497305\n",
       "180   93578       13.497305\n",
       "312   30348       13.497305\n",
       "388  111069       15.336743\n",
       "423   71536       15.336743\n",
       "365   93951       16.871631\n",
       "241   93922       16.871631\n",
       "463   94132       18.506536"
      ]
     },
     "execution_count": 27,
     "metadata": {},
     "output_type": "execute_result"
    }
   ],
   "source": [
    "hogs.sort_values(by=['Semantic score']).head(number_hog_to_keep)\n"
   ]
  },
  {
   "cell_type": "code",
   "execution_count": 28,
   "metadata": {},
   "outputs": [
    {
     "data": {
      "text/html": [
       "<div>\n",
       "<style scoped>\n",
       "    .dataframe tbody tr th:only-of-type {\n",
       "        vertical-align: middle;\n",
       "    }\n",
       "\n",
       "    .dataframe tbody tr th {\n",
       "        vertical-align: top;\n",
       "    }\n",
       "\n",
       "    .dataframe thead th {\n",
       "        text-align: right;\n",
       "    }\n",
       "</style>\n",
       "<table border=\"1\" class=\"dataframe\">\n",
       "  <thead>\n",
       "    <tr style=\"text-align: right;\">\n",
       "      <th></th>\n",
       "      <th>Hog id</th>\n",
       "      <th>Semantic score</th>\n",
       "    </tr>\n",
       "  </thead>\n",
       "  <tbody>\n",
       "    <tr>\n",
       "      <th>19</th>\n",
       "      <td>138587</td>\n",
       "      <td>279.132028</td>\n",
       "    </tr>\n",
       "    <tr>\n",
       "      <th>291</th>\n",
       "      <td>3123</td>\n",
       "      <td>279.773871</td>\n",
       "    </tr>\n",
       "    <tr>\n",
       "      <th>366</th>\n",
       "      <td>17152</td>\n",
       "      <td>280.413747</td>\n",
       "    </tr>\n",
       "    <tr>\n",
       "      <th>85</th>\n",
       "      <td>140487</td>\n",
       "      <td>298.013849</td>\n",
       "    </tr>\n",
       "    <tr>\n",
       "      <th>65</th>\n",
       "      <td>137922</td>\n",
       "      <td>304.633671</td>\n",
       "    </tr>\n",
       "    <tr>\n",
       "      <th>492</th>\n",
       "      <td>6129</td>\n",
       "      <td>308.179504</td>\n",
       "    </tr>\n",
       "    <tr>\n",
       "      <th>127</th>\n",
       "      <td>140731</td>\n",
       "      <td>317.227361</td>\n",
       "    </tr>\n",
       "    <tr>\n",
       "      <th>179</th>\n",
       "      <td>141548</td>\n",
       "      <td>320.694797</td>\n",
       "    </tr>\n",
       "    <tr>\n",
       "      <th>369</th>\n",
       "      <td>18561</td>\n",
       "      <td>365.218988</td>\n",
       "    </tr>\n",
       "    <tr>\n",
       "      <th>68</th>\n",
       "      <td>5267</td>\n",
       "      <td>374.883488</td>\n",
       "    </tr>\n",
       "    <tr>\n",
       "      <th>383</th>\n",
       "      <td>100135</td>\n",
       "      <td>385.023626</td>\n",
       "    </tr>\n",
       "    <tr>\n",
       "      <th>156</th>\n",
       "      <td>18773</td>\n",
       "      <td>444.349644</td>\n",
       "    </tr>\n",
       "    <tr>\n",
       "      <th>461</th>\n",
       "      <td>18617</td>\n",
       "      <td>465.392446</td>\n",
       "    </tr>\n",
       "    <tr>\n",
       "      <th>386</th>\n",
       "      <td>139051</td>\n",
       "      <td>492.741711</td>\n",
       "    </tr>\n",
       "    <tr>\n",
       "      <th>248</th>\n",
       "      <td>5637</td>\n",
       "      <td>502.341742</td>\n",
       "    </tr>\n",
       "    <tr>\n",
       "      <th>299</th>\n",
       "      <td>17011</td>\n",
       "      <td>572.187318</td>\n",
       "    </tr>\n",
       "    <tr>\n",
       "      <th>314</th>\n",
       "      <td>19086</td>\n",
       "      <td>689.221960</td>\n",
       "    </tr>\n",
       "    <tr>\n",
       "      <th>173</th>\n",
       "      <td>20862</td>\n",
       "      <td>723.774360</td>\n",
       "    </tr>\n",
       "    <tr>\n",
       "      <th>77</th>\n",
       "      <td>18460</td>\n",
       "      <td>729.686668</td>\n",
       "    </tr>\n",
       "    <tr>\n",
       "      <th>453</th>\n",
       "      <td>6032</td>\n",
       "      <td>752.039646</td>\n",
       "    </tr>\n",
       "    <tr>\n",
       "      <th>283</th>\n",
       "      <td>100940</td>\n",
       "      <td>777.592091</td>\n",
       "    </tr>\n",
       "    <tr>\n",
       "      <th>2</th>\n",
       "      <td>139266</td>\n",
       "      <td>794.459560</td>\n",
       "    </tr>\n",
       "    <tr>\n",
       "      <th>240</th>\n",
       "      <td>18933</td>\n",
       "      <td>1040.017439</td>\n",
       "    </tr>\n",
       "    <tr>\n",
       "      <th>460</th>\n",
       "      <td>18352</td>\n",
       "      <td>1187.191989</td>\n",
       "    </tr>\n",
       "    <tr>\n",
       "      <th>253</th>\n",
       "      <td>17935</td>\n",
       "      <td>1198.308945</td>\n",
       "    </tr>\n",
       "  </tbody>\n",
       "</table>\n",
       "</div>"
      ],
      "text/plain": [
       "     Hog id  Semantic score\n",
       "19   138587      279.132028\n",
       "291    3123      279.773871\n",
       "366   17152      280.413747\n",
       "85   140487      298.013849\n",
       "65   137922      304.633671\n",
       "492    6129      308.179504\n",
       "127  140731      317.227361\n",
       "179  141548      320.694797\n",
       "369   18561      365.218988\n",
       "68     5267      374.883488\n",
       "383  100135      385.023626\n",
       "156   18773      444.349644\n",
       "461   18617      465.392446\n",
       "386  139051      492.741711\n",
       "248    5637      502.341742\n",
       "299   17011      572.187318\n",
       "314   19086      689.221960\n",
       "173   20862      723.774360\n",
       "77    18460      729.686668\n",
       "453    6032      752.039646\n",
       "283  100940      777.592091\n",
       "2    139266      794.459560\n",
       "240   18933     1040.017439\n",
       "460   18352     1187.191989\n",
       "253   17935     1198.308945"
      ]
     },
     "execution_count": 28,
     "metadata": {},
     "output_type": "execute_result"
    }
   ],
   "source": [
    "dt.sort_values(by=['Semantic score'])\n"
   ]
  },
  {
   "cell_type": "code",
   "execution_count": 30,
   "metadata": {},
   "outputs": [
    {
     "data": {
      "text/plain": [
       "<bound method DataFrame.reset_index of      Hog id  Semantic score\n",
       "19   138587      279.132028\n",
       "291    3123      279.773871\n",
       "366   17152      280.413747\n",
       "85   140487      298.013849\n",
       "65   137922      304.633671\n",
       "492    6129      308.179504\n",
       "127  140731      317.227361\n",
       "179  141548      320.694797\n",
       "369   18561      365.218988\n",
       "68     5267      374.883488\n",
       "383  100135      385.023626\n",
       "156   18773      444.349644\n",
       "461   18617      465.392446\n",
       "386  139051      492.741711\n",
       "248    5637      502.341742\n",
       "299   17011      572.187318\n",
       "314   19086      689.221960\n",
       "173   20862      723.774360\n",
       "77    18460      729.686668\n",
       "453    6032      752.039646\n",
       "283  100940      777.592091\n",
       "2    139266      794.459560\n",
       "240   18933     1040.017439\n",
       "460   18352     1187.191989\n",
       "253   17935     1198.308945>"
      ]
     },
     "execution_count": 30,
     "metadata": {},
     "output_type": "execute_result"
    }
   ],
   "source": [
    "dt.to_csv"
   ]
  },
  {
   "cell_type": "code",
   "execution_count": 38,
   "metadata": {},
   "outputs": [],
   "source": [
    "hogs_list = list(dt['Hog id'])"
   ]
  },
  {
   "cell_type": "code",
   "execution_count": 59,
   "metadata": {},
   "outputs": [],
   "source": [
    "hogs_list_dt = pd.DataFrame({'hog id':hogs_list})\n",
    "\n"
   ]
  },
  {
   "cell_type": "code",
   "execution_count": 66,
   "metadata": {},
   "outputs": [],
   "source": [
    "hogs_list_dt.to_csv('hog_list.csv', sep='\\t')"
   ]
  },
  {
   "cell_type": "code",
   "execution_count": 73,
   "metadata": {},
   "outputs": [],
   "source": [
    "hog_ids = list(pd.read_csv('hog_list.csv', sep='\\t')['hog id'])"
   ]
  },
  {
   "cell_type": "code",
   "execution_count": 74,
   "metadata": {},
   "outputs": [
    {
     "data": {
      "text/plain": [
       "[138587,\n",
       " 3123,\n",
       " 17152,\n",
       " 140487,\n",
       " 137922,\n",
       " 6129,\n",
       " 140731,\n",
       " 141548,\n",
       " 18561,\n",
       " 5267,\n",
       " 100135,\n",
       " 18773,\n",
       " 18617,\n",
       " 139051,\n",
       " 5637,\n",
       " 17011,\n",
       " 19086,\n",
       " 20862,\n",
       " 18460,\n",
       " 6032,\n",
       " 100940,\n",
       " 139266,\n",
       " 18933,\n",
       " 18352,\n",
       " 17935]"
      ]
     },
     "execution_count": 74,
     "metadata": {},
     "output_type": "execute_result"
    }
   ],
   "source": [
    "hog_ids"
   ]
  },
  {
   "cell_type": "code",
   "execution_count": 75,
   "metadata": {},
   "outputs": [],
   "source": [
    "tup_test = [('a',2),('b',3),('c',4)]"
   ]
  },
  {
   "cell_type": "code",
   "execution_count": 90,
   "metadata": {},
   "outputs": [],
   "source": [
    "test = sorted(tup_test, key=lambda x:-x[1])\n"
   ]
  },
  {
   "cell_type": "code",
   "execution_count": 94,
   "metadata": {},
   "outputs": [],
   "source": [
    "test_list = [i[0] for i in test]"
   ]
  },
  {
   "cell_type": "code",
   "execution_count": 92,
   "metadata": {},
   "outputs": [
    {
     "name": "stdout",
     "output_type": "stream",
     "text": [
      "c\n",
      "b\n",
      "a\n"
     ]
    }
   ],
   "source": [
    "for i in test:\n",
    "    print(i[0])"
   ]
  },
  {
   "cell_type": "code",
   "execution_count": 95,
   "metadata": {},
   "outputs": [],
   "source": [
    "randomList = [1,2,3,4,5,6,7,8,9,10,11,12,13,14,15]"
   ]
  },
  {
   "cell_type": "code",
   "execution_count": 99,
   "metadata": {},
   "outputs": [
    {
     "data": {
      "text/plain": [
       "[1, 2, 3, 4, 5, 6, 7, 8, 9, 10, 11, 12, 13, 14, 15]"
      ]
     },
     "execution_count": 99,
     "metadata": {},
     "output_type": "execute_result"
    }
   ],
   "source": [
    "randomList[:2354]"
   ]
  },
  {
   "cell_type": "code",
   "execution_count": 5,
   "metadata": {},
   "outputs": [
    {
     "data": {
      "text/plain": [
       "'/home/laurent/Documents/project/phyloprofiling'"
      ]
     },
     "execution_count": 5,
     "metadata": {},
     "output_type": "execute_result"
    }
   ],
   "source": [
    "pwd"
   ]
  },
  {
   "cell_type": "code",
   "execution_count": null,
   "metadata": {},
   "outputs": [],
   "source": []
  }
 ],
 "metadata": {
  "kernelspec": {
   "display_name": "Python 3",
   "language": "python",
   "name": "python3"
  },
  "language_info": {
   "codemirror_mode": {
    "name": "ipython",
    "version": 2
   },
   "file_extension": ".py",
   "mimetype": "text/x-python",
   "name": "python",
   "nbconvert_exporter": "python",
   "pygments_lexer": "ipython2",
   "version": "2.7.12"
  }
 },
 "nbformat": 4,
 "nbformat_minor": 2
}
