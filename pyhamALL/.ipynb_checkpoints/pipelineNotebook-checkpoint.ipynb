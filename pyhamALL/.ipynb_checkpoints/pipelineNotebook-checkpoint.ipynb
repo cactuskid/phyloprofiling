{
 "cells": [
  {
   "cell_type": "code",
   "execution_count": null,
   "metadata": {},
   "outputs": [],
   "source": [
    "# lsh init\n",
    "lsh = MinHashLSH(threshold = 0.5, num_perm=128)\n",
    "lsh.insert(blablabla)\n",
    "# list of query\n",
    "# to define\n",
    "queries\n",
    "\n",
    "#clustering\n",
    "\n",
    "# list of list\n",
    "clusters = []\n",
    "# list of used fam\n",
    "used_queries = set([])\n",
    "\n",
    "def get_result(query, raw_result):\n",
    "    filtered_results = [query] + [x for x in raw_result if x.split('-')[1] == query.split('-')[1]]\n",
    "    return filtered_results\n",
    "\n",
    "for query in queries:\n",
    "    if query not in used_queries:       \n",
    "        result = get_result(query, lsh.query(query))\n",
    "        # add the new cluster in the list\n",
    "        clusters.append(filtered_result)\n",
    "        # exlude the results from the fams\n",
    "        for f in filtered_result:\n",
    "            if f not in used_queries:\n",
    "                used_queries.update(f)\n",
    "    \n"
   ]
  },
  {
   "cell_type": "code",
   "execution_count": 47,
   "metadata": {},
   "outputs": [],
   "source": [
    "# from cluster, we have a list of fam. lets say famList[1,3,4,23,1234]\n",
    "# recreate the matrix out of it. \n",
    "# n_hogs_in_cluster X n_species\n",
    "\n",
    "cluster = [] # list of cluster previously done\n",
    "import h5sparse\n",
    "h5matrix = h5sparse.File(config.omadir + 'matrix.h5', mode='r')\n",
    "from sklearn import Covariance\n",
    "cov = covariance().fit(arr)\n",
    "with open(config.datadir +  'rundata.txt' , 'a')as rundata:\n",
    "    times = []\n",
    "    sizes = []\n",
    "    for c in cluster[0:100]:\n",
    "        start = time.clock()\n",
    "        arr = h5matrix['hogmatrix'][c].toarray()\n",
    "        model = covariance.GraphLassoCV(verbose=True)\n",
    "        model.fit(arr)\n",
    "        cov_ = model.covariance_\n",
    "        times = time.clock() - start \n",
    "        size = len(c)\n",
    "        rundata.write(str(time)  +','+ str(size)+'\\n')\n",
    "h5matrix.close()\n",
    "\n",
    "\n"
   ]
  }
 ],
 "metadata": {
  "kernelspec": {
   "display_name": "Python 3",
   "language": "python",
   "name": "python3"
  },
  "language_info": {
   "codemirror_mode": {
    "name": "ipython",
    "version": 3
   },
   "file_extension": ".py",
   "mimetype": "text/x-python",
   "name": "python",
   "nbconvert_exporter": "python",
   "pygments_lexer": "ipython3",
   "version": "3.5.2"
  }
 },
 "nbformat": 4,
 "nbformat_minor": 2
}
