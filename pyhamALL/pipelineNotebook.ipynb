{
 "cells": [
  {
   "cell_type": "code",
   "execution_count": 151,
   "metadata": {},
   "outputs": [
    {
     "name": "stdout",
     "output_type": "stream",
     "text": [
      "The autoreload extension is already loaded. To reload it, use:\n",
      "  %reload_ext autoreload\n"
     ]
    },
    {
     "name": "stderr",
     "output_type": "stream",
     "text": [
      "/home/laurent/anaconda3/lib/python3.6/site-packages/tables/leaf.py:396: PerformanceWarning: The Leaf ``/Protein/_i_Entries/OmaHOG/sorted`` is exceeding the maximum recommended rowsize (104857600 bytes);\n",
      "be ready to see PyTables asking for *lots* of memory and possibly slow\n",
      "I/O.  You may want to reduce the rowsize by trimming the value of\n",
      "dimensions that are orthogonal (and preferably close) to the *main*\n",
      "dimension of this leave.  Alternatively, in case you have specified a\n",
      "very small/large chunksize, you may want to increase/decrease it.\n",
      "  PerformanceWarning)\n"
     ]
    }
   ],
   "source": [
    "%load_ext autoreload\n",
    "%autoreload 2\n",
    "\n",
    "import formatOrtho\n",
    "import pyhamPipeline\n",
    "\n",
    "import pyham\n",
    "from pyoma.browser import db \n",
    "import numpy as np\n",
    "from tables import *\n",
    "import re\n",
    "from ete3 import Tree\n",
    "import pickle\n",
    "import tempfile\n",
    "import functools\n",
    "import config\n",
    "\n",
    "h5file = open_file(config.omadirLaurent + 'OmaServer.h5', mode=\"r\")\n",
    "dbObj = db.Database(h5file)\n",
    "omaIdObj = db.OmaIdMapper(dbObj)\n",
    "\n"
   ]
  },
  {
   "cell_type": "code",
   "execution_count": 152,
   "metadata": {},
   "outputs": [
    {
     "name": "stdout",
     "output_type": "stream",
     "text": [
      "name\n",
      "LUCA\n",
      "Nanosalinarum sp. (strain J07AB56)\n",
      "root name\n",
      "LUCA\n",
      "123851\n"
     ]
    }
   ],
   "source": [
    "species_tree, replacement_dico = formatOrtho.fix_species_tree(\"speciestree.nwk\", omaIdObj)"
   ]
  },
  {
   "cell_type": "code",
   "execution_count": 153,
   "metadata": {},
   "outputs": [],
   "source": [
    "ortho = dbObj.get_orthoxml(100000).decode()"
   ]
  },
  {
   "cell_type": "code",
   "execution_count": 154,
   "metadata": {},
   "outputs": [],
   "source": [
    "newortho = formatOrtho.convert_orthoxml_ids(ortho, replacement_dico)"
   ]
  },
  {
   "cell_type": "code",
   "execution_count": 155,
   "metadata": {},
   "outputs": [],
   "source": [
    "hamObj = pyham.Ham(species_tree, newortho, type_hog_file=\"string\", use_internal_name = True)"
   ]
  },
  {
   "cell_type": "code",
   "execution_count": null,
   "metadata": {
    "scrolled": true
   },
   "outputs": [],
   "source": []
  },
  {
   "cell_type": "code",
   "execution_count": 156,
   "metadata": {},
   "outputs": [
    {
     "name": "stdout",
     "output_type": "stream",
     "text": [
      "{'100000': <HOG(100000)>}\n"
     ]
    }
   ],
   "source": [
    "print(hamObj.get_dict_top_level_hogs())\n"
   ]
  },
  {
   "cell_type": "code",
   "execution_count": 157,
   "metadata": {},
   "outputs": [],
   "source": [
    "hog21 = hamObj.get_hog_by_id('100000')\n",
    "tp = hamObj.create_tree_profile(hog=hog21, outfile='bite.png')"
   ]
  },
  {
   "cell_type": "code",
   "execution_count": 158,
   "metadata": {},
   "outputs": [
    {
     "data": {
      "text/plain": [
       "Tree node 'rosids' (0x7f026412d6a)"
      ]
     },
     "execution_count": 158,
     "metadata": {},
     "output_type": "execute_result"
    }
   ],
   "source": [
    "tp.treemap"
   ]
  },
  {
   "cell_type": "code",
   "execution_count": 159,
   "metadata": {},
   "outputs": [
    {
     "name": "stdout",
     "output_type": "stream",
     "text": [
      "fabids\n",
      "N\n",
      "1\n",
      "D\n",
      "0\n",
      "L\n",
      "0\n",
      "I\n",
      "1\n",
      "malvids\n",
      "N\n",
      "1\n",
      "D\n",
      "0\n",
      "L\n",
      "0\n",
      "I\n",
      "1\n",
      "Vitis vinifera\n",
      "N\n",
      "0\n",
      "D\n",
      "0\n",
      "L\n",
      "1\n",
      "I\n",
      "0\n",
      "Papilionoideae\n",
      "N\n",
      "1\n",
      "D\n",
      "0\n",
      "L\n",
      "0\n",
      "I\n",
      "1\n",
      "Malpighiales\n",
      "N\n",
      "0\n",
      "D\n",
      "0\n",
      "L\n",
      "1\n",
      "I\n",
      "0\n",
      "Prunus persica\n",
      "N\n",
      "0\n",
      "D\n",
      "0\n",
      "L\n",
      "1\n",
      "I\n",
      "0\n",
      "Brassicaceae\n",
      "N\n",
      "1\n",
      "D\n",
      "0\n",
      "L\n",
      "0\n",
      "I\n",
      "1\n",
      "Malvaceae\n",
      "N\n",
      "0\n",
      "D\n",
      "0\n",
      "L\n",
      "1\n",
      "I\n",
      "0\n",
      "Lotus japonicus\n",
      "N\n",
      "0\n",
      "D\n",
      "0\n",
      "L\n",
      "1\n",
      "I\n",
      "0\n",
      "Glycine max\n",
      "N\n",
      "0\n",
      "D\n",
      "0\n",
      "L\n",
      "1\n",
      "I\n",
      "0\n",
      "Medicago truncatula\n",
      "N\n",
      "1\n",
      "D\n",
      "0\n",
      "L\n",
      "0\n",
      "I\n",
      "1\n",
      "Manihot esculenta\n",
      "N\n",
      "0\n",
      "D\n",
      "0\n",
      "L\n",
      "0\n",
      "I\n",
      "0\n",
      "Populus trichocarpa\n",
      "N\n",
      "0\n",
      "D\n",
      "0\n",
      "L\n",
      "0\n",
      "I\n",
      "0\n",
      "Brassica\n",
      "N\n",
      "1\n",
      "D\n",
      "0\n",
      "L\n",
      "0\n",
      "I\n",
      "1\n",
      "Arabidopsis\n",
      "N\n",
      "0\n",
      "D\n",
      "0\n",
      "L\n",
      "1\n",
      "I\n",
      "0\n",
      "Theobroma cacao\n",
      "N\n",
      "0\n",
      "D\n",
      "0\n",
      "L\n",
      "0\n",
      "I\n",
      "0\n",
      "Gossypium hirsutum\n",
      "N\n",
      "0\n",
      "D\n",
      "0\n",
      "L\n",
      "0\n",
      "I\n",
      "0\n",
      "Brassica napus\n",
      "N\n",
      "1\n",
      "D\n",
      "0\n",
      "L\n",
      "0\n",
      "I\n",
      "1\n",
      "Brassica oleracea\n",
      "N\n",
      "1\n",
      "D\n",
      "0\n",
      "L\n",
      "0\n",
      "I\n",
      "1\n",
      "Arabidopsis lyrata\n",
      "N\n",
      "0\n",
      "D\n",
      "0\n",
      "L\n",
      "0\n",
      "I\n",
      "0\n",
      "Arabidopsis thaliana\n",
      "N\n",
      "0\n",
      "D\n",
      "0\n",
      "L\n",
      "0\n",
      "I\n",
      "0\n"
     ]
    }
   ],
   "source": [
    "\n",
    "for node in tp.treemap.traverse():\n",
    "    if not node.is_root():\n",
    "        print(node.name)\n",
    "        print('N')\n",
    "        print(node.nbr_genes)\n",
    "        print('D')\n",
    "        print(node.dupl)\n",
    "        print('L')\n",
    "        print(node.lost)\n",
    "        print('I')\n",
    "        print(node.identical)\n"
   ]
  },
  {
   "cell_type": "code",
   "execution_count": 160,
   "metadata": {},
   "outputs": [],
   "source": [
    "T = Tree(species_tree , format =1 )\n"
   ]
  },
  {
   "cell_type": "code",
   "execution_count": 161,
   "metadata": {},
   "outputs": [],
   "source": [
    "mapping = {}\n",
    "mappingINV = {}\n",
    "for i,node in enumerate(T.traverse()):\n",
    "    mapping[i] = node.name\n",
    "    mappingINV[node.name] = i\n"
   ]
  },
  {
   "cell_type": "code",
   "execution_count": 162,
   "metadata": {},
   "outputs": [],
   "source": [
    "import datasketch\n",
    "import ete3\n",
    "import sparse\n",
    "import itertools"
   ]
  },
  {
   "cell_type": "code",
   "execution_count": 163,
   "metadata": {},
   "outputs": [
    {
     "name": "stdout",
     "output_type": "stream",
     "text": [
      "fabids\n",
      "malvids\n",
      "Vitis vinifera\n",
      "Papilionoideae\n",
      "Malpighiales\n",
      "Prunus persica\n",
      "Brassicaceae\n",
      "Malvaceae\n",
      "Lotus japonicus\n",
      "Glycine max\n",
      "Medicago truncatula\n",
      "Manihot esculenta\n",
      "Populus trichocarpa\n",
      "Brassica\n",
      "Arabidopsis\n",
      "Theobroma cacao\n",
      "Gossypium hirsutum\n",
      "Brassica napus\n",
      "Brassica oleracea\n",
      "Arabidopsis lyrata\n",
      "Arabidopsis thaliana\n",
      "bytearray(b'\\x01\\x00\\x00\\x00\\x00\\x00\\x00\\x00\\x80\\x00\\x00\\x00\\x18\\x16z\\x02\\x91\\xf9\\x13\\x1fm\\xe1\\xc2\\x0e\\xa1\\xdec:\\x10\\x9d]\\x0b\\x1d0\\x125\\xbb*\\x84+\\xec\\xc7\\xb5\\x1f\\x16\\'\\xa4\\x1e\\xcf\\xc28\\x18ti\\x0c\\x01{\\\\\"\\x01\\xf9\\xdb\\xad/)\\x1f\\xbeU.\\xd0~\\r\\xcb \\x8d\\x13t\\xfe\\xf7\\x1dcZ\\xf3\\x19W+\\x0c\\x04k\\xa5\\xbc\\x08\\xb8\\xfb\\xe6\\x0c\\x08\\xc6\\x11\\x1a\\xdd\\xfdX1\\xb4\\x0e\\x9c\\x03`\\xdd\\x14*\\x04\\xfb\\x1d0\\xda\\x1e\\x98\\x10\\x97\\xed6\\x1a=/\\xfc\\x04\\x04F\\x03\\n\\xe6\\xb5\\xbf\\x1c\\xa5\\xee%\\x1dK&\\x8c\\rI&T\\x05Tc\\xf2\\x10\\xe5\\xbe\\xe3\\x07\\xef:\\'\\x01au\\x0e\\x0fW(\\xee\\x00U\\xd9a\\x06\\xa3B\\x9bK\\xd0\\x8b\\x93\\x00\\xcf\\x92\\xe4\\x10\\xb7\\xbcT\\x05\\x84s>\\x05\\x93M{\\tX\\xaf\\xbe\\x10h\\xab\\xb4 =\\xedc\\x0f\\x93\\xc9l\\x1e\\xf8\\xa3\\xb9\\x0c\\x19\\xc5#\\x16\\x13N\\rC\\x9c\\xf5g*\\xaa+\\x0c3\\xe4\\x10t\\x1f\\xba\\xd3\\xdc/\\\\5\\xb0\\x0e\\xecn\\xfd\\x0c\\xa77R\\x1b\\xfc\\x07P\\x12\\\\\\xf7\\xdc\\x19v\\x88\\xf4Na\\x13s\\x11\\\\I,\\x1b\\xadu\\r\\x13\\xa4\\xc0\\x8d\\x04\\x18B\\xaa\\x1e\\xb3E\\x86\\x06\\xe5\\x7f\\x00m\\xb0\\xfb\\xcd\\x07\\xed\\xfe%8\\xfdX \\x80v\\xcckNr\\x92\\xbf#\\xbe\\x99\\xb7\\x0f\\x90\\xdd\\r\\x03\\x7f\\x10\\x8f\\x06Z\\x03N0\\xa8\\xfes\\x0e\\xf8\\xa4\\xf3\\x07O~U%\\xe0e|\\x1aVd\\xde\\x16]\\xf9+0\\xe8b\\xed\\x03\\xf2\\xc5\\xa9\\x01\\x1a\\x86\\x85n\\xe6\\xbfN\\x0bV\\x06\\x8eI\\xc55f2x\\xff\\xec\\x10\\xd2\\x8eE\\x08\\xef\\xf3M\\x0c\\x83\\xc2E\\x02\\x0c\\x8ci(GZ\\x07\\x07\\x12\\x1cy\\x0c\\rkM\"\\xb4e\\x9c\\x04Pz\\x17\\x0c=\\x86$\\x053G\\xd2\\x08\\x7f\\x18\\\\5\\x11\\xc4lc\\x01A\\xd7\\x12\\x93:\\xef\\r\\x97\\xfbT\\x17\\xa6\\x8d\\xf5\\nO:\\xe6\\x18z\\x7f\\x10\\x188j\\xd4\\x17\\xe5\\x85\\xdc\\x18nU\\xe0\\x0b%-%*\\xf7;\\xa1\\x13N\\xd1d\\t\\xb07\\x0eB\\xb7\\xb3\\\\\\x18\"\\xfb\\xd1\\x18\\xb8v\\x9e\\x1e\\xec\\xba\\xd7,Z\\x16\\x0bO\\x0e4o\\x00\\x13\\xc9\\x9c\"\\x06\\x0ci\\x18@\"\\x04\\x0c\\xa5\\xae\\xc1\\x18')\n",
      "bytearray(b'\\x01\\x00\\x00\\x00\\x00\\x00\\x00\\x00\\x80\\x00\\x00\\x00\\x98\\xd8\\xb8\\x9cf`+\\xafM\\xff\\x8a\\xe8\\x8a\\xb2\\x802\\x01\\xed}4o\\xd4\\xaa\\xcd\\x87\\xc42\\xc9P\\xe39\\xa8\\x90\\x19\\x81\\xc54\\x04\\x0e\\xa4E]\\xf4\\x90h\\x10\\xbap])+|\\x14\\t\\xeb\\xa0\\r\\x08&\\x7fP\\xf4\\x98J\\xc7{\\x94a\\x125\\xb4\\xd1J\\x81\\x98\\xd5\\xe8 \\x05\\xc6h;\\xcdr\\x88Tl\\x0e\\x80)~\\xabi\\xad\\x8f\\x95\\t \\xc5=\\xb3\\x99\\xe0\\x0e3\\x9a\\xb0\\x12k\\xa7\\n-d\\xbb[\\x11]AT\\x10\\x9c\\x16\\xba\\t?Cg\\x8b\\xfbI0\\x95\\x8c\\xd4>\\xae\\x88}\\xba\\x9c\\n\\xc5\\xd5\\xb6\\xaf\\xffS\\x04\\xdb\\xa52\\xab\\x07\\\\)\\xf1xLU\\xc2\\xf2\\xab\\xe8\\x97D8\\xa0\\x18l\\xd0\\x99M\\xbe\\x99\\x17\\xa2\\x9c[28)\\xfe\\r\\xcc_\\xa9\\xed\\xe4WN\\xadx^}\\xef\\x99d\\xee%\\x9eG\"6.u\\x8ce\\xe6u\\xf6\\xff\\xda\\xb4\\xecFH\\xac\\xc8jyhx\\x1f1y\\xc1\\xbd\\x81wpM]\\x0e\\x1cG\\xd9\\x17V\\xd1\\x8b\\xcar\\xdb#PdM8\\xd6\\xe4\\x96\\xa5\\xa0>\\xc3\\x8d\\xb8\\x93\\xde\\xae\\xf1\\xdb\\xf2\\xc5\\xcf\\xb2\\x83m%\\xf5\\xf3\\xfe\\xf4\\xeblE\\xf24#\\xaa\\x1dW\\x13\\tf\\xcf\\xb6\\x9d\\x93\\xcb\\'\\xe2\\x91r\\xff\\xa4\\x1d\\xaf\\x0b=\\x1bMo\\xbdn\\xbf\\x18\\xf4\\x96\\x1e\\xe8\\x06\\xd6\\x8d\\x8e6T\\x7f6\\xc5\\xfa\\xba\\xf0\\x1c\\xecFLe\\xd5\\x7f\\xf1_\\xb6k\\xa0\\x80\\x9b\\x94\\xca\\xe2E\\xf2\\xea\\x9c\\x8d\\xef\\xc7\\x06C\\x00s2\\xca3\\xb1\\xdd\\xad\\xebzKml\\xc6\\x1eQ3\\x8e\\xd4%{o\\xef\\x07\\xc8^\\xac*\\xbc\\'\\xb0d\\x92\\xf6\\x9a\\x7fy\\x8f;IJo#S\\xd9\\x19\\xcf:\\xf9V\\xd6\\x18N\\x87M\\xe6\\xe0m\\xd7x\\xcfU\\x03+\\x914K|d\\xe5\\xe7\\xea\\xfa\\x9c\\x84\\x19\\x84K\\xa7b\\x00B\\x98Cf\\x999N\\x06\\x0e\\xbf/\\x8df?\\x02\\xc3#\\x92dP6\\x89e\\xd6\\x8c\"\\x88\\x83\\xde\\xfc\\xad\\xea\\x85\\x8a\\xa7_\\x1b[\\xa6\\xcf\\xec@\\xce\\x83m\\x90)\\x88\\xe2b\\x96\\xaf\\x98U\\xc1\\xc9\\xa3\\x8f\\xa37\\x07A,\\xe2l\\x1e\\x07\\xd7\\x85<4]\\x17\\x10~j2\\xe41O\\x18\\xee')\n",
      "bytearray(b'\\x01\\x00\\x00\\x00\\x00\\x00\\x00\\x00\\x80\\x00\\x00\\x00\\xa4\\x8do\\x14\\xe8\"\\xeaV\\r\\x8e/5J>\\x98\\x01R7\\x87\\x07\\x1e^q\\x03\\x08\\x9c\\x14\\x01\\x91\\xe5\\xd0\\x0fy\\xbb\\xa4%(\\xe3\\xb2\\x003\\xb8C\\x16)`\\x8d\\x06[t\\x07!\\x0c^\\x8aL\\x97g\\x07\\n\\x08\\x84\\x9c\"z1\\xb8\\x02\\x0b\\xb8\\xeb!\\xc7\\x00\\x11\\x00\\\\\\xb0\\x88\\x02C\\xe4\\xee\\x12\\xab:\\x923\\xd2\\x1f\\xa1\\'\\x83\\x82\\xdb\\x03}\\xe4\\xfd\\x12yY\\xce\\x0f\\xfd\\x9e\\xbd \\x0c\\x96\\xf81\\':\"$\\xa3y\\xd5\\x0c\\x01~q\\x0c\\x8d\\x1c\\x9b\\x0e\\xfc\\xef\\x86\\x1d_\\x1c\\xd4\\x01\\xdc\\xedn\\x01\\x1e\\xab$\\x13(\\xef\\x83\\x08\\x9b\\x80\\xbc!px\\xfdKm\\xd2j\\x07J\\xdf\\xef\\t\\xef\\x8aB(\\x04\\xcd\\x08Me\\x10\\xb0\\x119\\xdc\\x9ct\\xcc\\xff^3\\xb3\\x0b\\x97\\x11\\xdb\\xc7#/CH\\xc6\\x1e\\x16\\xc1\\x02T_\\x0c\\xc1?\\x84h+\\x10A\\x9fSC_\\x14\\x02)\\xb5 \\xd7\\n\\xf30:\\x13\\x86\\x95U\\nPC\\x90I\\xcd\\x9e+\\n\\xcaK\\xcb2\\xa7E\\xc0\\x17\\xbe\\x05\\x91\\x05\\xe5\\x8a\\x19\\x8c@\\xe2\\xf8\\x13\\x8a\\x99%\\x1a\\xf7\\x1cuE[\\xfc\\xf7\\x04E-\\xf3\\x13H\\x8bK\\x03\\xe5\\x9c4\\x17W\\x985\\x01TR0Y-\\xef\\x03\\x1f\\xa4\\\\\\x7f \\xb5S03\\x11c0\\x03.t\\x894u\\xf7\\xfc\\x19w#\\x10\\x01U\\xa6\\x98\\x07\\x06\\xce\\x15\\x07%=\\x7f\\x0c\\\\~$\\x1b8\\x8a\\xb8\\x1eZ\\xa3\\xd2\\x07dU\\n\\x10V\\xd2FE\\xd0\\xfe\\xc6\\x1e\\x1fXC\\x11\\xe5\\x8c\\xaa,o\\x84y:\\xb8O\\x9f\\x01\\x92W\\x96(\\x9f\\xc4jP\\xa6\\x8b\\xe4c@a\\xde\\x05\\xb9\\x14\\xfaF1sGk\\xce2\\xdd\\x18\\x83\\xd0U._\\x1d\\x02\\x0fa\\x86\\x8f\\n\\x89.\\x86\\x07\\xe4\\xaf\\xba:\\t\\xa7\\xb9\\x00\\x8aF\\xe5\\x07\\x08\\x14\\x13\\tz\\x97A\\x02y\\x88O/\\xdc\\xb2@\\x0b\\xdf\\xd1E\"\\xa3\\xf3g\\x15cf\\xc6\\x0e\\xd1o\\x90;\\x0b\\xf7+\\x0e\\x9d\\xf9\\xe3\"\\x8b\\xc1V\\x06}\\xc9+ES\\xef\\xc2\\r\\rd\\x1f\\x03\\r\\xfd]Cmf\\x7f5W\\xb5`!a\\xf8*\\x01IX\\xa0%\\x97h ~\\x87\\xa7\\xbf\\x03\\xdc5Lj')\n",
      "bytearray(b'\\x01\\x00\\x00\\x00\\x00\\x00\\x00\\x00\\x80\\x00\\x00\\x00\\xff\\xff\\xff\\xff\\xff\\xff\\xff\\xff\\xff\\xff\\xff\\xff\\xff\\xff\\xff\\xff\\xff\\xff\\xff\\xff\\xff\\xff\\xff\\xff\\xff\\xff\\xff\\xff\\xff\\xff\\xff\\xff\\xff\\xff\\xff\\xff\\xff\\xff\\xff\\xff\\xff\\xff\\xff\\xff\\xff\\xff\\xff\\xff\\xff\\xff\\xff\\xff\\xff\\xff\\xff\\xff\\xff\\xff\\xff\\xff\\xff\\xff\\xff\\xff\\xff\\xff\\xff\\xff\\xff\\xff\\xff\\xff\\xff\\xff\\xff\\xff\\xff\\xff\\xff\\xff\\xff\\xff\\xff\\xff\\xff\\xff\\xff\\xff\\xff\\xff\\xff\\xff\\xff\\xff\\xff\\xff\\xff\\xff\\xff\\xff\\xff\\xff\\xff\\xff\\xff\\xff\\xff\\xff\\xff\\xff\\xff\\xff\\xff\\xff\\xff\\xff\\xff\\xff\\xff\\xff\\xff\\xff\\xff\\xff\\xff\\xff\\xff\\xff\\xff\\xff\\xff\\xff\\xff\\xff\\xff\\xff\\xff\\xff\\xff\\xff\\xff\\xff\\xff\\xff\\xff\\xff\\xff\\xff\\xff\\xff\\xff\\xff\\xff\\xff\\xff\\xff\\xff\\xff\\xff\\xff\\xff\\xff\\xff\\xff\\xff\\xff\\xff\\xff\\xff\\xff\\xff\\xff\\xff\\xff\\xff\\xff\\xff\\xff\\xff\\xff\\xff\\xff\\xff\\xff\\xff\\xff\\xff\\xff\\xff\\xff\\xff\\xff\\xff\\xff\\xff\\xff\\xff\\xff\\xff\\xff\\xff\\xff\\xff\\xff\\xff\\xff\\xff\\xff\\xff\\xff\\xff\\xff\\xff\\xff\\xff\\xff\\xff\\xff\\xff\\xff\\xff\\xff\\xff\\xff\\xff\\xff\\xff\\xff\\xff\\xff\\xff\\xff\\xff\\xff\\xff\\xff\\xff\\xff\\xff\\xff\\xff\\xff\\xff\\xff\\xff\\xff\\xff\\xff\\xff\\xff\\xff\\xff\\xff\\xff\\xff\\xff\\xff\\xff\\xff\\xff\\xff\\xff\\xff\\xff\\xff\\xff\\xff\\xff\\xff\\xff\\xff\\xff\\xff\\xff\\xff\\xff\\xff\\xff\\xff\\xff\\xff\\xff\\xff\\xff\\xff\\xff\\xff\\xff\\xff\\xff\\xff\\xff\\xff\\xff\\xff\\xff\\xff\\xff\\xff\\xff\\xff\\xff\\xff\\xff\\xff\\xff\\xff\\xff\\xff\\xff\\xff\\xff\\xff\\xff\\xff\\xff\\xff\\xff\\xff\\xff\\xff\\xff\\xff\\xff\\xff\\xff\\xff\\xff\\xff\\xff\\xff\\xff\\xff\\xff\\xff\\xff\\xff\\xff\\xff\\xff\\xff\\xff\\xff\\xff\\xff\\xff\\xff\\xff\\xff\\xff\\xff\\xff\\xff\\xff\\xff\\xff\\xff\\xff\\xff\\xff\\xff\\xff\\xff\\xff\\xff\\xff\\xff\\xff\\xff\\xff\\xff\\xff\\xff\\xff\\xff\\xff\\xff\\xff\\xff\\xff\\xff\\xff\\xff\\xff\\xff\\xff\\xff\\xff\\xff\\xff\\xff\\xff\\xff\\xff\\xff\\xff\\xff\\xff\\xff\\xff\\xff\\xff\\xff\\xff\\xff\\xff\\xff\\xff\\xff\\xff\\xff\\xff\\xff\\xff\\xff\\xff\\xff\\xff\\xff\\xff\\xff\\xff\\xff\\xff\\xff\\xff\\xff\\xff\\xff\\xff\\xff\\xff\\xff\\xff\\xff\\xff\\xff\\xff\\xff\\xff\\xff\\xff\\xff\\xff\\xff\\xff\\xff\\xff\\xff\\xff\\xff\\xff\\xff\\xff\\xff\\xff\\xff\\xff\\xff\\xff\\xff\\xff\\xff\\xff\\xff\\xff\\xff\\xff\\xff\\xff\\xff\\xff\\xff\\xff\\xff\\xff\\xff\\xff\\xff\\xff\\xff\\xff\\xff\\xff\\xff\\xff\\xff\\xff\\xff\\xff\\xff\\xff\\xff\\xff\\xff\\xff\\xff\\xff\\xff\\xff\\xff\\xff\\xff\\xff\\xff\\xff\\xff\\xff\\xff\\xff\\xff\\xff')\n",
      "(4, 524)\n",
      "[[  1   0   0 ... 174 193  24]\n",
      " [  1   0   0 ...  79  24 238]\n",
      " [  1   0   0 ...  53  76 106]\n",
      " [  1   0   0 ... 255 255 255]]\n"
     ]
    }
   ],
   "source": [
    "def Tree2Hashes(treemap):\n",
    "    #turn each tree into a minhash object\n",
    "    #serialize and store as array\n",
    "\n",
    "\n",
    "\n",
    "    eventdict = { 'presence':[] , 'gain':[] , 'loss':[] , 'duplication':[]}\n",
    "\n",
    "\n",
    "    for node in treemap.traverse():\n",
    "    # traverse() returns an iterator to traverse the tree structure\n",
    "    # strategy:\"levelorder\" by default; nodes are visited in order from root to leaves\n",
    "    # it return treeNode instances\n",
    "        if not node.is_root():\n",
    "            print(node.name)\n",
    "            if node.nbr_genes >0:\n",
    "                eventdict['presence'].append('P'+node.name)\n",
    "            if node.dupl > 0:\n",
    "                eventdict['duplication'].append('D'+node.name)\n",
    "            if node.lost > 0:\n",
    "                eventdict['loss'].append('L'+node.name)\n",
    "        else:\n",
    "            eventdict['gain'].append('G'+node.name)\n",
    "\n",
    "        hashes= []\n",
    "\n",
    "    for array in eventdict:\n",
    "        #generate minhash\n",
    "        # why set ? \n",
    "        eventdict[array] = set(eventdict[array])\n",
    "        m1 = datasketch.MinHash(num_perm=128)\n",
    "        for element in eventdict[array]:\n",
    "            m1.update(element.encode())\n",
    "        m1 = datasketch.LeanMinHash(m1)\n",
    "        buf = bytearray(m1.bytesize())\n",
    "        m1.serialize(buf)\n",
    "        print(buf)\n",
    "        hashes.append([buf])\n",
    "    hashmat = np.vstack(hashes)\n",
    "    return hashmat\n",
    "\n",
    "hashmat = Tree2Hashes(tp.treemap)\n",
    "print(hashmat.shape)\n",
    "print(hashmat)"
   ]
  },
  {
   "cell_type": "code",
   "execution_count": 178,
   "metadata": {},
   "outputs": [
    {
     "name": "stdout",
     "output_type": "stream",
     "text": [
      "16.0\n"
     ]
    },
    {
     "name": "stderr",
     "output_type": "stream",
     "text": [
      "/home/laurent/anaconda3/lib/python3.6/site-packages/scipy/sparse/compressed.py:742: SparseEfficiencyWarning: Changing the sparsity structure of a csr_matrix is expensive. lil_matrix is more efficient.\n",
      "  SparseEfficiencyWarning)\n"
     ]
    }
   ],
   "source": [
    "import numpy as np\n",
    "from scipy.sparse import csr_matrix\n",
    "\n",
    "def Tree2mat(eteobj,taxaIndex):\n",
    "    #use partials to configure the taxa index\n",
    "    #turn each tree into a sparse matrix with 4 rows\n",
    "    rowdict={ 'presence':0 , 'gain':1 , 'loss':2 , 'duplication':3}\n",
    "    \n",
    "    mat = csr_matrix( (len(rowdict), len(taxaIndex) ) )\n",
    "    \n",
    "    coords = []\n",
    "    for node in eteobj.traverse():\n",
    "    # traverse() returns an iterator to traverse the tree structure\n",
    "    # strategy:\"levelorder\" by default; nodes are visited in order from root to leaves\n",
    "    # it return treeNode instances\n",
    "        if not node.is_root():            \n",
    "            if node.nbr_genes >0:\n",
    "                mat[ rowdict['presence'] , taxaIndex[node.name]] =1 \n",
    "            if node.lost > 0:\n",
    "                mat[ rowdict['loss'] , taxaIndex[node.name]] =1\n",
    "            if node.dupl > 0:\n",
    "                mat[ rowdict['duplication'] , taxaIndex[node.name]] =1\n",
    "        else:\n",
    "            mat[ rowdict['gain'] , taxaIndex[node.name]] =1\n",
    "  \n",
    "    return mat\n",
    "\n",
    "print(np.sum(Tree2mat(tp.treemap, mappingINV)))\n",
    "\n"
   ]
  },
  {
   "cell_type": "code",
   "execution_count": null,
   "metadata": {},
   "outputs": [],
   "source": []
  },
  {
   "cell_type": "code",
   "execution_count": null,
   "metadata": {},
   "outputs": [],
   "source": []
  }
 ],
 "metadata": {
  "kernelspec": {
   "display_name": "Python 3",
   "language": "python",
   "name": "python3"
  },
  "language_info": {
   "codemirror_mode": {
    "name": "ipython",
    "version": 3
   },
   "file_extension": ".py",
   "mimetype": "text/x-python",
   "name": "python",
   "nbconvert_exporter": "python",
   "pygments_lexer": "ipython3",
   "version": "3.6.4"
  }
 },
 "nbformat": 4,
 "nbformat_minor": 2
}
