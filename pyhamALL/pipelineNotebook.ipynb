{
 "cells": [
  {
   "cell_type": "code",
   "execution_count": 22,
   "metadata": {
    "scrolled": true
   },
   "outputs": [
    {
     "name": "stdout",
     "output_type": "stream",
     "text": [
      "The autoreload extension is already loaded. To reload it, use:\n",
      "  %reload_ext autoreload\n"
     ]
    },
    {
     "name": "stderr",
     "output_type": "stream",
     "text": [
      "/home/laurent/anaconda3/lib/python3.6/site-packages/tables/leaf.py:396: PerformanceWarning: The Leaf ``/Protein/_i_Entries/OmaHOG/sorted`` is exceeding the maximum recommended rowsize (104857600 bytes);\n",
      "be ready to see PyTables asking for *lots* of memory and possibly slow\n",
      "I/O.  You may want to reduce the rowsize by trimming the value of\n",
      "dimensions that are orthogonal (and preferably close) to the *main*\n",
      "dimension of this leave.  Alternatively, in case you have specified a\n",
      "very small/large chunksize, you may want to increase/decrease it.\n",
      "  PerformanceWarning)\n",
      "/home/laurent/anaconda3/lib/python3.6/site-packages/scipy/sparse/compressed.py:742: SparseEfficiencyWarning: Changing the sparsity structure of a csr_matrix is expensive. lil_matrix is more efficient.\n",
      "  SparseEfficiencyWarning)\n"
     ]
    }
   ],
   "source": [
    "%load_ext autoreload\n",
    "%autoreload 2\n",
    "\n",
    "import pyham\n",
    "from pyoma.browser import db \n",
    "import numpy as np\n",
    "from tables import *\n",
    "import re\n",
    "from ete3 import Tree\n",
    "import pickle\n",
    "import tempfile\n",
    "import functools\n",
    "import config\n",
    "\n",
    "import pyhamPipeline\n",
    "import profileGen\n",
    "import format_files\n",
    "\n",
    "from datasketch import MinHashLSH\n",
    "\n",
    "#open up OMA\n",
    "h5file = open_file(config.omadirLaurent + 'OmaServer.h5', mode=\"r\") \n",
    "#setup db objects\n",
    "dbObj = db.Database(h5file)\n",
    "omaIdObj = db.OmaIdMapper(dbObj)\n",
    "\n",
    "# corrects species tree and replacement dictionary for orthoXML files\n",
    "\n",
    "dic, tree = format_files.create_species_tree(h5file, omaIdObj)\n",
    "\n",
    "\n",
    "#temporary, \n",
    "mat_list = []\n",
    "dico_list = []\n",
    "lsh = MinHashLSH()\n",
    "\n",
    "#load Fam\n",
    "for fam in pyhamPipeline.yieldFamilies(h5file):\n",
    "#generate pyham object\n",
    "#     try: \n",
    "    if fam > 0 and fam < 15:\n",
    "\n",
    "        #generate treemap profile\n",
    "        treemap_fam = pyhamPipeline.get_hamTree(fam, dbObj, tree, dic)\n",
    "        # generate matrix of hash\n",
    "        dico = profileGen.Tree2Hashes(treemap_fam, fam, lsh)\n",
    "        dico_list.append(dico)\n",
    "\n",
    "        # generate taxa index\n",
    "        taxaIndex, taxaIndexReverse = profileGen.generateTaxaIndex(tree)\n",
    "\n",
    "        # generate matrix of 1 and 0 for each biological event\n",
    "        mat = profileGen.Tree2mat(treemap_fam, taxaIndex)\n",
    "        mat_list.append(mat)\n",
    "\n",
    "#     except:\n",
    "#         print(\"breaking at {}\".format(fam))\n",
    "        \n",
    "\n",
    "\n"
   ]
  },
  {
   "cell_type": "code",
   "execution_count": 13,
   "metadata": {},
   "outputs": [
    {
     "data": {
      "text/plain": [
       "{'14-duplication': <datasketch.lean_minhash.LeanMinHash at 0x7ff4dd784a68>,\n",
       " '14-gain': <datasketch.lean_minhash.LeanMinHash at 0x7ff4dd784c60>,\n",
       " '14-gain-duplication': <datasketch.minhash.MinHash at 0x7ff4dc605320>,\n",
       " '14-gain-loss': <datasketch.minhash.MinHash at 0x7ff4dc605128>,\n",
       " '14-gain-loss-duplication': <datasketch.minhash.MinHash at 0x7ff4dc6053c8>,\n",
       " '14-loss': <datasketch.lean_minhash.LeanMinHash at 0x7ff4dd784b40>,\n",
       " '14-loss-duplication': <datasketch.minhash.MinHash at 0x7ff4dc6052e8>,\n",
       " '14-presence': <datasketch.lean_minhash.LeanMinHash at 0x7ff4dd784b88>,\n",
       " '14-presence-duplication': <datasketch.minhash.MinHash at 0x7ff4dc605278>,\n",
       " '14-presence-gain': <datasketch.minhash.MinHash at 0x7ff4dc6051d0>,\n",
       " '14-presence-gain-duplication': <datasketch.minhash.MinHash at 0x7ff4dc605358>,\n",
       " '14-presence-gain-loss': <datasketch.minhash.MinHash at 0x7ff4dc6052b0>,\n",
       " '14-presence-gain-loss-duplication': <datasketch.minhash.MinHash at 0x7ff4dc605470>,\n",
       " '14-presence-loss': <datasketch.minhash.MinHash at 0x7ff4dc605198>,\n",
       " '14-presence-loss-duplication': <datasketch.minhash.MinHash at 0x7ff4dc605390>}"
      ]
     },
     "execution_count": 13,
     "metadata": {},
     "output_type": "execute_result"
    }
   ],
   "source": [
    "dico"
   ]
  },
  {
   "cell_type": "code",
   "execution_count": 14,
   "metadata": {},
   "outputs": [
    {
     "data": {
      "text/plain": [
       "<datasketch.lean_minhash.LeanMinHash at 0x7ff4dd439f78>"
      ]
     },
     "execution_count": 14,
     "metadata": {},
     "output_type": "execute_result"
    }
   ],
   "source": [
    "dico_list[2]['3-loss']"
   ]
  },
  {
   "cell_type": "code",
   "execution_count": 27,
   "metadata": {},
   "outputs": [],
   "source": [
    "result = lsh.query(dico_list[13]['14-loss'])\n"
   ]
  },
  {
   "cell_type": "code",
   "execution_count": 28,
   "metadata": {},
   "outputs": [
    {
     "data": {
      "text/plain": [
       "['14-loss',\n",
       " '14-loss-duplication',\n",
       " '7-loss',\n",
       " '5-loss',\n",
       " '7-loss-duplication',\n",
       " '5-loss-duplication']"
      ]
     },
     "execution_count": 28,
     "metadata": {},
     "output_type": "execute_result"
    }
   ],
   "source": [
    "result"
   ]
  },
  {
   "cell_type": "code",
   "execution_count": null,
   "metadata": {},
   "outputs": [],
   "source": []
  }
 ],
 "metadata": {
  "kernelspec": {
   "display_name": "Python 3",
   "language": "python",
   "name": "python3"
  },
  "language_info": {
   "codemirror_mode": {
    "name": "ipython",
    "version": 3
   },
   "file_extension": ".py",
   "mimetype": "text/x-python",
   "name": "python",
   "nbconvert_exporter": "python",
   "pygments_lexer": "ipython3",
   "version": "3.6.4"
  }
 },
 "nbformat": 4,
 "nbformat_minor": 2
}
