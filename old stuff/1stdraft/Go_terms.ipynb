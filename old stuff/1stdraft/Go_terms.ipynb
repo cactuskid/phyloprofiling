{
 "cells": [
  {
   "cell_type": "code",
   "execution_count": 15,
   "metadata": {},
   "outputs": [],
   "source": [
    "import fastsemsim\n",
    "import tables\n",
    "import datasketch\n",
    "import pickle \n",
    "import pyoma\n",
    "import redis\n",
    "import datasketch\n",
    "from matplotlib import pyplot as plt\n",
    "from goatools.semantic import resnik_sim\n",
    "from goatools.semantic import lin_sim\n",
    "from goatools.semantic import semantic_similarity\n",
    "from goatools import obo_parser\n",
    "from goatools.associations import read_gaf\n",
    "from goatools.semantic import TermCounts, get_info_content\n",
    "import multiprocessing as mp\n",
    "import time\n",
    "import gc\n",
    "\n",
    "from multiprocessing import TimeoutError, Manager\n",
    "from itertools import combinations\n",
    "import numpy as np\n",
    "import zlib\n",
    "\n"
   ]
  },
  {
   "cell_type": "code",
   "execution_count": 16,
   "metadata": {},
   "outputs": [],
   "source": [
    "\n",
    "#heavy load of the lsh forest\n",
    "forest = '/data/OMAanalysis/ForestALL.pkl'\n",
    "with open(forest , 'r') as hashforest:\n",
    "    lshforest= pickle.load(hashforest)\n"
   ]
  },
  {
   "cell_type": "code",
   "execution_count": 17,
   "metadata": {},
   "outputs": [],
   "source": [
    "r = redis.StrictRedis(host='localhost', port=6379, db=0)\n"
   ]
  },
  {
   "cell_type": "code",
   "execution_count": 18,
   "metadata": {},
   "outputs": [],
   "source": [
    "\n",
    "omadatalocation = '/data/databases/OMA/OMA.2.1.1/data/OmaServer.h5'\n",
    "h5file = tables.open_file(omadatalocation, mode=\"r\")\n"
   ]
  },
  {
   "cell_type": "code",
   "execution_count": 19,
   "metadata": {},
   "outputs": [],
   "source": [
    "\n",
    "handle2= open('./rowdictReverse.pkl','r')\n",
    "rowdictReverse = pickle.load(handle2)\n",
    "handle2.close()"
   ]
  },
  {
   "cell_type": "code",
   "execution_count": 20,
   "metadata": {},
   "outputs": [
    {
     "name": "stdout",
     "output_type": "stream",
     "text": [
      "load obo file /home/USERNAME/Dropbox/Dessimozlab/semanticSimilarity/ontology/go-basic.obo\n",
      "/home/USERNAME/Dropbox/Dessimozlab/semanticSimilarity/ontology/go-basic.obo: fmt(1.2) rel(2018-01-07) 47,109 GO Terms\n",
      "  READ 217,451 associations: /home/USERNAME/Dropbox/Dessimozlab/semanticSimilarity/ontology/gene_association.tair.gz\n"
     ]
    }
   ],
   "source": [
    "#load gene ontology DAG\n",
    "#use guaranteed acyclic basic GO\n",
    "go = obo_parser.GODag(\"/home/USERNAME/Dropbox/Dessimozlab/semanticSimilarity/ontology/go-basic.obo\")\n",
    "\n",
    "associations = read_gaf(\"/home/USERNAME/Dropbox/Dessimozlab/semanticSimilarity/ontology/gene_association.tair.gz\")\n",
    "# First get the counts of each GO term.\n",
    "termcounts = TermCounts(go, associations)"
   ]
  },
  {
   "cell_type": "code",
   "execution_count": 21,
   "metadata": {
    "scrolled": false
   },
   "outputs": [],
   "source": [
    "#these work\n",
    "def _hog_lex_range( hog):\n",
    "    hog_str = hog.decode() if isinstance(hog, bytes) else hog\n",
    "    return hog_str.encode('ascii'), (hog_str[0:-1] + chr(1 + ord(hog_str[-1]))).encode('ascii')\n",
    "\n",
    "def iterHOGMembers(odb,hog_id):\n",
    "    hog_range = _hog_lex_range(hog_id)\n",
    "    it = odb.root.Protein.Entries.where( '({!r} <= OmaHOG) & (OmaHOG < {!r})'.format(*hog_range))\n",
    "    for row in it:\n",
    "        yield row.fetch_all_fields()\n",
    "\n",
    "def grabGOterms(odb,hog_id, maxEntries = 5000):\n",
    "    iterator = iterHOGMembers(odb, hog_id)\n",
    "   \n",
    "    if maxEntries == None:\n",
    "        population = frozenset( [x['EntryNr'] for x in iterator] )\n",
    "    else:\n",
    "        population = []\n",
    "        for i,x in enumerate(iterator):\n",
    "            if i > maxEntries:\n",
    "                break\n",
    "            population.append(x['EntryNr'])\n",
    "        population = frozenset(population)\n",
    "    \n",
    "    #turn into godict\n",
    "    godict = {entry: {('GO:{:07d}'.format(e['TermNr']),  # Make the GO:0000001 style ID again (GOATOOLS requires this)\n",
    "                   str(e['Evidence']),      # Extract Evidence code\n",
    "                   str(e['Reference']))     # Extract Reference code\n",
    "                  for e in odb.root.Annotations.GeneOntology.read_where('EntryNr == {}'.format(entry))   } for entry in population}\n",
    "    cpt = sum([1 for a in godict.values() if a == set()])    \n",
    "    return godict, cpt\n",
    "\n",
    "\n",
    "def retprotEntry(odb, entry_nr):\n",
    "    entry = odb.root.Protein.Entries.read_where('EntryNr == {}'.format(entry_nr))\n",
    "    if len(entry) != 1:\n",
    "        raise ValueError(\"there are {} entries with entry_nr {}\".format(len(entry), entry_nr))\n",
    "    entry = entry[0]\n",
    "    return entry\n",
    "\n",
    "def retprotEntryFromCanonical(odb, CanonicalId):\n",
    "    #doesnt work yet\n",
    "    \n",
    "    entry = odb.root.Protein.Entries.read_where('CanonicalId == {}'.format(CanonicalId) )\n",
    "    if len(entry) != 1:\n",
    "        raise ValueError(\"there are {} entries with CanonicalId {}\".format(len(entry), CanonicalId))\n",
    "    entry = entry[0]\n",
    "    return entry\n",
    "\n",
    "def grabSequences(odb, hog_id):\n",
    "    iterator = iterHOGMembers(odb, hog_id)\n",
    "    #grab all oma IDs\n",
    "    seqArr = odb.get_node('/Protein/SequenceBuffer')\n",
    "    seqdict={}\n",
    "    for x in iterator:\n",
    "        if x['EntryNr'] not in seqdict:\n",
    "            entry = retprotEntry(odb,x['EntryNr'])\n",
    "            seqdict[x['EntryNr']] = seqArr[entry['SeqBufferOffset']:entry['SeqBufferOffset'] + entry['SeqBufferLength'] - 1].tostring()\n",
    "    return seqdict\n"
   ]
  },
  {
   "cell_type": "code",
   "execution_count": 22,
   "metadata": {},
   "outputs": [
    {
     "name": "stderr",
     "output_type": "stream",
     "text": [
      "/usr/local/lib/python2.7/dist-packages/tables/leaf.py:396: PerformanceWarning: The Leaf ``/Protein/_i_Entries/OmaHOG/sorted`` is exceeding the maximum recommended rowsize (104857600 bytes);\n",
      "be ready to see PyTables asking for *lots* of memory and possibly slow\n",
      "I/O.  You may want to reduce the rowsize by trimming the value of\n",
      "dimensions that are orthogonal (and preferably close) to the *main*\n",
      "dimension of this leave.  Alternatively, in case you have specified a\n",
      "very small/large chunksize, you may want to increase/decrease it.\n",
      "  PerformanceWarning)\n"
     ]
    },
    {
     "name": "stdout",
     "output_type": "stream",
     "text": [
      "{10974848: set([('GO:0016021', 'IEA', 'OMA_Fun:001')]), 10114433: set([('GO:0016021', 'IEA', 'GO_REF:038'), ('GO:0016020', 'IEA', 'GO_REF:038')]), 6002178: set([]), 9976840: set([('GO:0016021', 'IEA', 'GO_REF:038'), ('GO:0016020', 'IEA', 'GO_REF:038')]), 11174282: set([('GO:0016021', 'IEA', 'OMA_Fun:001')]), 11155083: set([('GO:0005886', 'IEA', 'GO_REF:107'), ('GO:0048235', 'IEA', 'GO_REF:107'), ('GO:0005783', 'IEA', 'GO_REF:107'), ('GO:0016021', 'IEA', 'GO_REF:038'), ('GO:0016020', 'IEA', 'GO_REF:038')]), 10980251: set([('GO:0016021', 'IEA', 'GO_REF:038'), ('GO:0016020', 'IEA', 'GO_REF:038')]), 10043778: set([('GO:0016021', 'IEA', 'GO_REF:038'), ('GO:0016020', 'IEA', 'GO_REF:038')]), 5945103: set([]), 10056468: set([('GO:0016021', 'IEA', 'OMA_Fun:001')]), 5717269: set([]), 10225175: set([('GO:0016021', 'IEA', 'GO_REF:038'), ('GO:0016020', 'IEA', 'GO_REF:038')]), 11393305: set([]), 10127131: set([('GO:0016021', 'IEA', 'OMA_Fun:001')]), 10809757: set([('GO:0016021', 'IEA', 'GO_REF:038'), ('GO:0016020', 'IEA', 'GO_REF:038')]), 10078111: set([('GO:0016021', 'IEA', 'GO_REF:038'), ('GO:0016020', 'IEA', 'GO_REF:038')]), 10201760: set([('GO:0016020', 'IEA', 'GO_REF:037'), ('GO:0016021', 'IEA', 'GO_REF:037'), ('GO:0016020', 'IEA', 'GO_REF:039'), ('GO:0007338', 'IEA', 'GO_REF:037')]), 5776930: set([('GO:0016021', 'IEA', 'GO_REF:038'), ('GO:0016020', 'IEA', 'GO_REF:038')]), 9946531: set([('GO:0016021', 'IEA', 'GO_REF:038'), ('GO:0016020', 'IEA', 'GO_REF:038')]), 10921257: set([('GO:0016021', 'IEA', 'OMA_Fun:001')]), 10397101: set([('GO:0016021', 'IEA', 'OMA_Fun:001')]), 10486454: set([('GO:0016021', 'IEA', 'OMA_Fun:001')]), 6009271: set([('GO:0016021', 'IEA', 'GO_REF:038'), ('GO:0016020', 'IEA', 'GO_REF:038')]), 5875524: set([('GO:0016021', 'IEA', 'GO_REF:038'), ('GO:0016020', 'IEA', 'GO_REF:038')]), 9602621: set([('GO:0016021', 'IEA', 'GO_REF:038'), ('GO:0016020', 'IEA', 'GO_REF:038')]), 10886078: set([('GO:0016021', 'IEA', 'GO_REF:038'), ('GO:0016020', 'IEA', 'GO_REF:038')]), 10366785: set([('GO:0016021', 'IEA', 'GO_REF:038'), ('GO:0016020', 'IEA', 'GO_REF:038')]), 9683395: set([('GO:0016021', 'IEA', 'GO_REF:038'), ('GO:0016020', 'IEA', 'GO_REF:038')]), 10849988: set([('GO:0016021', 'IEA', 'GO_REF:038'), ('GO:0016020', 'IEA', 'GO_REF:038')]), 10152390: set([('GO:0016021', 'IEA', 'GO_REF:038'), ('GO:0016020', 'IEA', 'GO_REF:038')]), 11303113: set([('GO:0016021', 'IEA', 'OMA_Fun:001')]), 5857867: set([('GO:0016021', 'IEA', 'OMA_Fun:001'), ('GO:0005575', 'ND', 'GO_REF:015'), ('GO:0003674', 'ND', 'GO_REF:015'), ('GO:0008150', 'ND', 'GO_REF:015')]), 10088781: set([('GO:0016021', 'IEA', 'OMA_Fun:001')]), 10294605: set([('GO:0016021', 'IEA', 'GO_REF:038'), ('GO:0016020', 'IEA', 'GO_REF:038')]), 5738704: set([('GO:0016021', 'IEA', 'GO_REF:038'), ('GO:0016020', 'IEA', 'GO_REF:038')]), 9835730: set([]), 10588118: set([('GO:0016021', 'IEA', 'GO_REF:038'), ('GO:0016020', 'IEA', 'GO_REF:038')]), 11234116: set([('GO:0016021', 'IEA', 'GO_REF:038'), ('GO:0016020', 'IEA', 'GO_REF:038')]), 10477146: set([]), 10247903: set([('GO:0016021', 'IEA', 'GO_REF:038'), ('GO:0016020', 'IEA', 'GO_REF:038')]), 5748690: set([]), 11272096: set([('GO:0016021', 'IEA', 'OMA_Fun:001')]), 11099238: set([('GO:0016021', 'IEA', 'GO_REF:038'), ('GO:0016020', 'IEA', 'GO_REF:038')]), 10190567: set([('GO:0016020', 'IEA', 'GO_REF:037'), ('GO:0016021', 'IEA', 'GO_REF:037'), ('GO:0016020', 'IEA', 'GO_REF:039'), ('GO:0007338', 'IEA', 'GO_REF:037')]), 11341801: set([]), 10380778: set([('GO:0016021', 'IEA', 'GO_REF:038'), ('GO:0016020', 'IEA', 'GO_REF:038')]), 10554221: set([]), 10912715: set([('GO:0016021', 'IEA', 'OMA_Fun:001')]), 9956463: set([('GO:0016021', 'IEA', 'OMA_Fun:001')]), 10274800: set([('GO:0016021', 'IEA', 'GO_REF:038'), ('GO:0016020', 'IEA', 'GO_REF:038')]), 11195377: set([('GO:0048235', 'IEP', 'PMID:21285328'), ('GO:0016021', 'IEA', 'GO_REF:037'), ('GO:0007338', 'IEA', 'GO_REF:037'), ('GO:0005886', 'IEA', 'GO_REF:039'), ('GO:0005783', 'IDA', 'PMID:17079265'), ('GO:0016020', 'IEA', 'GO_REF:037'), ('GO:0005886', 'IDA', 'PMID:17079265'), ('GO:0005789', 'IEA', 'GO_REF:039'), ('GO:0005783', 'IEA', 'GO_REF:037'), ('GO:0005886', 'IEA', 'GO_REF:037')]), 10829043: set([('GO:0016021', 'IEA', 'GO_REF:038'), ('GO:0016020', 'IEA', 'GO_REF:038')]), 9996276: set([('GO:0016021', 'IEA', 'OMA_Fun:001')]), 10829046: set([('GO:0016021', 'IEA', 'GO_REF:038'), ('GO:0016020', 'IEA', 'GO_REF:038')]), 10164690: set([]), 10723064: set([('GO:0016021', 'IEA', 'OMA_Fun:001')]), 10003449: set([('GO:0016021', 'IEA', 'OMA_Fun:001')]), 11174266: set([('GO:0016021', 'IEA', 'OMA_Fun:001')]), 5775870: set([('GO:0016021', 'IEA', 'GO_REF:038'), ('GO:0016020', 'IEA', 'GO_REF:038')]), 10510101: set([('GO:0016021', 'IEA', 'OMA_Fun:001')])}\n",
      "60\n"
     ]
    }
   ],
   "source": [
    "\n",
    "qhog = 'HOG:0385024'\n",
    "godict, cpt= grabGOterms(h5file,qhog)\n",
    "seqdict = grabSequences(h5file, qhog)\n",
    "print godict\n",
    "print len(godict)\n"
   ]
  },
  {
   "cell_type": "code",
   "execution_count": 23,
   "metadata": {},
   "outputs": [],
   "source": [
    "#this works\n",
    "def resnik(annot1, annot2):\n",
    "    #calculate the max GO similarity with two metrics\n",
    "    maxresnik = 0\n",
    "    for gotuple1 in annot1:\n",
    "        for gotuple2 in annot2:\n",
    "            goterm1,evid1,omacode1 = gotuple1\n",
    "            goterm2,evid2,omacode2 = gotuple2\n",
    "            try:\n",
    "                resnik = resnik_sim(goterm1, goterm2, go, termcounts)\n",
    "            except:\n",
    "                passOKannotations = ['EXP', 'IMP', 'IGI', 'IPI', 'IEP', 'IDA']\n",
    "\n",
    "            if resnik>maxresnik:\n",
    "                    maxresnik = resnik\n",
    "    return maxresnik\n",
    "\n",
    "def lin(annot1, annot2):\n",
    "    #calculate the max GO similarity with two metrics\n",
    "    maxresnik = 0\n",
    "    for gotuple1 in annot1:\n",
    "        for gotuple2 in annot2:\n",
    "            goterm1,evid1,omacode1 = gotuple1\n",
    "            goterm2,evid2,omacode2 = gotuple2\n",
    "            lin = lin_sim(goterm1, goterm2, go, termcounts)\n",
    "            if lin != None and -lin>maxresnik:\n",
    "                maxresnik = -lin\n",
    "    return  maxresnik\n",
    "\n",
    "def GOdist(godict1,godict2, semfunction):\n",
    "    \n",
    "    go1 = godict1\n",
    "    go2 = godict2\n",
    "    resnikMat = np.zeros( ( len(godict1) , len(godict2) ) ) \n",
    "\n",
    "    godists={}\n",
    "    for j,key2 in enumerate(go2.keys()):\n",
    "        for i,key1 in enumerate(go1.keys()):\n",
    "            l1 = go1[key1]\n",
    "            l2 = go2[key2]\n",
    "            dist = semfunction(l1,l2)\n",
    "            resnikMat[i,j]= dist\n",
    "    return resnikMat \n",
    "    "
   ]
  },
  {
   "cell_type": "code",
   "execution_count": 24,
   "metadata": {},
   "outputs": [
    {
     "name": "stdout",
     "output_type": "stream",
     "text": [
      "4.01596913305\n",
      "1.0\n"
     ]
    }
   ],
   "source": [
    "\n",
    "\n",
    "goterms1 = set([('GO:0005886', 'IEA', 'GO_REF:107'), ('GO:0048235', 'IEA', 'GO_REF:107'), ('GO:0005783', 'IEA', 'GO_REF:107'), ('GO:0016021', 'IEA', 'GO_REF:038'), ('GO:0016020', 'IEA', 'GO_REF:038')])\n",
    "goterms2 = set([('GO:0016021', 'IEA', 'GO_REF:038'), ('GO:0016020', 'IEA', 'GO_REF:038')])\n",
    "maxresnik = resnik(goterms1,goterms2)\n",
    "print maxresnik\n",
    "maxresnik = lin(goterms1,goterms2)\n",
    "print maxresnik\n"
   ]
  },
  {
   "cell_type": "code",
   "execution_count": 25,
   "metadata": {},
   "outputs": [],
   "source": [
    "#to deal with distance matrix between go term corpuses\n",
    "\n",
    "def NonZeroAvg(resnikMat):\n",
    "    #The average score between the annotation corpuses of two Hogs without counting proteins with no annotation\n",
    "    \n",
    "    indices = np.where(resnikMat > 0 )\n",
    "    mean = np.mean(resnikMat[indices])\n",
    "    if np.isnan(mean) == True:\n",
    "        mean = 0 \n",
    "    return mean\n",
    "\n",
    "def retMax(resnikMat):\n",
    "    #The max score between two corpuses of two hogs\n",
    "    return np.amax(resnikMat)\n",
    "\n"
   ]
  },
  {
   "cell_type": "code",
   "execution_count": 29,
   "metadata": {},
   "outputs": [
    {
     "name": "stdout",
     "output_type": "stream",
     "text": [
      "HOG:0374514\n"
     ]
    },
    {
     "data": {
      "image/png": "[encoded data removed]",
      "text/plain": [
       "<matplotlib.figure.Figure at 0x7f6e4c5d2b90>"
      ]
     },
     "metadata": {},
     "output_type": "display_data"
    },
    {
     "data": {
      "image/png": "[encoded data removed]",
      "text/plain": [
       "<matplotlib.figure.Figure at 0x7f6bea3a8f90>"
      ]
     },
     "metadata": {},
     "output_type": "display_data"
    },
    {
     "data": {
      "image/png": "[encoded data removed]",
      "text/plain": [
       "<matplotlib.figure.Figure at 0x7f6be9dbdc50>"
      ]
     },
     "metadata": {},
     "output_type": "display_data"
    },
    {
     "data": {
      "image/png": "[encoded data removed]",
      "text/plain": [
       "<matplotlib.figure.Figure at 0x7f6be9db2c50>"
      ]
     },
     "metadata": {},
     "output_type": "display_data"
    },
    {
     "name": "stdout",
     "output_type": "stream",
     "text": [
      "HOG:0385024\n"
     ]
    },
    {
     "data": {
      "image/png": "[encoded data removed]",
      "text/plain": [
       "<matplotlib.figure.Figure at 0x7f6be990dd50>"
      ]
     },
     "metadata": {},
     "output_type": "display_data"
    },
    {
     "data": {
      "image/png": "[encoded data removed]",
      "text/plain": [
       "<matplotlib.figure.Figure at 0x7f6be99432d0>"
      ]
     },
     "metadata": {},
     "output_type": "display_data"
    },
    {
     "data": {
      "image/png": "[encoded data removed]",
      "text/plain": [
       "<matplotlib.figure.Figure at 0x7f6be95b30d0>"
      ]
     },
     "metadata": {},
     "output_type": "display_data"
    },
    {
     "data": {
      "image/png": "[encoded data removed]",
      "text/plain": [
       "<matplotlib.figure.Figure at 0x7f6be98dadd0>"
      ]
     },
     "metadata": {},
     "output_type": "display_data"
    },
    {
     "name": "stdout",
     "output_type": "stream",
     "text": [
      "HOG:0262715\n"
     ]
    },
    {
     "data": {
      "image/png": "[encoded data removed]",
      "text/plain": [
       "<matplotlib.figure.Figure at 0x7f6be917cdd0>"
      ]
     },
     "metadata": {},
     "output_type": "display_data"
    },
    {
     "data": {
      "image/png": "[encoded data removed]",
      "text/plain": [
       "<matplotlib.figure.Figure at 0x7f6be95be4d0>"
      ]
     },
     "metadata": {},
     "output_type": "display_data"
    },
    {
     "data": {
      "image/png": "[encoded data removed]",
      "text/plain": [
       "<matplotlib.figure.Figure at 0x7f6be89d5d90>"
      ]
     },
     "metadata": {},
     "output_type": "display_data"
    },
    {
     "data": {
      "image/png": "[encoded data removed]",
      "text/plain": [
       "<matplotlib.figure.Figure at 0x7f6be8a85710>"
      ]
     },
     "metadata": {},
     "output_type": "display_data"
    },
    {
     "name": "stdout",
     "output_type": "stream",
     "text": [
      "HOG:0374514\n",
      "HOG:0385024\n"
     ]
    },
    {
     "data": {
      "image/png": "[encoded data removed]",
      "text/plain": [
       "<matplotlib.figure.Figure at 0x7f6be857ecd0>"
      ]
     },
     "metadata": {},
     "output_type": "display_data"
    },
    {
     "data": {
      "image/png": "[encoded data removed]",
      "text/plain": [
       "<matplotlib.figure.Figure at 0x7f6be8593090>"
      ]
     },
     "metadata": {},
     "output_type": "display_data"
    },
    {
     "data": {
      "image/png": "[encoded data removed]",
      "text/plain": [
       "<matplotlib.figure.Figure at 0x7f6be8565d10>"
      ]
     },
     "metadata": {},
     "output_type": "display_data"
    },
    {
     "data": {
      "image/png": "[encoded data removed]",
      "text/plain": [
       "<matplotlib.figure.Figure at 0x7f6be7d95f50>"
      ]
     },
     "metadata": {},
     "output_type": "display_data"
    },
    {
     "name": "stdout",
     "output_type": "stream",
     "text": [
      "HOG:0374514\n",
      "HOG:0262715\n"
     ]
    },
    {
     "data": {
      "image/png": "[encoded data removed]",
      "text/plain": [
       "<matplotlib.figure.Figure at 0x7f6be7b31210>"
      ]
     },
     "metadata": {},
     "output_type": "display_data"
    },
    {
     "data": {
      "image/png": "[encoded data removed]",
      "text/plain": [
       "<matplotlib.figure.Figure at 0x7f6be7dc3190>"
      ]
     },
     "metadata": {},
     "output_type": "display_data"
    },
    {
     "data": {
      "image/png": "[encoded data removed]",
      "text/plain": [
       "<matplotlib.figure.Figure at 0x7f6be7874cd0>"
      ]
     },
     "metadata": {},
     "output_type": "display_data"
    },
    {
     "data": {
      "image/png": "[encoded data removed]",
      "text/plain": [
       "<matplotlib.figure.Figure at 0x7f6be7515f50>"
      ]
     },
     "metadata": {},
     "output_type": "display_data"
    },
    {
     "name": "stdout",
     "output_type": "stream",
     "text": [
      "HOG:0385024\n",
      "HOG:0262715\n"
     ]
    },
    {
     "data": {
      "image/png": "[encoded data removed]",
      "text/plain": [
       "<matplotlib.figure.Figure at 0x7f6be738eb50>"
      ]
     },
     "metadata": {},
     "output_type": "display_data"
    },
    {
     "data": {
      "image/png": "[encoded data removed]",
      "text/plain": [
       "<matplotlib.figure.Figure at 0x7f6be7519f50>"
      ]
     },
     "metadata": {},
     "output_type": "display_data"
    },
    {
     "data": {
      "image/png": "[encoded data removed]",
      "text/plain": [
       "<matplotlib.figure.Figure at 0x7f6be6ed5750>"
      ]
     },
     "metadata": {},
     "output_type": "display_data"
    },
    {
     "data": {
      "image/png": "[encoded data removed]",
      "text/plain": [
       "<matplotlib.figure.Figure at 0x7f6be72fccd0>"
      ]
     },
     "metadata": {},
     "output_type": "display_data"
    }
   ],
   "source": [
    "\n",
    "from itertools import combinations\n",
    "\n",
    "for qhog in ['HOG:0374514' , 'HOG:0385024', 'HOG:0262715']:\n",
    "\n",
    "    print qhog\n",
    "    #get a hog from a gene. useful for ppi and string stuff\n",
    "    godict, cpt= grabGOterms(h5file,qhog)\n",
    "    seqdict = grabSequences(h5file, qhog)\n",
    "\n",
    "    resnikMat = GOdist(godict,godict,resnik)\n",
    "\n",
    "    plt.imshow(resnikMat)\n",
    "    plt.colorbar()\n",
    "    plt.show()\n",
    "\n",
    "    plt.hist(resnikMat.flatten())\n",
    "    plt.show()\n",
    "\n",
    "    resnikMat = GOdist(godict,godict,lin)\n",
    "\n",
    "    plt.imshow(resnikMat)\n",
    "    plt.colorbar()\n",
    "    plt.show()\n",
    "\n",
    "    plt.hist(resnikMat.flatten())\n",
    "    plt.show()\n",
    "\n",
    "\n",
    "for qhog1, qhog2 in combinations(['HOG:0374514' , 'HOG:0385024', 'HOG:0262715'], 2):\n",
    "    print qhog1\n",
    "    print qhog2\n",
    "    \n",
    "    \n",
    "    #get a hog from a gene. useful for ppi and string stuff\n",
    "    godict1, cpt= grabGOterms(h5file,qhog1)\n",
    "    seqdict2 = grabSequences(h5file, qhog1)\n",
    "    godict2, cpt= grabGOterms(h5file,qhog2)\n",
    "    seqdict2 = grabSequences(h5file, qhog2)\n",
    "    resnikMat = GOdist(godict1,godict2,resnik)\n",
    "    \n",
    "    plt.imshow(resnikMat)\n",
    "    plt.ylabel(qhog2)\n",
    "    plt.xlabel(qhog1)\n",
    "    plt.colorbar()\n",
    "    plt.show()\n",
    "\n",
    "    plt.hist(resnikMat.flatten())\n",
    "    plt.show()\n",
    "\n",
    "    resnikMat = GOdist(godict1,godict2,lin)\n",
    "\n",
    "    plt.imshow(resnikMat)\n",
    "    plt.ylabel(qhog2)\n",
    "    plt.xlabel(qhog1)\n",
    "    plt.colorbar()\n",
    "    plt.show()\n",
    "\n",
    "    plt.hist(resnikMat.flatten())\n",
    "    plt.show()\n",
    "    "
   ]
  },
  {
   "cell_type": "code",
   "execution_count": null,
   "metadata": {},
   "outputs": [],
   "source": []
  },
  {
   "cell_type": "code",
   "execution_count": null,
   "metadata": {},
   "outputs": [],
   "source": []
  },
  {
   "cell_type": "code",
   "execution_count": null,
   "metadata": {},
   "outputs": [],
   "source": [
    "#compression distance between two strings\n",
    "def KomolgrovUpper(str1,str2):\n",
    "    ka = len(zlib.compress(str1))\n",
    "    kb = len(zlib.compress(str2))\n",
    "    kab = len(zlib.compress(str1+str2))\n",
    "    return float(kab)/max(ka,kb) \n",
    "\n",
    "def MIRows( row1, row2 , mapping = None):\n",
    "#MI between two rows of a scipy sparse matrix\n",
    "#depends on find function from scipy sparse\n",
    "\n",
    "    row1 =find(row1)[0]\n",
    "    row2 = find(row2)[0]\n",
    "    if mapping == 'species':\n",
    "        taxIDs1 = np.vectorize(coldictReverse.get)(row1)\n",
    "        taxIDs2 = np.vectorize(coldictReverse.get)(row2)\n",
    "        taxa2 = np.vectorize(IdtoName.get)(taxIDs2)\n",
    "        taxa1 = np.vectorize(IdtoName.get)(taxIDs1)\n",
    "        str1=np.array2string(taxa1)\n",
    "        str2=np.array2string(taxa2)\n",
    "    else:\n",
    "        taxIDs1 = np.vectorize(coldictReverse.get)(row1)\n",
    "        taxIDs2 = np.vectorize(coldictReverse.get)(row2)\n",
    "        str1=np.array2string(taxIDs1)\n",
    "        str2=np.array2string(taxIDs2)\n",
    "    return KomolgrovUpper(str1,str2)\n"
   ]
  },
  {
   "cell_type": "code",
   "execution_count": 30,
   "metadata": {},
   "outputs": [
    {
     "name": "stdout",
     "output_type": "stream",
     "text": [
      "HOG:0588760.24r.145a.131c\n"
     ]
    }
   ],
   "source": [
    "#BUILD TESTING DATASET //////////////////////////////////////////////////////////////\n",
    "#500 search results for each\n",
    "finalset = {}\n",
    "#Filter for annotation quality... and number of sequences\n",
    "#for now at least 10 annotations\n",
    "#grab sequence data\n",
    "\n",
    "print rowdictReverse[1917999]\n",
    "godict, cpt = grabGOterms(h5file,rowdictReverse[1917999])\n",
    "OKannotations = ['EXP', 'IMP', 'IGI', 'IPI', 'IEP', 'IDA']\n"
   ]
  },
  {
   "cell_type": "code",
   "execution_count": 31,
   "metadata": {},
   "outputs": [],
   "source": [
    "import signal\n",
    "from contextlib import contextmanager\n",
    "\n",
    "class TimeoutException(Exception): pass\n",
    "\n",
    "@contextmanager\n",
    "def time_limit(seconds):\n",
    "    def signal_handler(signum, frame):\n",
    "        raise TimeoutException(\"Timed out!\")\n",
    "    signal.signal(signal.SIGALRM, signal_handler)\n",
    "    signal.alarm(seconds)\n",
    "    try:\n",
    "        yield\n",
    "    finally:\n",
    "        signal.alarm(0)\n",
    "\n",
    "\n",
    "    "
   ]
  },
  {
   "cell_type": "code",
   "execution_count": 32,
   "metadata": {},
   "outputs": [
    {
     "name": "stdout",
     "output_type": "stream",
     "text": [
      "[518388, 2053897, 241806, 200304, 498196]\n"
     ]
    }
   ],
   "source": [
    "def build_dict(args):\n",
    "    finalset = {}\n",
    "    row, lshforest, r ,k = args\n",
    "    godict, cpt = grabGOterms(h5file,rowdictReverse[row])\n",
    "    sequences = grabSequences(h5file,rowdictReverse[row])\n",
    "    hashval = pickle.loads(r.get(row))\n",
    "    finalset[rowdictReverse[row]]= { 'row':row, 'godict':godict , 'cpt':cpt , 'hash': hashval ,'sequences': sequences , 'LSHresults' : lshforest.query(hashval , k ) }\n",
    "    return finalset\n",
    "\n",
    "k = 100 \n",
    "\n",
    "randomset = list( np.random.randint(0,len(rowdictReverse),5)   )\n",
    "print randomset\n",
    "\n",
    "final = {}\n",
    "for row in randomset:\n",
    "    final.update(build_dict((row , lshforest, r , k )))\n",
    "\n",
    "#print final"
   ]
  },
  {
   "cell_type": "code",
   "execution_count": 33,
   "metadata": {},
   "outputs": [],
   "source": [
    "def maker_workerfunction_Results(rowdictReverse, h5file, lshforest, r ,k , OKannotations = set(['EXP', 'IMP', 'IGI', 'IPI', 'IEP', 'IDA', 'IEA']) ):\n",
    "    def workerfunction(row , lock):\n",
    "        lock.acquire()\n",
    "        godict, cpt = grabGOterms(h5file,rowdictReverse[row])\n",
    "        lock.release()\n",
    "        qualitycheck= False\n",
    "        \n",
    "        #check at least one of the annotations is good \n",
    "        \"\"\"for note in godict.values():\n",
    "            for tupl in note:\n",
    "                if set(tupl).intersection(OKannotations) > 0:            \n",
    "                    qualitycheck = True\n",
    "                    break\n",
    "            if qualitycheck == True:\n",
    "                break\n",
    "        \n",
    "        if qualitycheck == True:\"\"\"\n",
    "        hashval = pickle.loads(r.get(row))\n",
    "        #lock.acquire()\n",
    "        #sequences = grabSequences(h5file,rowdictReverse[row])\n",
    "        #lock.release()\n",
    "        results = lshforest.query(hashval , k )\n",
    "        \n",
    "\n",
    "\n",
    "        finalset = { 'row':row, 'HOG':rowdictReverse[int(row)] , 'godict':godict , 'cpt':cpt , 'hash': hashval , 'LSHresults' : results }\n",
    "\n",
    "        return finalset\n",
    "    return workerfunction\n",
    "\n",
    "def maker_workerfunction_Godist( rowdictReverse, h5file, r ):\n",
    "    def workerfunction(dictentry , lock):\n",
    "        dataset = {}\n",
    "        for row in dictentry['LSHresults']:\n",
    "            HOGname = rowdictReverse[int(row)]\n",
    "            lock.acquire()\n",
    "            #sequences = grabSequences(h5file,HOGname)\n",
    "            godict, cpt = grabGOterms(h5file,HOGname)\n",
    "            lock.release()\n",
    "            \n",
    "            \n",
    "            hashval = pickle.loads(r.get(row))\n",
    "            \n",
    "            jaccardscore = dictentry['hash'].jaccard(hashval)\n",
    "            #MIscore =  KomolgrovUpper(''.join(dictentry['sequences'].values()),''.join(sequences.values()))\n",
    "            linmat = GOdist(godict, dictentry['godict'], lin)\n",
    "            resnikmat =  GOdist(godict, dictentry['godict'], resnik)\n",
    "            \n",
    "            dataset[( HOGname , rowdictReverse[dictentry['row']]) ] = { 'jaccard': jaccardscore ,  'LinAvg': NonZeroAvg(linmat) , 'linMax':retMax(linmat) ,\n",
    "                                         'ResnikAvg': NonZeroAvg(resnikmat), 'ResnikMax':retMax(resnikmat)  }\n",
    "        \n",
    "        \n",
    "        return dataset\n",
    "    return workerfunction\n",
    "\n",
    "def both(worker_res, worker_dist):\n",
    "    def retboth (row,l ):\n",
    "        return worker_dist(worker_res(row,l) , l )\n",
    "    return retboth\n",
    "\n",
    "def updatefunction(startobject, update_data):\n",
    "    #for a dictionary\n",
    " \n",
    "    try:\n",
    "        startobject.update(update_data)\n",
    "    except:\n",
    "        print update_data\n",
    "    return startobject\n",
    "\n",
    "def datagen_dict( dictionary):\n",
    "    for entry in dictionary:\n",
    "        yield dictionary[entry]"
   ]
  },
  {
   "cell_type": "code",
   "execution_count": 34,
   "metadata": {},
   "outputs": [
    {
     "ename": "SyntaxError",
     "evalue": "invalid syntax (<ipython-input-34-c32380ef08f6>, line 21)",
     "output_type": "error",
     "traceback": [
      "\u001b[0;36m  File \u001b[0;32m\"<ipython-input-34-c32380ef08f6>\"\u001b[0;36m, line \u001b[0;32m21\u001b[0m\n\u001b[0;31m    print final\"\"\"\u001b[0m\n\u001b[0m                  \n^\u001b[0m\n\u001b[0;31mSyntaxError\u001b[0m\u001b[0;31m:\u001b[0m invalid syntax\n"
     ]
    }
   ],
   "source": [
    "\n",
    "np.random.seed(seed = 0)\n",
    "rando = iter( list(np.random.randint(0,len(rowdictReverse),1500)))\n",
    "\n",
    "final = {}\"\"\"\n",
    "for i in range(10):\n",
    "    print i\n",
    "    try:\n",
    "        with time_limit(20):\n",
    "            final.update( bothfunctions( next(rando) , l ))\n",
    "    except TimeoutException as e:\n",
    "            print(\"Timed out!\")\n",
    "            \n",
    "print final\"\"\""
   ]
  },
  {
   "cell_type": "code",
   "execution_count": 73,
   "metadata": {},
   "outputs": [],
   "source": [
    "\n",
    "def worker(i,q,retq,l, timecards , workerfunction  ):\n",
    "    pnumber = i\n",
    "    timecards[ pnumber ] = time.time()\n",
    "    while True:\n",
    "        timecards[ pnumber ] = time.time()\n",
    "        time.sleep(.1)\n",
    "        data = q.get()\n",
    "        completed = False\n",
    "        if data == 'DONE':\n",
    "            break \n",
    "        try:\n",
    "            with time_limit(20):\n",
    "                update_data = workerfunction(data , l)\n",
    "                completed = True\n",
    "        except TimeoutException as e:\n",
    "            print(\"Timed out!\")\n",
    "        \n",
    "        gc.collect()\n",
    "        if completed == True:\n",
    "            retq.put(update_data)\n",
    "            print(\"updating!\")\n",
    "        #punch the clok.\n",
    "        #timecards[ pnumber ] = time.time()\n",
    "        \n",
    "\n",
    "def updater(i,q,retq,l , updatefunction ,startobject, saveobject ):\n",
    "    pnumber = i\n",
    "    while True:\n",
    "        time.sleep(.1)\n",
    "        update_data = retq.get()\n",
    "        if update_data == 'DONE':\n",
    "            break\n",
    "        else :\n",
    "            print 'update'            \n",
    "            startobject = updatefunction(startobject , update_data)\n",
    "            l.acquire()\n",
    "            handle1=open(saveobject , 'w')\n",
    "            pickle.dump(startobject, handle1 , -1)\n",
    "            handle1.close()\n",
    "            print'object saved'\n",
    "            l.release()\n",
    "    \n",
    "    \n",
    "    "
   ]
  },
  {
   "cell_type": "code",
   "execution_count": 74,
   "metadata": {},
   "outputs": [],
   "source": [
    "def mp_with_timeout(nworkers, nupdaters, startobject , saveobject , datagenerator , workerfunction, updatefunction, timeout = 60, saveinterval = 600  ):\n",
    "\n",
    "    wprocesses ={}\n",
    "    uprocesses ={}    \n",
    "    l = mp.Lock()\n",
    "    cores = mp.cpu_count()\n",
    "    q = mp.Queue( maxsize = cores*10 )\n",
    "    retq = mp.Queue( maxsize = cores*10 )\n",
    "    \n",
    "    #30sec timetout for workers\n",
    "    manager = Manager()\n",
    "    timecards = manager.dict()\n",
    "\n",
    "    for i in range(nworkers):\n",
    "        t = mp.Process(target=worker, args=(i,q,retq,l, timecards , workerfunction )  ) \n",
    "        t.daemon = True\n",
    "        t.start()\n",
    "        wprocesses[i] = t\n",
    "\n",
    "\n",
    "    for i in range(nupdaters):\n",
    "        t = mp.Process(target=updater, args=(i,q,retq,l , updatefunction ,startobject , saveobject+str(i)+'.pkl'  ) ) \n",
    "        t.daemon = True\n",
    "        t.start()\n",
    "        uprocesses[i]= t\n",
    "\n",
    "    count =0\n",
    "    data = next(datagenerator)\n",
    "    start = time.time()\n",
    "    \n",
    "    while True:\n",
    "        time.sleep(.1)\n",
    "        #check for non responsive workers\n",
    "        #save every so often\n",
    "        if count % 100 == 0 :\n",
    "            retq.put('SAVE')\n",
    "        try:\n",
    "            data = next(datagenerator)\n",
    "            q.put(data)\n",
    "            count += 1\n",
    "        except StopIteration:\n",
    "            \n",
    "            print 'stop iteration'\n",
    "            for p in range(nworkers):\n",
    "                q.put('DONE')\n",
    "                \n",
    "            \n",
    "            for p in range(nupdaters):\n",
    "                retq.put('DONE')\n",
    "            break\n",
    "\n",
    "        if count % 100 == 0:\n",
    "            print count\n",
    "            retq.put('SAVE')\n",
    "    \n",
    "    for p in wprocesses:\n",
    "        wprocesses[p].terminate()\n",
    "    gc.collect()\n",
    "    for p in uprocesses:\n",
    "        uprocesses[p].terminate()\n",
    "    gc.collect()\n",
    "    print 'DONE!!!!!'\n",
    "\n",
    "def singlecore(  startobject, workerfunction , updatefunction , saveobject, Lock):\n",
    "    for i, dataobject in enumerate(datagenerator):\n",
    "        if i < 10:\n",
    "            print i\n",
    "            print dataobject\n",
    "        if i %100 == 0 and i > 0:\n",
    "            print i \n",
    "        if i % 200 == 0 and i > 0:\n",
    "            print 'saving'\n",
    "            with open( saveobject , 'w') as handle:\n",
    "                pickle.dump(handle)\n",
    "        update = workerfunction(dataobject,Lock)\n",
    "        startobject = updatefunction(startobject , update) \n",
    "    with open( saveobject , 'w') as handle:\n",
    "        pickle.dump(startobject, handle , -1)\n"
   ]
  },
  {
   "cell_type": "code",
   "execution_count": 76,
   "metadata": {},
   "outputs": [
    {
     "name": "stdout",
     "output_type": "stream",
     "text": [
      "update\n",
      "SAVE\n",
      "object saved\n"
     ]
    },
    {
     "name": "stderr",
     "output_type": "stream",
     "text": [
      "/usr/local/lib/python2.7/dist-packages/numpy/core/fromnumeric.py:2909: RuntimeWarning: Mean of empty slice.\n",
      "  out=out, **kwargs)\n",
      "/usr/local/lib/python2.7/dist-packages/numpy/core/_methods.py:80: RuntimeWarning: invalid value encountered in double_scalars\n",
      "  ret = ret.dtype.type(ret / rcount)\n",
      "/usr/local/lib/python2.7/dist-packages/numpy/core/fromnumeric.py:2909: RuntimeWarning: Mean of empty slice.\n",
      "  out=out, **kwargs)\n",
      "/usr/local/lib/python2.7/dist-packages/numpy/core/_methods.py:80: RuntimeWarning: invalid value encountered in double_scalars\n",
      "  ret = ret.dtype.type(ret / rcount)\n",
      "/usr/local/lib/python2.7/dist-packages/numpy/core/fromnumeric.py:2909: RuntimeWarning: Mean of empty slice.\n",
      "  out=out, **kwargs)\n",
      "/usr/local/lib/python2.7/dist-packages/numpy/core/_methods.py:80: RuntimeWarning: invalid value encountered in double_scalars\n",
      "  ret = ret.dtype.type(ret / rcount)\n",
      "/usr/local/lib/python2.7/dist-packages/numpy/core/fromnumeric.py:2909: RuntimeWarning: Mean of empty slice.\n",
      "  out=out, **kwargs)\n",
      "/usr/local/lib/python2.7/dist-packages/numpy/core/_methods.py:80: RuntimeWarning: invalid value encountered in double_scalars\n",
      "  ret = ret.dtype.type(ret / rcount)\n",
      "/usr/local/lib/python2.7/dist-packages/numpy/core/fromnumeric.py:2909: RuntimeWarning: Mean of empty slice.\n",
      "  out=out, **kwargs)\n",
      "/usr/local/lib/python2.7/dist-packages/numpy/core/_methods.py:80: RuntimeWarning: invalid value encountered in double_scalars\n",
      "  ret = ret.dtype.type(ret / rcount)\n",
      "/usr/local/lib/python2.7/dist-packages/numpy/core/fromnumeric.py:2909: RuntimeWarning: Mean of empty slice.\n",
      "  out=out, **kwargs)\n",
      "/usr/local/lib/python2.7/dist-packages/numpy/core/_methods.py:80: RuntimeWarning: invalid value encountered in double_scalars\n",
      "  ret = ret.dtype.type(ret / rcount)\n",
      "/usr/local/lib/python2.7/dist-packages/numpy/core/fromnumeric.py:2909: RuntimeWarning: Mean of empty slice.\n",
      "  out=out, **kwargs)\n",
      "/usr/local/lib/python2.7/dist-packages/numpy/core/_methods.py:80: RuntimeWarning: invalid value encountered in double_scalars\n",
      "  ret = ret.dtype.type(ret / rcount)\n",
      "/usr/local/lib/python2.7/dist-packages/numpy/core/fromnumeric.py:2909: RuntimeWarning: Mean of empty slice.\n",
      "  out=out, **kwargs)\n",
      "/usr/local/lib/python2.7/dist-packages/numpy/core/_methods.py:80: RuntimeWarning: invalid value encountered in double_scalars\n",
      "  ret = ret.dtype.type(ret / rcount)\n",
      "/usr/local/lib/python2.7/dist-packages/numpy/core/fromnumeric.py:2909: RuntimeWarning: Mean of empty slice.\n",
      "  out=out, **kwargs)\n",
      "/usr/local/lib/python2.7/dist-packages/numpy/core/_methods.py:80: RuntimeWarning: invalid value encountered in double_scalars\n",
      "  ret = ret.dtype.type(ret / rcount)\n",
      "/usr/local/lib/python2.7/dist-packages/numpy/core/fromnumeric.py:2909: RuntimeWarning: Mean of empty slice.\n",
      "  out=out, **kwargs)\n",
      "/usr/local/lib/python2.7/dist-packages/numpy/core/_methods.py:80: RuntimeWarning: invalid value encountered in double_scalars\n",
      "  ret = ret.dtype.type(ret / rcount)\n"
     ]
    },
    {
     "name": "stdout",
     "output_type": "stream",
     "text": [
      "update\n",
      "SAVE\n",
      "100\n",
      "object saved\n",
      "update\n",
      "SAVE\n",
      "object saved\n",
      "updating!\n",
      "update\n",
      "object saved\n",
      "updating!\n",
      "update\n",
      "object saved\n",
      "updating!\n",
      "update\n",
      "object saved\n",
      "updating!\n",
      "update\n",
      "object saved\n",
      "updating!\n",
      "update\n",
      "updating!\n",
      "object saved\n",
      "update\n",
      "object saved\n",
      "update\n",
      "updating!\n",
      "object saved\n",
      "updating!\n",
      "update\n",
      "object saved\n",
      "update\n",
      "updating!\n",
      "object saved\n",
      "update\n",
      "updating!\n",
      "updating!\n",
      "updating!\n",
      "object saved\n",
      "update\n",
      "updating!\n",
      "object saved\n",
      "update\n",
      "object saved\n",
      "update\n",
      "object saved\n",
      "updating!\n",
      "update\n",
      "object saved\n",
      "updating!\n",
      "update\n",
      "updating!\n",
      "object saved\n",
      "update\n",
      "object saved\n",
      "Timed out!\n",
      "Timed out!\n",
      "Timed out!\n",
      "Timed out!\n",
      "Timed out!\n",
      "Timed out!\n",
      "Timed out!\n",
      "Timed out!\n",
      "Timed out!\n",
      "Timed out!\n",
      "Timed out!\n",
      "Timed out!\n",
      "Timed out!\n",
      "Timed out!\n"
     ]
    },
    {
     "name": "stderr",
     "output_type": "stream",
     "text": [
      "Process Process-180:\n",
      "Process Process-171:\n",
      "Process Process-172:\n",
      "Traceback (most recent call last):\n",
      "Process Process-174:\n",
      "Traceback (most recent call last):\n",
      "  File \"/usr/lib/python2.7/multiprocessing/process.py\", line 258, in _bootstrap\n",
      "Process Process-175:\n",
      "  File \"/usr/lib/python2.7/multiprocessing/process.py\", line 258, in _bootstrap\n",
      "Traceback (most recent call last):\n",
      "    self.run()\n",
      "  File \"/usr/lib/python2.7/multiprocessing/process.py\", line 114, in run\n",
      "    self.run()\n",
      "Traceback (most recent call last):\n",
      "Traceback (most recent call last):\n",
      "  File \"/usr/lib/python2.7/multiprocessing/process.py\", line 258, in _bootstrap\n",
      "    self._target(*self._args, **self._kwargs)\n",
      "  File \"/usr/lib/python2.7/multiprocessing/process.py\", line 114, in run\n",
      "  File \"/usr/lib/python2.7/multiprocessing/process.py\", line 258, in _bootstrap\n",
      "  File \"/usr/lib/python2.7/multiprocessing/process.py\", line 258, in _bootstrap\n",
      "  File \"<ipython-input-73-63bea968c92a>\", line 14, in worker\n",
      "    self.run()\n",
      "    self.run()\n",
      "    self.run()\n",
      "  File \"/usr/lib/python2.7/multiprocessing/process.py\", line 114, in run\n",
      "    self._target(*self._args, **self._kwargs)\n"
     ]
    },
    {
     "ename": "KeyboardInterrupt",
     "evalue": "",
     "output_type": "error",
     "traceback": [
      "\u001b[0;31m--------------------------------------------------------------------------\u001b[0m",
      "\u001b[0;31mKeyboardInterrupt\u001b[0m                        Traceback (most recent call last)",
      "\u001b[0;32m<ipython-input-76-2a307ae1295b>\u001b[0m in \u001b[0;36m<module>\u001b[0;34m()\u001b[0m\n\u001b[1;32m     16\u001b[0m \u001b[0mdatagenerator\u001b[0m \u001b[0;34m=\u001b[0m \u001b[0miter\u001b[0m\u001b[0;34m(\u001b[0m\u001b[0mrandomset\u001b[0m\u001b[0;34m)\u001b[0m\u001b[0;34m\u001b[0m\u001b[0m\n\u001b[1;32m     17\u001b[0m \u001b[0;31m#singlecore(  startobject, workerfunction , updatefunction , saveobject, Lock)\u001b[0m\u001b[0;34m\u001b[0m\u001b[0;34m\u001b[0m\u001b[0m\n\u001b[0;32m---> 18\u001b[0;31m \u001b[0mmp_with_timeout\u001b[0m\u001b[0;34m(\u001b[0m\u001b[0mnworkers\u001b[0m\u001b[0;34m,\u001b[0m \u001b[0mnupdaters\u001b[0m \u001b[0;34m,\u001b[0m \u001b[0mstartobject\u001b[0m \u001b[0;34m,\u001b[0m \u001b[0msaveobject\u001b[0m \u001b[0;34m,\u001b[0m \u001b[0mdatagenerator\u001b[0m \u001b[0;34m,\u001b[0m\u001b[0mbothfunctions\u001b[0m \u001b[0;34m,\u001b[0m \u001b[0mupdatefunction\u001b[0m \u001b[0;34m)\u001b[0m\u001b[0;34m\u001b[0m\u001b[0m\n\u001b[0m",
      "\u001b[0;32m<ipython-input-74-a9291bece5f2>\u001b[0m in \u001b[0;36mmp_with_timeout\u001b[0;34m(nworkers, nupdaters, startobject, saveobject, datagenerator, workerfunction, updatefunction, timeout, saveinterval)\u001b[0m\n\u001b[1;32m     37\u001b[0m         \u001b[0;32mtry\u001b[0m\u001b[0;34m:\u001b[0m\u001b[0;34m\u001b[0m\u001b[0m\n\u001b[1;32m     38\u001b[0m             \u001b[0mdata\u001b[0m \u001b[0;34m=\u001b[0m \u001b[0mnext\u001b[0m\u001b[0;34m(\u001b[0m\u001b[0mdatagenerator\u001b[0m\u001b[0;34m)\u001b[0m\u001b[0;34m\u001b[0m\u001b[0m\n\u001b[0;32m---> 39\u001b[0;31m             \u001b[0mq\u001b[0m\u001b[0;34m.\u001b[0m\u001b[0mput\u001b[0m\u001b[0;34m(\u001b[0m\u001b[0mdata\u001b[0m\u001b[0;34m)\u001b[0m\u001b[0;34m\u001b[0m\u001b[0m\n\u001b[0m\u001b[1;32m     40\u001b[0m             \u001b[0mcount\u001b[0m \u001b[0;34m+=\u001b[0m \u001b[0;36m1\u001b[0m\u001b[0;34m\u001b[0m\u001b[0m\n\u001b[1;32m     41\u001b[0m         \u001b[0;32mexcept\u001b[0m \u001b[0mStopIteration\u001b[0m\u001b[0;34m:\u001b[0m\u001b[0;34m\u001b[0m\u001b[0m\n",
      "\u001b[0;32m/usr/lib/python2.7/multiprocessing/queues.pyc\u001b[0m in \u001b[0;36mput\u001b[0;34m(self, obj, block, timeout)\u001b[0m\n\u001b[1;32m     99\u001b[0m     \u001b[0;32mdef\u001b[0m \u001b[0mput\u001b[0m\u001b[0;34m(\u001b[0m\u001b[0mself\u001b[0m\u001b[0;34m,\u001b[0m \u001b[0mobj\u001b[0m\u001b[0;34m,\u001b[0m \u001b[0mblock\u001b[0m\u001b[0;34m=\u001b[0m\u001b[0mTrue\u001b[0m\u001b[0;34m,\u001b[0m \u001b[0mtimeout\u001b[0m\u001b[0;34m=\u001b[0m\u001b[0mNone\u001b[0m\u001b[0;34m)\u001b[0m\u001b[0;34m:\u001b[0m\u001b[0;34m\u001b[0m\u001b[0m\n\u001b[1;32m    100\u001b[0m         \u001b[0;32massert\u001b[0m \u001b[0;32mnot\u001b[0m \u001b[0mself\u001b[0m\u001b[0;34m.\u001b[0m\u001b[0m_closed\u001b[0m\u001b[0;34m\u001b[0m\u001b[0m\n\u001b[0;32m--> 101\u001b[0;31m         \u001b[0;32mif\u001b[0m \u001b[0;32mnot\u001b[0m \u001b[0mself\u001b[0m\u001b[0;34m.\u001b[0m\u001b[0m_sem\u001b[0m\u001b[0;34m.\u001b[0m\u001b[0macquire\u001b[0m\u001b[0;34m(\u001b[0m\u001b[0mblock\u001b[0m\u001b[0;34m,\u001b[0m \u001b[0mtimeout\u001b[0m\u001b[0;34m)\u001b[0m\u001b[0;34m:\u001b[0m\u001b[0;34m\u001b[0m\u001b[0m\n\u001b[0m\u001b[1;32m    102\u001b[0m             \u001b[0;32mraise\u001b[0m \u001b[0mFull\u001b[0m\u001b[0;34m\u001b[0m\u001b[0m\n\u001b[1;32m    103\u001b[0m \u001b[0;34m\u001b[0m\u001b[0m\n",
      "\u001b[0;31mKeyboardInterrupt\u001b[0m: "
     ]
    },
    {
     "name": "stderr",
     "output_type": "stream",
     "text": [
      "    update_data = workerfunction(data , l)\n",
      "  File \"/usr/lib/python2.7/multiprocessing/process.py\", line 114, in run\n",
      "  File \"<ipython-input-73-63bea968c92a>\", line 14, in worker\n",
      "  File \"/usr/lib/python2.7/multiprocessing/process.py\", line 114, in run\n",
      "    self._target(*self._args, **self._kwargs)\n",
      "  File \"<ipython-input-33-20f8027ec037>\", line 58, in retboth\n",
      "    self._target(*self._args, **self._kwargs)\n",
      "  File \"<ipython-input-73-63bea968c92a>\", line 14, in worker\n",
      "  File \"<ipython-input-73-63bea968c92a>\", line 31, in updater\n",
      "    self._target(*self._args, **self._kwargs)\n",
      "    update_data = workerfunction(data , l)\n",
      "  File \"<ipython-input-33-20f8027ec037>\", line 58, in retboth\n",
      "    return worker_dist(worker_res(row,l) , l )\n",
      "    update_data = retq.get()\n",
      "  File \"<ipython-input-73-63bea968c92a>\", line 14, in worker\n",
      "  File \"<ipython-input-33-20f8027ec037>\", line 3, in workerfunction\n",
      "    update_data = workerfunction(data , l)\n",
      "    lock.acquire()\n",
      "KeyboardInterrupt\n",
      "    update_data = workerfunction(data , l)\n",
      "  File \"<ipython-input-33-20f8027ec037>\", line 58, in retboth\n",
      "    return worker_dist(worker_res(row,l) , l )\n",
      "  File \"<ipython-input-33-20f8027ec037>\", line 3, in workerfunction\n",
      "    return worker_dist(worker_res(row,l) , l )\n",
      "    lock.acquire()\n",
      "KeyboardInterrupt\n",
      "  File \"<ipython-input-33-20f8027ec037>\", line 58, in retboth\n",
      "    return worker_dist(worker_res(row,l) , l )\n",
      "  File \"<ipython-input-33-20f8027ec037>\", line 3, in workerfunction\n",
      "    lock.acquire()\n",
      "KeyboardInterrupt\n",
      "  File \"/usr/lib/python2.7/multiprocessing/queues.py\", line 117, in get\n",
      "  File \"<ipython-input-33-20f8027ec037>\", line 3, in workerfunction\n",
      "    res = self._recv()\n",
      "    lock.acquire()\n",
      "KeyboardInterrupt\n",
      "KeyboardInterrupt\n",
      "Process Process-178:\n",
      "Traceback (most recent call last):\n",
      "  File \"/usr/lib/python2.7/multiprocessing/process.py\", line 258, in _bootstrap\n",
      "    self.run()\n",
      "  File \"/usr/lib/python2.7/multiprocessing/process.py\", line 114, in run\n",
      "    self._target(*self._args, **self._kwargs)\n",
      "  File \"<ipython-input-73-63bea968c92a>\", line 19, in worker\n",
      "    gc.collect()\n",
      "KeyboardInterrupt\n",
      "Process Process-179:\n",
      "Traceback (most recent call last):\n",
      "  File \"/usr/lib/python2.7/multiprocessing/process.py\", line 258, in _bootstrap\n",
      "    self.run()\n",
      "  File \"/usr/lib/python2.7/multiprocessing/process.py\", line 114, in run\n",
      "    self._target(*self._args, **self._kwargs)\n",
      "  File \"<ipython-input-73-63bea968c92a>\", line 19, in worker\n",
      "    gc.collect()\n",
      "KeyboardInterrupt\n",
      "Process Process-173:\n",
      "Traceback (most recent call last):\n",
      "  File \"/usr/lib/python2.7/multiprocessing/process.py\", line 258, in _bootstrap\n",
      "    self.run()\n",
      "  File \"/usr/lib/python2.7/multiprocessing/process.py\", line 114, in run\n",
      "    self._target(*self._args, **self._kwargs)\n",
      "  File \"<ipython-input-73-63bea968c92a>\", line 19, in worker\n",
      "    gc.collect()\n",
      "KeyboardInterrupt\n"
     ]
    }
   ],
   "source": [
    "nworkers = 10\n",
    "nupdaters = 1\n",
    "\n",
    "startobject = {}\n",
    "saveobject = './random_results'\n",
    "\n",
    "k = 30\n",
    "workerfunction = maker_workerfunction_Results(rowdictReverse, h5file, lshforest, r ,k )\n",
    "datasetworker = maker_workerfunction_Godist( rowdictReverse, h5file, r )\n",
    "\n",
    "bothfunctions = both(workerfunction, datasetworker ) \n",
    "\n",
    "#choose 10k random HOGS\n",
    "np.random.seed(seed = 0)\n",
    "randomset = list(np.random.randint(0,len(rowdictReverse),1500))\n",
    "datagenerator = iter(randomset)\n",
    "#singlecore(  startobject, workerfunction , updatefunction , saveobject, Lock)\n",
    "mp_with_timeout(nworkers, nupdaters , startobject , saveobject , datagenerator ,bothfunctions , updatefunction )"
   ]
  },
  {
   "cell_type": "code",
   "execution_count": null,
   "metadata": {},
   "outputs": [],
   "source": [
    "nworkers = 10\n",
    "nupdaters = 1\n",
    "\n",
    "datasetworker = maker_workerfunction_Godist( rowdictReverse, h5file, r )\n",
    "startobject = {}\n",
    "saveobject = './random_results_mat'\n",
    "\n",
    "with open( './random_results0.pkl' , 'r') as handle:\n",
    "    results = pickle.load(handle)\n",
    "print len(results)\n",
    "#choose 10k random HOGS\n",
    "np.random.seed(seed = 0)\n",
    "\n",
    "l = mp.Lock()\n",
    "datagenerator = datagen_dict(results)\n",
    "startobject = {}\n",
    "\n",
    "\n",
    "\n",
    "#singlecore(startobject, datasetworker , updatefunction , saveobject , l)"
   ]
  },
  {
   "cell_type": "code",
   "execution_count": 29,
   "metadata": {},
   "outputs": [
    {
     "name": "stderr",
     "output_type": "stream",
     "text": [
      "Traceback (most recent call last):\n",
      "  File \"/usr/lib/python2.7/multiprocessing/queues.py\", line 268, in _feed\n",
      "    send(obj)\n",
      "IOError: [Errno 32] Broken pipe\n"
     ]
    },
    {
     "name": "stdout",
     "output_type": "stream",
     "text": [
      "stop iteration\n"
     ]
    },
    {
     "name": "stderr",
     "output_type": "stream",
     "text": [
      "IOError: [Errno 32] Broken pipe\n",
      "Process Process-72:\n",
      "Traceback (most recent call last):\n",
      "  File \"/usr/lib/python2.7/multiprocessing/process.py\", line 258, in _bootstrap\n",
      "    self.run()\n",
      "  File \"/usr/lib/python2.7/multiprocessing/process.py\", line 114, in run\n",
      "    self._target(*self._args, **self._kwargs)\n",
      "  File \"<ipython-input-18-d29483810dea>\", line 28, in updater\n",
      "    update_data = retq.get()\n",
      "  File \"/usr/lib/python2.7/multiprocessing/queues.py\", line 117, in get\n",
      "    res = self._recv()\n",
      "KeyboardInterrupt\n"
     ]
    },
    {
     "ename": "KeyboardInterrupt",
     "evalue": "",
     "output_type": "error",
     "traceback": [
      "\u001b[0;31m--------------------------------------------------------------------------\u001b[0m",
      "\u001b[0;31mKeyboardInterrupt\u001b[0m                        Traceback (most recent call last)",
      "\u001b[0;32m<ipython-input-29-8dcd9d2d6e50>\u001b[0m in \u001b[0;36m<module>\u001b[0;34m()\u001b[0m\n\u001b[0;32m----> 1\u001b[0;31m \u001b[0mmp_with_timeout\u001b[0m\u001b[0;34m(\u001b[0m\u001b[0mnworkers\u001b[0m\u001b[0;34m,\u001b[0m \u001b[0mnupdaters\u001b[0m \u001b[0;34m,\u001b[0m \u001b[0mstartobject\u001b[0m \u001b[0;34m,\u001b[0m \u001b[0msaveobject\u001b[0m \u001b[0;34m,\u001b[0m \u001b[0mdatagenerator\u001b[0m \u001b[0;34m,\u001b[0m\u001b[0mworkerfunction\u001b[0m \u001b[0;34m,\u001b[0m \u001b[0mupdatefunction\u001b[0m \u001b[0;34m)\u001b[0m\u001b[0;34m\u001b[0m\u001b[0m\n\u001b[0m",
      "\u001b[0;32m<ipython-input-25-875bdde48590>\u001b[0m in \u001b[0;36mmp_with_timeout\u001b[0;34m(nworkers, nupdaters, startobject, saveobject, datagenerator, workerfunction, updatefunction, timeout, saveinterval)\u001b[0m\n\u001b[1;32m     64\u001b[0m     \u001b[0;32mfor\u001b[0m \u001b[0mp\u001b[0m \u001b[0;32min\u001b[0m \u001b[0mwprocesses\u001b[0m\u001b[0;34m:\u001b[0m\u001b[0;34m\u001b[0m\u001b[0m\n\u001b[1;32m     65\u001b[0m         \u001b[0mwprocesses\u001b[0m\u001b[0;34m[\u001b[0m\u001b[0mp\u001b[0m\u001b[0;34m]\u001b[0m\u001b[0;34m.\u001b[0m\u001b[0mterminate\u001b[0m\u001b[0;34m(\u001b[0m\u001b[0;34m)\u001b[0m\u001b[0;34m\u001b[0m\u001b[0m\n\u001b[0;32m---> 66\u001b[0;31m     \u001b[0mgc\u001b[0m\u001b[0;34m.\u001b[0m\u001b[0mcollect\u001b[0m\u001b[0;34m(\u001b[0m\u001b[0;34m)\u001b[0m\u001b[0;34m\u001b[0m\u001b[0m\n\u001b[0m\u001b[1;32m     67\u001b[0m     \u001b[0;32mfor\u001b[0m \u001b[0mp\u001b[0m \u001b[0;32min\u001b[0m \u001b[0muprocesses\u001b[0m\u001b[0;34m:\u001b[0m\u001b[0;34m\u001b[0m\u001b[0m\n\u001b[1;32m     68\u001b[0m         \u001b[0muprocesses\u001b[0m\u001b[0;34m[\u001b[0m\u001b[0mp\u001b[0m\u001b[0;34m]\u001b[0m\u001b[0;34m.\u001b[0m\u001b[0mterminate\u001b[0m\u001b[0;34m(\u001b[0m\u001b[0;34m)\u001b[0m\u001b[0;34m\u001b[0m\u001b[0m\n",
      "\u001b[0;31mKeyboardInterrupt\u001b[0m: "
     ]
    }
   ],
   "source": [
    "mp_with_timeout(nworkers, nupdaters , startobject , saveobject , datagenerator ,workerfunction , updatefunction )"
   ]
  },
  {
   "cell_type": "code",
   "execution_count": 90,
   "metadata": {},
   "outputs": [
    {
     "name": "stdout",
     "output_type": "stream",
     "text": [
      "                                                                                                   LinAvg  \\\n",
      "HOG:0010549.1b                                     HOG:0020382.1a                                0.000000   \n",
      "HOG:0010684.1b                                     HOG:0020382.1a                                0.000000   \n",
      "HOG:0010801.1b                                     HOG:0020382.1a                                0.000000   \n",
      "HOG:0010837.1c                                     HOG:0020382.1a                                0.875923   \n",
      "HOG:0010915.1a                                     HOG:0020382.1a                                0.000000   \n",
      "HOG:0011111.1a                                     HOG:0020382.1a                                0.000000   \n",
      "HOG:0012349.2a                                     HOG:0020382.1a                                0.000000   \n",
      "HOG:0012457.3b                                     HOG:0020382.1a                                0.000000   \n",
      "HOG:0012592.1f                                     HOG:0020382.1a                                0.000000   \n",
      "HOG:0012601.2b                                     HOG:0020382.1a                                1.000000   \n",
      "HOG:0012723.1b                                     HOG:0020382.1a                                0.652575   \n",
      "HOG:0012996.1a.1b                                  HOG:0020382.1a                                0.000000   \n",
      "HOG:0013312.2c.1a                                  HOG:0020382.1a                                0.000000   \n",
      "HOG:0013405.1b                                     HOG:0020382.1a                                0.000000   \n",
      "HOG:0014319.2b                                     HOG:0020382.1a                                0.000000   \n",
      "HOG:0017448.3b                                     HOG:0020382.1a                                0.683120   \n",
      "HOG:0017468.1a.1a                                  HOG:0020382.1a                                2.000000   \n",
      "HOG:0017642.1a                                     HOG:0020382.1a                                0.000000   \n",
      "HOG:0018403.3b.1a                                  HOG:0020382.1a                                0.000000   \n",
      "HOG:0020014.2a                                     HOG:0020382.1a                                0.000000   \n",
      "HOG:0020382.1a                                     HOG:0020382.1a                                1.000000   \n",
      "HOG:0032363                                        HOG:0032569                                   0.000000   \n",
      "HOG:0032443                                        HOG:0032569                                   0.000000   \n",
      "HOG:0032446                                        HOG:0032569                                   0.000000   \n",
      "HOG:0032461                                        HOG:0032569                                   0.000000   \n",
      "HOG:0032482                                        HOG:0032569                                   0.000000   \n",
      "HOG:0032494                                        HOG:0032569                                   0.000000   \n",
      "HOG:0032524                                        HOG:0032569                                   0.000000   \n",
      "HOG:0032832                                        HOG:0032569                                   0.000000   \n",
      "HOG:0032869                                        HOG:0032569                                   0.000000   \n",
      "...                                                                                                   ...   \n",
      "HOG:0586092.13i.76g.187b.134a                      HOG:0517289.5b                                0.369000   \n",
      "HOG:0586341.9a                                     HOG:0515041                                   0.000000   \n",
      "HOG:0586536.1a.18r.58h.138e                        HOG:0585607.30ar.616a.707c                    0.435067   \n",
      "HOG:0586565.8o.25c.14b                             HOG:0571911.3a.2b.4a                          0.816467   \n",
      "HOG:0586565.8o.25c.14d                             HOG:0571911.3a.2b.4a                          0.816467   \n",
      "HOG:0586573.22f.112b.170b                          HOG:0585607.30ar.616a.707c                    0.469509   \n",
      "HOG:0586691.1b                                     HOG:0515041                                   0.000000   \n",
      "HOG:0586762.12g.41a.32a                            HOG:0517289.5b                                0.000000   \n",
      "HOG:0586773.1a.6b.10c                              HOG:0185101.6a                                0.000000   \n",
      "HOG:0586855.1g.21cg                                HOG:0582311.1a                                1.293234   \n",
      "HOG:0586855.1g.21ez                                HOG:0582311.1a                                1.293234   \n",
      "HOG:0586855.2o.54a.737a.924i                       HOG:0020382.1a                                2.000000   \n",
      "HOG:0586855.3d.65br.843a.1072a                     HOG:0578869.3d.74as.348a.466b                 1.000000   \n",
      "HOG:0586855.3d.71dn.960y.1230a.545b.289a.192d.133d HOG:0586914.1b.7k.12a.4h.17b.18d.25b.25a.17a  0.515579   \n",
      "HOG:0586877.3c.22dp.441f.620a.437b.342b.183c       HOG:0586914.1b.7k.12a.4h.17b.18d.25b.25a.17a  0.612138   \n",
      "HOG:0586877.3c.22dp.441i.623b.441b.353b.246a       HOG:0586914.1b.7k.12a.4h.17b.18d.25b.25a.17a  0.637125   \n",
      "HOG:0586877.3c.22dp.443ch.783b.610g.544l           HOG:0185101.6a                                1.000000   \n",
      "HOG:0586877.3c.22dp.443ch.783b.610g.544o           HOG:0185101.6a                                1.000000   \n",
      "HOG:0586914.1b.7k.12n.10f                          HOG:0366174                                   0.000000   \n",
      "HOG:0586940.5d.15a.24b                             HOG:0585607.30ar.616a.707c                    0.667160   \n",
      "HOG:0587116.3e.4c                                  HOG:0578869.3d.74as.348a.466b                 1.000000   \n",
      "HOG:0587914.14a                                    HOG:0587914.14a                               1.000000   \n",
      "HOG:0588074.7c.17i.27d.30a                         HOG:0185378.1m                                0.000000   \n",
      "HOG:0588091.1a.25bc.752ag.838a                     HOG:0517289.5b                                0.643579   \n",
      "HOG:0588093.1c.27cn.386b.340d                      HOG:0515041                                   0.000000   \n",
      "HOG:0588093.2e.38a.444a.407a                       HOG:0020382.1a                                1.000000   \n",
      "HOG:0588159.13a.30b.20b                            HOG:0517289.5b                                0.000000   \n",
      "HOG:0588437.3a.55e.214h.225b.115c                  HOG:0185378.1m                                0.000000   \n",
      "HOG:0588760.10m.52b.48a                            HOG:0587914.14a                               0.994607   \n",
      "HOG:0588892.10j.42b                                HOG:0587914.14a                               0.562260   \n",
      "\n",
      "                                                                                                 ResnikAvg  \\\n",
      "HOG:0010549.1b                                     HOG:0020382.1a                                 0.000000   \n",
      "HOG:0010684.1b                                     HOG:0020382.1a                                 0.000000   \n",
      "HOG:0010801.1b                                     HOG:0020382.1a                                 0.000000   \n",
      "HOG:0010837.1c                                     HOG:0020382.1a                                 3.115488   \n",
      "HOG:0010915.1a                                     HOG:0020382.1a                                 0.000000   \n",
      "HOG:0011111.1a                                     HOG:0020382.1a                                 0.000000   \n",
      "HOG:0012349.2a                                     HOG:0020382.1a                                 0.000000   \n",
      "HOG:0012457.3b                                     HOG:0020382.1a                                 0.000000   \n",
      "HOG:0012592.1f                                     HOG:0020382.1a                                 0.000000   \n",
      "HOG:0012601.2b                                     HOG:0020382.1a                                 3.795241   \n",
      "HOG:0012723.1b                                     HOG:0020382.1a                                 3.795241   \n",
      "HOG:0012996.1a.1b                                  HOG:0020382.1a                                 0.000000   \n",
      "HOG:0013312.2c.1a                                  HOG:0020382.1a                                 0.000000   \n",
      "HOG:0013405.1b                                     HOG:0020382.1a                                 0.000000   \n",
      "HOG:0014319.2b                                     HOG:0020382.1a                                 0.000000   \n",
      "HOG:0017448.3b                                     HOG:0020382.1a                                 3.795241   \n",
      "HOG:0017468.1a.1a                                  HOG:0020382.1a                                 3.795241   \n",
      "HOG:0017642.1a                                     HOG:0020382.1a                                 0.000000   \n",
      "HOG:0018403.3b.1a                                  HOG:0020382.1a                                 0.000000   \n",
      "HOG:0020014.2a                                     HOG:0020382.1a                                 0.000000   \n",
      "HOG:0020382.1a                                     HOG:0020382.1a                                 6.679360   \n",
      "HOG:0032363                                        HOG:0032569                                    0.000000   \n",
      "HOG:0032443                                        HOG:0032569                                    0.000000   \n",
      "HOG:0032446                                        HOG:0032569                                    0.000000   \n",
      "HOG:0032461                                        HOG:0032569                                    0.000000   \n",
      "HOG:0032482                                        HOG:0032569                                    0.000000   \n",
      "HOG:0032494                                        HOG:0032569                                    0.000000   \n",
      "HOG:0032524                                        HOG:0032569                                    0.000000   \n",
      "HOG:0032832                                        HOG:0032569                                    0.000000   \n",
      "HOG:0032869                                        HOG:0032569                                    0.000000   \n",
      "...                                                                                                    ...   \n",
      "HOG:0586092.13i.76g.187b.134a                      HOG:0517289.5b                                 3.335021   \n",
      "HOG:0586341.9a                                     HOG:0515041                                    0.000000   \n",
      "HOG:0586536.1a.18r.58h.138e                        HOG:0585607.30ar.616a.707c                     3.335021   \n",
      "HOG:0586565.8o.25c.14b                             HOG:0571911.3a.2b.4a                           4.247960   \n",
      "HOG:0586565.8o.25c.14d                             HOG:0571911.3a.2b.4a                           4.247960   \n",
      "HOG:0586573.22f.112b.170b                          HOG:0585607.30ar.616a.707c                     3.335021   \n",
      "HOG:0586691.1b                                     HOG:0515041                                    0.000000   \n",
      "HOG:0586762.12g.41a.32a                            HOG:0517289.5b                                 0.000000   \n",
      "HOG:0586773.1a.6b.10c                              HOG:0185101.6a                                 0.000000   \n",
      "HOG:0586855.1g.21cg                                HOG:0582311.1a                                 3.998125   \n",
      "HOG:0586855.1g.21ez                                HOG:0582311.1a                                 3.998125   \n",
      "HOG:0586855.2o.54a.737a.924i                       HOG:0020382.1a                                 3.795241   \n",
      "HOG:0586855.3d.65br.843a.1072a                     HOG:0578869.3d.74as.348a.466b                  4.872795   \n",
      "HOG:0586855.3d.71dn.960y.1230a.545b.289a.192d.133d HOG:0586914.1b.7k.12a.4h.17b.18d.25b.25a.17a   3.115488   \n",
      "HOG:0586877.3c.22dp.441f.620a.437b.342b.183c       HOG:0586914.1b.7k.12a.4h.17b.18d.25b.25a.17a   3.115488   \n",
      "HOG:0586877.3c.22dp.441i.623b.441b.353b.246a       HOG:0586914.1b.7k.12a.4h.17b.18d.25b.25a.17a   3.115488   \n",
      "HOG:0586877.3c.22dp.443ch.783b.610g.544l           HOG:0185101.6a                                 4.015969   \n",
      "HOG:0586877.3c.22dp.443ch.783b.610g.544o           HOG:0185101.6a                                 4.015969   \n",
      "HOG:0586914.1b.7k.12n.10f                          HOG:0366174                                    0.000000   \n",
      "HOG:0586940.5d.15a.24b                             HOG:0585607.30ar.616a.707c                     2.940902   \n",
      "HOG:0587116.3e.4c                                  HOG:0578869.3d.74as.348a.466b                  5.869378   \n",
      "HOG:0587914.14a                                    HOG:0587914.14a                               11.129823   \n",
      "HOG:0588074.7c.17i.27d.30a                         HOG:0185378.1m                                 0.000000   \n",
      "HOG:0588091.1a.25bc.752ag.838a                     HOG:0517289.5b                                 3.335021   \n",
      "HOG:0588093.1c.27cn.386b.340d                      HOG:0515041                                    0.000000   \n",
      "HOG:0588093.2e.38a.444a.407a                       HOG:0020382.1a                                 3.795241   \n",
      "HOG:0588159.13a.30b.20b                            HOG:0517289.5b                                 0.000000   \n",
      "HOG:0588437.3a.55e.214h.225b.115c                  HOG:0185378.1m                                 0.000000   \n",
      "HOG:0588760.10m.52b.48a                            HOG:0587914.14a                                4.018204   \n",
      "HOG:0588892.10j.42b                                HOG:0587914.14a                                4.018204   \n",
      "\n",
      "                                                                                                 ResnikMax  \\\n",
      "HOG:0010549.1b                                     HOG:0020382.1a                                 0.000000   \n",
      "HOG:0010684.1b                                     HOG:0020382.1a                                 0.000000   \n",
      "HOG:0010801.1b                                     HOG:0020382.1a                                 0.000000   \n",
      "HOG:0010837.1c                                     HOG:0020382.1a                                 3.115488   \n",
      "HOG:0010915.1a                                     HOG:0020382.1a                                 0.000000   \n",
      "HOG:0011111.1a                                     HOG:0020382.1a                                 0.000000   \n",
      "HOG:0012349.2a                                     HOG:0020382.1a                                 0.000000   \n",
      "HOG:0012457.3b                                     HOG:0020382.1a                                 0.000000   \n",
      "HOG:0012592.1f                                     HOG:0020382.1a                                 0.000000   \n",
      "HOG:0012601.2b                                     HOG:0020382.1a                                 3.795241   \n",
      "HOG:0012723.1b                                     HOG:0020382.1a                                 3.795241   \n",
      "HOG:0012996.1a.1b                                  HOG:0020382.1a                                 0.000000   \n",
      "HOG:0013312.2c.1a                                  HOG:0020382.1a                                 0.000000   \n",
      "HOG:0013405.1b                                     HOG:0020382.1a                                 0.000000   \n",
      "HOG:0014319.2b                                     HOG:0020382.1a                                 0.000000   \n",
      "HOG:0017448.3b                                     HOG:0020382.1a                                 3.795241   \n",
      "HOG:0017468.1a.1a                                  HOG:0020382.1a                                 3.795241   \n",
      "HOG:0017642.1a                                     HOG:0020382.1a                                 0.000000   \n",
      "HOG:0018403.3b.1a                                  HOG:0020382.1a                                 0.000000   \n",
      "HOG:0020014.2a                                     HOG:0020382.1a                                 0.000000   \n",
      "HOG:0020382.1a                                     HOG:0020382.1a                                 6.679360   \n",
      "HOG:0032363                                        HOG:0032569                                    0.000000   \n",
      "HOG:0032443                                        HOG:0032569                                    0.000000   \n",
      "HOG:0032446                                        HOG:0032569                                    0.000000   \n",
      "HOG:0032461                                        HOG:0032569                                    0.000000   \n",
      "HOG:0032482                                        HOG:0032569                                    0.000000   \n",
      "HOG:0032494                                        HOG:0032569                                    0.000000   \n",
      "HOG:0032524                                        HOG:0032569                                    0.000000   \n",
      "HOG:0032832                                        HOG:0032569                                    0.000000   \n",
      "HOG:0032869                                        HOG:0032569                                    0.000000   \n",
      "...                                                                                                    ...   \n",
      "HOG:0586092.13i.76g.187b.134a                      HOG:0517289.5b                                 3.335021   \n",
      "HOG:0586341.9a                                     HOG:0515041                                    0.000000   \n",
      "HOG:0586536.1a.18r.58h.138e                        HOG:0585607.30ar.616a.707c                     3.335021   \n",
      "HOG:0586565.8o.25c.14b                             HOG:0571911.3a.2b.4a                           4.247960   \n",
      "HOG:0586565.8o.25c.14d                             HOG:0571911.3a.2b.4a                           4.247960   \n",
      "HOG:0586573.22f.112b.170b                          HOG:0585607.30ar.616a.707c                     3.335021   \n",
      "HOG:0586691.1b                                     HOG:0515041                                    0.000000   \n",
      "HOG:0586762.12g.41a.32a                            HOG:0517289.5b                                 0.000000   \n",
      "HOG:0586773.1a.6b.10c                              HOG:0185101.6a                                 0.000000   \n",
      "HOG:0586855.1g.21cg                                HOG:0582311.1a                                 3.998125   \n",
      "HOG:0586855.1g.21ez                                HOG:0582311.1a                                 3.998125   \n",
      "HOG:0586855.2o.54a.737a.924i                       HOG:0020382.1a                                 3.795241   \n",
      "HOG:0586855.3d.65br.843a.1072a                     HOG:0578869.3d.74as.348a.466b                  4.872795   \n",
      "HOG:0586855.3d.71dn.960y.1230a.545b.289a.192d.133d HOG:0586914.1b.7k.12a.4h.17b.18d.25b.25a.17a   3.115488   \n",
      "HOG:0586877.3c.22dp.441f.620a.437b.342b.183c       HOG:0586914.1b.7k.12a.4h.17b.18d.25b.25a.17a   3.115488   \n",
      "HOG:0586877.3c.22dp.441i.623b.441b.353b.246a       HOG:0586914.1b.7k.12a.4h.17b.18d.25b.25a.17a   3.115488   \n",
      "HOG:0586877.3c.22dp.443ch.783b.610g.544l           HOG:0185101.6a                                 4.015969   \n",
      "HOG:0586877.3c.22dp.443ch.783b.610g.544o           HOG:0185101.6a                                 4.015969   \n",
      "HOG:0586914.1b.7k.12n.10f                          HOG:0366174                                    0.000000   \n",
      "HOG:0586940.5d.15a.24b                             HOG:0585607.30ar.616a.707c                     3.335021   \n",
      "HOG:0587116.3e.4c                                  HOG:0578869.3d.74as.348a.466b                  5.869378   \n",
      "HOG:0587914.14a                                    HOG:0587914.14a                               11.129823   \n",
      "HOG:0588074.7c.17i.27d.30a                         HOG:0185378.1m                                 0.000000   \n",
      "HOG:0588091.1a.25bc.752ag.838a                     HOG:0517289.5b                                 3.335021   \n",
      "HOG:0588093.1c.27cn.386b.340d                      HOG:0515041                                    0.000000   \n",
      "HOG:0588093.2e.38a.444a.407a                       HOG:0020382.1a                                 3.795241   \n",
      "HOG:0588159.13a.30b.20b                            HOG:0517289.5b                                 0.000000   \n",
      "HOG:0588437.3a.55e.214h.225b.115c                  HOG:0185378.1m                                 0.000000   \n",
      "HOG:0588760.10m.52b.48a                            HOG:0587914.14a                                4.018204   \n",
      "HOG:0588892.10j.42b                                HOG:0587914.14a                                4.018204   \n",
      "\n",
      "                                                                                                 jaccard  \\\n",
      "HOG:0010549.1b                                     HOG:0020382.1a                                   1.00   \n",
      "HOG:0010684.1b                                     HOG:0020382.1a                                   1.00   \n",
      "HOG:0010801.1b                                     HOG:0020382.1a                                   1.00   \n",
      "HOG:0010837.1c                                     HOG:0020382.1a                                   1.00   \n",
      "HOG:0010915.1a                                     HOG:0020382.1a                                   1.00   \n",
      "HOG:0011111.1a                                     HOG:0020382.1a                                   1.00   \n",
      "HOG:0012349.2a                                     HOG:0020382.1a                                   1.00   \n",
      "HOG:0012457.3b                                     HOG:0020382.1a                                   1.00   \n",
      "HOG:0012592.1f                                     HOG:0020382.1a                                   1.00   \n",
      "HOG:0012601.2b                                     HOG:0020382.1a                                   1.00   \n",
      "HOG:0012723.1b                                     HOG:0020382.1a                                   1.00   \n",
      "HOG:0012996.1a.1b                                  HOG:0020382.1a                                   1.00   \n",
      "HOG:0013312.2c.1a                                  HOG:0020382.1a                                   1.00   \n",
      "HOG:0013405.1b                                     HOG:0020382.1a                                   1.00   \n",
      "HOG:0014319.2b                                     HOG:0020382.1a                                   1.00   \n",
      "HOG:0017448.3b                                     HOG:0020382.1a                                   1.00   \n",
      "HOG:0017468.1a.1a                                  HOG:0020382.1a                                   1.00   \n",
      "HOG:0017642.1a                                     HOG:0020382.1a                                   1.00   \n",
      "HOG:0018403.3b.1a                                  HOG:0020382.1a                                   1.00   \n",
      "HOG:0020014.2a                                     HOG:0020382.1a                                   1.00   \n",
      "HOG:0020382.1a                                     HOG:0020382.1a                                   1.00   \n",
      "HOG:0032363                                        HOG:0032569                                      1.00   \n",
      "HOG:0032443                                        HOG:0032569                                      1.00   \n",
      "HOG:0032446                                        HOG:0032569                                      1.00   \n",
      "HOG:0032461                                        HOG:0032569                                      1.00   \n",
      "HOG:0032482                                        HOG:0032569                                      1.00   \n",
      "HOG:0032494                                        HOG:0032569                                      1.00   \n",
      "HOG:0032524                                        HOG:0032569                                      1.00   \n",
      "HOG:0032832                                        HOG:0032569                                      1.00   \n",
      "HOG:0032869                                        HOG:0032569                                      1.00   \n",
      "...                                                                                                  ...   \n",
      "HOG:0586092.13i.76g.187b.134a                      HOG:0517289.5b                                   1.00   \n",
      "HOG:0586341.9a                                     HOG:0515041                                      0.47   \n",
      "HOG:0586536.1a.18r.58h.138e                        HOG:0585607.30ar.616a.707c                       1.00   \n",
      "HOG:0586565.8o.25c.14b                             HOG:0571911.3a.2b.4a                             1.00   \n",
      "HOG:0586565.8o.25c.14d                             HOG:0571911.3a.2b.4a                             1.00   \n",
      "HOG:0586573.22f.112b.170b                          HOG:0585607.30ar.616a.707c                       1.00   \n",
      "HOG:0586691.1b                                     HOG:0515041                                      0.47   \n",
      "HOG:0586762.12g.41a.32a                            HOG:0517289.5b                                   1.00   \n",
      "HOG:0586773.1a.6b.10c                              HOG:0185101.6a                                   1.00   \n",
      "HOG:0586855.1g.21cg                                HOG:0582311.1a                                   0.78   \n",
      "HOG:0586855.1g.21ez                                HOG:0582311.1a                                   0.78   \n",
      "HOG:0586855.2o.54a.737a.924i                       HOG:0020382.1a                                   1.00   \n",
      "HOG:0586855.3d.65br.843a.1072a                     HOG:0578869.3d.74as.348a.466b                    1.00   \n",
      "HOG:0586855.3d.71dn.960y.1230a.545b.289a.192d.133d HOG:0586914.1b.7k.12a.4h.17b.18d.25b.25a.17a     1.00   \n",
      "HOG:0586877.3c.22dp.441f.620a.437b.342b.183c       HOG:0586914.1b.7k.12a.4h.17b.18d.25b.25a.17a     1.00   \n",
      "HOG:0586877.3c.22dp.441i.623b.441b.353b.246a       HOG:0586914.1b.7k.12a.4h.17b.18d.25b.25a.17a     1.00   \n",
      "HOG:0586877.3c.22dp.443ch.783b.610g.544l           HOG:0185101.6a                                   1.00   \n",
      "HOG:0586877.3c.22dp.443ch.783b.610g.544o           HOG:0185101.6a                                   1.00   \n",
      "HOG:0586914.1b.7k.12n.10f                          HOG:0366174                                      0.63   \n",
      "HOG:0586940.5d.15a.24b                             HOG:0585607.30ar.616a.707c                       1.00   \n",
      "HOG:0587116.3e.4c                                  HOG:0578869.3d.74as.348a.466b                    1.00   \n",
      "HOG:0587914.14a                                    HOG:0587914.14a                                  1.00   \n",
      "HOG:0588074.7c.17i.27d.30a                         HOG:0185378.1m                                   1.00   \n",
      "HOG:0588091.1a.25bc.752ag.838a                     HOG:0517289.5b                                   0.89   \n",
      "HOG:0588093.1c.27cn.386b.340d                      HOG:0515041                                      0.51   \n",
      "HOG:0588093.2e.38a.444a.407a                       HOG:0020382.1a                                   1.00   \n",
      "HOG:0588159.13a.30b.20b                            HOG:0517289.5b                                   0.89   \n",
      "HOG:0588437.3a.55e.214h.225b.115c                  HOG:0185378.1m                                   1.00   \n",
      "HOG:0588760.10m.52b.48a                            HOG:0587914.14a                                  0.84   \n",
      "HOG:0588892.10j.42b                                HOG:0587914.14a                                  1.00   \n",
      "\n",
      "                                                                                                   linMax  \n",
      "HOG:0010549.1b                                     HOG:0020382.1a                                0.000000  \n",
      "HOG:0010684.1b                                     HOG:0020382.1a                                0.000000  \n",
      "HOG:0010801.1b                                     HOG:0020382.1a                                0.000000  \n",
      "HOG:0010837.1c                                     HOG:0020382.1a                                0.875923  \n",
      "HOG:0010915.1a                                     HOG:0020382.1a                                0.000000  \n",
      "HOG:0011111.1a                                     HOG:0020382.1a                                0.000000  \n",
      "HOG:0012349.2a                                     HOG:0020382.1a                                0.000000  \n",
      "HOG:0012457.3b                                     HOG:0020382.1a                                0.000000  \n",
      "HOG:0012592.1f                                     HOG:0020382.1a                                0.000000  \n",
      "HOG:0012601.2b                                     HOG:0020382.1a                                1.000000  \n",
      "HOG:0012723.1b                                     HOG:0020382.1a                                0.652575  \n",
      "HOG:0012996.1a.1b                                  HOG:0020382.1a                                0.000000  \n",
      "HOG:0013312.2c.1a                                  HOG:0020382.1a                                0.000000  \n",
      "HOG:0013405.1b                                     HOG:0020382.1a                                0.000000  \n",
      "HOG:0014319.2b                                     HOG:0020382.1a                                0.000000  \n",
      "HOG:0017448.3b                                     HOG:0020382.1a                                0.683120  \n",
      "HOG:0017468.1a.1a                                  HOG:0020382.1a                                2.000000  \n",
      "HOG:0017642.1a                                     HOG:0020382.1a                                0.000000  \n",
      "HOG:0018403.3b.1a                                  HOG:0020382.1a                                0.000000  \n",
      "HOG:0020014.2a                                     HOG:0020382.1a                                0.000000  \n",
      "HOG:0020382.1a                                     HOG:0020382.1a                                1.000000  \n",
      "HOG:0032363                                        HOG:0032569                                   0.000000  \n",
      "HOG:0032443                                        HOG:0032569                                   0.000000  \n",
      "HOG:0032446                                        HOG:0032569                                   0.000000  \n",
      "HOG:0032461                                        HOG:0032569                                   0.000000  \n",
      "HOG:0032482                                        HOG:0032569                                   0.000000  \n",
      "HOG:0032494                                        HOG:0032569                                   0.000000  \n",
      "HOG:0032524                                        HOG:0032569                                   0.000000  \n",
      "HOG:0032832                                        HOG:0032569                                   0.000000  \n",
      "HOG:0032869                                        HOG:0032569                                   0.000000  \n",
      "...                                                                                                   ...  \n",
      "HOG:0586092.13i.76g.187b.134a                      HOG:0517289.5b                                0.369000  \n",
      "HOG:0586341.9a                                     HOG:0515041                                   0.000000  \n",
      "HOG:0586536.1a.18r.58h.138e                        HOG:0585607.30ar.616a.707c                    0.446110  \n",
      "HOG:0586565.8o.25c.14b                             HOG:0571911.3a.2b.4a                          0.816467  \n",
      "HOG:0586565.8o.25c.14d                             HOG:0571911.3a.2b.4a                          0.816467  \n",
      "HOG:0586573.22f.112b.170b                          HOG:0585607.30ar.616a.707c                    0.469509  \n",
      "HOG:0586691.1b                                     HOG:0515041                                   0.000000  \n",
      "HOG:0586762.12g.41a.32a                            HOG:0517289.5b                                0.000000  \n",
      "HOG:0586773.1a.6b.10c                              HOG:0185101.6a                                0.000000  \n",
      "HOG:0586855.1g.21cg                                HOG:0582311.1a                                1.293234  \n",
      "HOG:0586855.1g.21ez                                HOG:0582311.1a                                1.293234  \n",
      "HOG:0586855.2o.54a.737a.924i                       HOG:0020382.1a                                2.000000  \n",
      "HOG:0586855.3d.65br.843a.1072a                     HOG:0578869.3d.74as.348a.466b                 1.000000  \n",
      "HOG:0586855.3d.71dn.960y.1230a.545b.289a.192d.133d HOG:0586914.1b.7k.12a.4h.17b.18d.25b.25a.17a  0.690553  \n",
      "HOG:0586877.3c.22dp.441f.620a.437b.342b.183c       HOG:0586914.1b.7k.12a.4h.17b.18d.25b.25a.17a  0.690553  \n",
      "HOG:0586877.3c.22dp.441i.623b.441b.353b.246a       HOG:0586914.1b.7k.12a.4h.17b.18d.25b.25a.17a  0.690553  \n",
      "HOG:0586877.3c.22dp.443ch.783b.610g.544l           HOG:0185101.6a                                1.000000  \n",
      "HOG:0586877.3c.22dp.443ch.783b.610g.544o           HOG:0185101.6a                                1.000000  \n",
      "HOG:0586914.1b.7k.12n.10f                          HOG:0366174                                   0.000000  \n",
      "HOG:0586940.5d.15a.24b                             HOG:0585607.30ar.616a.707c                    0.667160  \n",
      "HOG:0587116.3e.4c                                  HOG:0578869.3d.74as.348a.466b                 1.000000  \n",
      "HOG:0587914.14a                                    HOG:0587914.14a                               1.000000  \n",
      "HOG:0588074.7c.17i.27d.30a                         HOG:0185378.1m                                0.000000  \n",
      "HOG:0588091.1a.25bc.752ag.838a                     HOG:0517289.5b                                0.643579  \n",
      "HOG:0588093.1c.27cn.386b.340d                      HOG:0515041                                   0.000000  \n",
      "HOG:0588093.2e.38a.444a.407a                       HOG:0020382.1a                                1.000000  \n",
      "HOG:0588159.13a.30b.20b                            HOG:0517289.5b                                0.000000  \n",
      "HOG:0588437.3a.55e.214h.225b.115c                  HOG:0185378.1m                                0.000000  \n",
      "HOG:0588760.10m.52b.48a                            HOG:0587914.14a                               1.558474  \n",
      "HOG:0588892.10j.42b                                HOG:0587914.14a                               0.632568  \n",
      "\n",
      "[480 rows x 5 columns]\n"
     ]
    }
   ],
   "source": [
    "import pandas as pd\n",
    "with open( './random_results0.pkl' , 'r') as handle:\n",
    "    results = pickle.load(handle)\n",
    "finaldataframe = pd.DataFrame.from_dict(results).transpose()\n",
    "print finaldataframe"
   ]
  },
  {
   "cell_type": "code",
   "execution_count": 96,
   "metadata": {},
   "outputs": [
    {
     "data": {
      "image/png": "[encoded data removed]",
      "text/plain": [
       "<matplotlib.figure.Figure at 0x7f6c077fc710>"
      ]
     },
     "metadata": {},
     "output_type": "display_data"
    },
    {
     "data": {
      "image/png": "[encoded data removed]",
      "text/plain": [
       "<matplotlib.figure.Figure at 0x7f6c079da190>"
      ]
     },
     "metadata": {},
     "output_type": "display_data"
    },
    {
     "data": {
      "image/png": "[encoded data removed]",
      "text/plain": [
       "<matplotlib.figure.Figure at 0x7f6c07d84490>"
      ]
     },
     "metadata": {},
     "output_type": "display_data"
    }
   ],
   "source": [
    "finaldataframe.plot.scatter(x = 'LinAvg' , y = 'jaccard')\n",
    "\n",
    "finaldataframe.plot.scatter(x = 'ResnikAvg' , y = 'jaccard')\n",
    "plt.show()\n",
    "\n",
    "finaldataframe.plot.scatter(x = 'ResnikAvg' , y = 'LinAvg')\n",
    "plt.show()\n"
   ]
  },
  {
   "cell_type": "code",
   "execution_count": null,
   "metadata": {},
   "outputs": [],
   "source": [
    "\n",
    "\n",
    "\n",
    "#use tensorflow regressor to predict the resnik distance between profiles\n",
    "#generate dataset: rownumber, rownumber query, jaccard, seqMI, resnik\n",
    "\n",
    "\n"
   ]
  },
  {
   "cell_type": "code",
   "execution_count": null,
   "metadata": {},
   "outputs": [],
   "source": []
  },
  {
   "cell_type": "code",
   "execution_count": null,
   "metadata": {},
   "outputs": [],
   "source": [
    "print h5file.root.Protein.Entries.description"
   ]
  },
  {
   "cell_type": "code",
   "execution_count": null,
   "metadata": {},
   "outputs": [],
   "source": []
  },
  {
   "cell_type": "code",
   "execution_count": null,
   "metadata": {},
   "outputs": [],
   "source": []
  }
 ],
 "metadata": {
  "kernelspec": {
   "display_name": "Python 3",
   "language": "python",
   "name": "python3"
  },
  "language_info": {
   "codemirror_mode": {
    "name": "ipython",
    "version": 3
   },
   "file_extension": ".py",
   "mimetype": "text/x-python",
   "name": "python",
   "nbconvert_exporter": "python",
   "pygments_lexer": "ipython3",
   "version": "3.5.2"
  }
 },
 "nbformat": 4,
 "nbformat_minor": 2
}
